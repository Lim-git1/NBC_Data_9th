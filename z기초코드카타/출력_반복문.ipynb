{
 "cells": [
  {
   "cell_type": "code",
   "execution_count": 2,
   "id": "c95b01da",
   "metadata": {},
   "outputs": [
    {
     "name": "stdout",
     "output_type": "stream",
     "text": [
      "Hello World Hello World Hello World Hello World Hello World \n"
     ]
    }
   ],
   "source": [
    "#숙제1\n",
    "#Hello World를 5번 출력\n",
    "\n",
    "print('Hello World '*5)"
   ]
  },
  {
   "cell_type": "code",
   "execution_count": null,
   "id": "2512cd50",
   "metadata": {},
   "outputs": [
    {
     "name": "stdout",
     "output_type": "stream",
     "text": [
      "2\n",
      "4\n",
      "6\n",
      "8\n",
      "10\n",
      "12\n",
      "14\n",
      "16\n",
      "18\n",
      "20\n",
      "22\n",
      "24\n",
      "26\n",
      "28\n",
      "30\n",
      "32\n",
      "34\n",
      "36\n",
      "38\n",
      "40\n",
      "42\n",
      "44\n"
     ]
    }
   ],
   "source": [
    "# #숙제2\n",
    "# #1부터 44까지 짝수만 출력\n",
    "# # % 2 == 0, % 1 == 0 다 해보기\n",
    "\n",
    "for i in range(1,45):\n",
    "    if i % 2 == 0 :\n",
    "        print(i)\n",
    "        \n",
    "for j in range(2,45,2) :\n",
    "    if j % 1 == 0 : # ?? 이건 왜 해보라고 하신걸까요?\n",
    "        print(i)\n",
    "        "
   ]
  },
  {
   "cell_type": "code",
   "execution_count": 9,
   "id": "113d4f07",
   "metadata": {},
   "outputs": [
    {
     "name": "stdout",
     "output_type": "stream",
     "text": [
      "1\n",
      "8\n",
      "3\n",
      "16\n",
      "5\n",
      "24\n",
      "7\n",
      "32\n",
      "9\n",
      "40\n",
      "11\n",
      "48\n",
      "13\n",
      "56\n",
      "15\n",
      "64\n",
      "17\n",
      "72\n",
      "19\n",
      "80\n",
      "21\n",
      "88\n",
      "23\n",
      "96\n",
      "25\n",
      "104\n",
      "27\n",
      "112\n",
      "29\n",
      "120\n",
      "31\n",
      "128\n",
      "33\n",
      "136\n",
      "35\n",
      "144\n",
      "37\n",
      "152\n",
      "39\n",
      "160\n",
      "41\n",
      "168\n",
      "43\n",
      "176\n"
     ]
    }
   ],
   "source": [
    "#숙제3\n",
    "#1부터 44까지 짝수는 * 4, 홀수 그냥 출력\n",
    "\n",
    "for i in range(1,45) :\n",
    "    if i % 2 == 0 :\n",
    "        print(i*4)\n",
    "    else : print(i)"
   ]
  },
  {
   "cell_type": "code",
   "execution_count": 11,
   "id": "ebcf9be0",
   "metadata": {},
   "outputs": [
    {
     "name": "stdout",
     "output_type": "stream",
     "text": [
      "Hello World\n",
      "Hello World\n",
      "Hello World\n",
      "Hello World\n"
     ]
    }
   ],
   "source": [
    "#숙제4\n",
    "#Hello World 4번 출력\n",
    "\n",
    "cnt = 0\n",
    "\n",
    "while (cnt!=4):\n",
    "    print('Hello World')\n",
    "    cnt += 1"
   ]
  },
  {
   "cell_type": "code",
   "execution_count": 12,
   "id": "fdd664b6",
   "metadata": {},
   "outputs": [
    {
     "name": "stdout",
     "output_type": "stream",
     "text": [
      "1\n",
      "2\n",
      "3\n",
      "4\n",
      "5\n"
     ]
    }
   ],
   "source": [
    "#숙제5\n",
    "#numbers = [1, 2, 3, 4, 5]\n",
    "#순회를 돌아 numbers 요소 출력\n",
    "\n",
    "numbers = [1, 2, 3, 4, 5]\n",
    "for i in numbers :\n",
    "    print(i)"
   ]
  },
  {
   "cell_type": "code",
   "execution_count": 15,
   "id": "8278a7d5",
   "metadata": {},
   "outputs": [
    {
     "name": "stdout",
     "output_type": "stream",
     "text": [
      "10\n"
     ]
    }
   ],
   "source": [
    "#숙제6\n",
    "#1부터 4까지 합 계산\n",
    "\n",
    "sum=0\n",
    "for i in range(1,5) :\n",
    "    sum += i\n",
    "print(sum)"
   ]
  },
  {
   "cell_type": "code",
   "execution_count": null,
   "id": "acdd2e41",
   "metadata": {},
   "outputs": [
    {
     "name": "stdout",
     "output_type": "stream",
     "text": [
      "입력값 : 3\n",
      "3 * 1 = 3\n",
      "3 * 2 = 6\n",
      "3 * 3 = 9\n",
      "3 * 4 = 12\n",
      "3 * 5 = 15\n",
      "3 * 6 = 18\n",
      "3 * 7 = 21\n",
      "3 * 8 = 24\n",
      "3 * 9 = 27\n"
     ]
    }
   ],
   "source": [
    "#숙제7\n",
    "#사용자가 입력한 숫자의 구구단을 출력 (input)\n",
    "#예시)\n",
    "#입력값 : 3\n",
    "#아래는 출력 값\n",
    "#3 * 1 = 3\n",
    "#3 * 2 = 6\n",
    "#3 * 3 = 9\n",
    "#...\n",
    "\n",
    "user_input = int(input('입력값 : '))\n",
    "for i in range(1,10) :\n",
    "    print(f\"{user_input} * {i} = {user_input*i}\")"
   ]
  },
  {
   "cell_type": "code",
   "execution_count": null,
   "id": "0d76ebf4",
   "metadata": {},
   "outputs": [
    {
     "ename": "IndexError",
     "evalue": "list index out of range",
     "output_type": "error",
     "traceback": [
      "\u001b[0;31m---------------------------------------------------------------------------\u001b[0m",
      "\u001b[0;31mIndexError\u001b[0m                                Traceback (most recent call last)",
      "Cell \u001b[0;32mIn[30], line 10\u001b[0m\n\u001b[1;32m      8\u001b[0m c\u001b[38;5;241m=\u001b[39m[]\n\u001b[1;32m      9\u001b[0m \u001b[38;5;28;01mfor\u001b[39;00m i \u001b[38;5;129;01min\u001b[39;00m \u001b[38;5;28mrange\u001b[39m(\u001b[38;5;241m0\u001b[39m,\u001b[38;5;241m14\u001b[39m) :\n\u001b[0;32m---> 10\u001b[0m     c[i\u001b[38;5;241m+\u001b[39m\u001b[38;5;241m2\u001b[39m] \u001b[38;5;241m=\u001b[39m \u001b[43mc\u001b[49m\u001b[43m[\u001b[49m\u001b[43mi\u001b[49m\u001b[43m]\u001b[49m \u001b[38;5;241m+\u001b[39m c[i\u001b[38;5;241m+\u001b[39m\u001b[38;5;241m1\u001b[39m]\n\u001b[1;32m     11\u001b[0m     \u001b[38;5;28mprint\u001b[39m(c)\n\u001b[1;32m     12\u001b[0m \u001b[38;5;28mprint\u001b[39m(c)\n",
      "\u001b[0;31mIndexError\u001b[0m: list index out of range"
     ]
    }
   ],
   "source": [
    "#숙제8 (어려움 모르면 패스)\n",
    "#피보나치 수열에서 14개만 출력\n",
    "#a, b = 1, 1\n",
    "#for문\n",
    "#출력 \n",
    "\n",
    "a, b = 1, 1\n",
    "c=[]\n",
    "for i in range(0,14) :\n",
    "    c[i+2] = c[i] + c[i+1]\n",
    "    print(c)\n",
    "print(c)"
   ]
  },
  {
   "cell_type": "code",
   "execution_count": null,
   "id": "244af6f7",
   "metadata": {},
   "outputs": [],
   "source": []
  },
  {
   "cell_type": "code",
   "execution_count": null,
   "id": "7109afe3",
   "metadata": {},
   "outputs": [],
   "source": []
  }
 ],
 "metadata": {
  "kernelspec": {
   "display_name": "Python 3",
   "language": "python",
   "name": "python3"
  },
  "language_info": {
   "codemirror_mode": {
    "name": "ipython",
    "version": 3
   },
   "file_extension": ".py",
   "mimetype": "text/x-python",
   "name": "python",
   "nbconvert_exporter": "python",
   "pygments_lexer": "ipython3",
   "version": "3.10.10"
  }
 },
 "nbformat": 4,
 "nbformat_minor": 5
}
