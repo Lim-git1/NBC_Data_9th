{
 "cells": [
  {
   "cell_type": "markdown",
   "metadata": {},
   "source": [
    "## 문제 1\n",
    "화면에 Hello World 문자열을 출력하세요."
   ]
  },
  {
   "cell_type": "code",
   "execution_count": 1,
   "metadata": {},
   "outputs": [
    {
     "name": "stdout",
     "output_type": "stream",
     "text": [
      "Hello World\n"
     ]
    }
   ],
   "source": [
    "print(\"Hello World\")"
   ]
  },
  {
   "cell_type": "markdown",
   "metadata": {},
   "source": [
    "## 문제 2\n",
    "화면에 MR'S JUNSEOK을 출력하세요."
   ]
  },
  {
   "cell_type": "code",
   "execution_count": 2,
   "metadata": {},
   "outputs": [
    {
     "name": "stdout",
     "output_type": "stream",
     "text": [
      "MR'S JINSEOK\n"
     ]
    }
   ],
   "source": [
    "print(\"MR\\'S JINSEOK\")"
   ]
  },
  {
   "cell_type": "markdown",
   "metadata": {
    "vscode": {
     "languageId": "plaintext"
    }
   },
   "source": [
    "## 문제 3\n",
    "변수 name과 age를 사용하여 다음과 같이 출력하는 코드를 작성하세요."
   ]
  },
  {
   "cell_type": "raw",
   "metadata": {
    "vscode": {
     "languageId": "raw"
    }
   },
   "source": [
    "출력 예시 : \n",
    "\n",
    "천준석님의 나이는 30살입니다."
   ]
  },
  {
   "cell_type": "code",
   "execution_count": 4,
   "metadata": {},
   "outputs": [
    {
     "name": "stdout",
     "output_type": "stream",
     "text": [
      "천준석님의 나이는 30살입니다.\n"
     ]
    }
   ],
   "source": [
    "# 문자열 포맷팅\n",
    "# f-string\n",
    "\n",
    "# format\n",
    "\n",
    "name = input(\"이름이 무엇입니까?\")\n",
    "age = input(\"나이가 어떻게 됩니까?\")\n",
    "print(f\"{name}님의 나이는 {age}살입니다.\")"
   ]
  },
  {
   "cell_type": "markdown",
   "metadata": {},
   "source": [
    "## 문제 4\n",
    "다음 코드의 출력 결과를 예측해보세요."
   ]
  },
  {
   "cell_type": "raw",
   "metadata": {
    "vscode": {
     "languageId": "raw"
    }
   },
   "source": [
    "print(\"파이썬\", \"프로그래밍\", sep=\"★\")\n",
    "# 파이썬*프로그래밍"
   ]
  },
  {
   "cell_type": "raw",
   "metadata": {
    "vscode": {
     "languageId": "raw"
    }
   },
   "source": [
    "print(\"파이썬\", \"프로그래밍\", end=\" 끝!\\n\")\n",
    "# 파이썬 프로그래밍 끝!\n",
    "#"
   ]
  },
  {
   "cell_type": "raw",
   "metadata": {
    "vscode": {
     "languageId": "raw"
    }
   },
   "source": [
    "print(\"파이썬\", \"프로그래밍\", end=\" 끝!\\n\", \"블라블라\")---------------------\n",
    "# 파이썬 프로그래밍 끝!\n",
    "# 블라블라"
   ]
  },
  {
   "cell_type": "raw",
   "metadata": {
    "vscode": {
     "languageId": "raw"
    }
   },
   "source": [
    "print(\"파이썬\", \"프로그래밍\", end='\\n')\n",
    "print(\"hello\")\n",
    "# 파이썬 프로그래밍\n",
    "# hello"
   ]
  },
  {
   "cell_type": "raw",
   "metadata": {
    "vscode": {
     "languageId": "raw"
    }
   },
   "source": [
    "print(\"파이썬\", \"프로그래밍\", sep=\"★\", end=\" 끝!\\n\")\n",
    "print(\"Hello\")\n",
    "# 파이썬*프로그래밍 끝!\n",
    "# Hello"
   ]
  },
  {
   "cell_type": "markdown",
   "metadata": {},
   "source": [
    "## 문제 5\n",
    "다음 코드에서 오류가 발생합니다. 오류를 수정하여 숫자 15가 출력되도록 하세요."
   ]
  },
  {
   "cell_type": "code",
   "execution_count": 6,
   "metadata": {},
   "outputs": [
    {
     "name": "stdout",
     "output_type": "stream",
     "text": [
      "a + b =  15\n"
     ]
    }
   ],
   "source": [
    "a = 10\n",
    "b = 5\n",
    "print(\"a + b = \",a + b)"
   ]
  },
  {
   "cell_type": "markdown",
   "metadata": {},
   "source": [
    "## 문제 6\n",
    "사용자에게 이름과 취미를 입력받아 다음과 같이 출력하는 코드를 작성하세요."
   ]
  },
  {
   "cell_type": "raw",
   "metadata": {
    "vscode": {
     "languageId": "raw"
    }
   },
   "source": [
    "입력 예시 :\n",
    "\n",
    "이름을 입력하세요: 천준석\n",
    "취미를 입력하세요: 산책"
   ]
  },
  {
   "cell_type": "raw",
   "metadata": {
    "vscode": {
     "languageId": "raw"
    }
   },
   "source": [
    "출력 결과 :\n",
    "\n",
    "안녕하세요, 천준석님! 당신의 취미는 산책군요."
   ]
  },
  {
   "cell_type": "code",
   "execution_count": 7,
   "metadata": {},
   "outputs": [
    {
     "name": "stdout",
     "output_type": "stream",
     "text": [
      "안녕하세요, 천준석님! 당신의 취미는 산책군요.\n"
     ]
    }
   ],
   "source": [
    "name = input(\"이름을 입력하세요: \")\n",
    "hobby = input(\"취미를 입력하세요: \")\n",
    "print(f\"안녕하세요, {name}님! 당신의 취미는 {hobby}군요.\")"
   ]
  },
  {
   "cell_type": "markdown",
   "metadata": {},
   "source": [
    "## 문제 7\n",
    "반지름을 입력받아 원의 넓이를 계산하여 출력하는 코드를 작성하세요. (원의 넓이 = π * r^2, π는 3.14159로 사용)"
   ]
  },
  {
   "cell_type": "code",
   "execution_count": null,
   "metadata": {},
   "outputs": [],
   "source": []
  },
  {
   "cell_type": "raw",
   "metadata": {
    "vscode": {
     "languageId": "raw"
    }
   },
   "source": [
    "입력 예시 : \n",
    "\n",
    "원의 반지름을 입력하세요: 5"
   ]
  },
  {
   "cell_type": "raw",
   "metadata": {
    "vscode": {
     "languageId": "raw"
    }
   },
   "source": [
    "출력 결과 :\n",
    "\n",
    "원의 넓이는 78.53975입니다."
   ]
  },
  {
   "cell_type": "code",
   "execution_count": 10,
   "metadata": {},
   "outputs": [
    {
     "name": "stdout",
     "output_type": "stream",
     "text": [
      "원의 넓이는 78.53975입니다.\n"
     ]
    }
   ],
   "source": [
    "radius = float(input(\"원의 반지름을 입력하세요: \"))\n",
    "print(f\"원의 넓이는 {radius*radius*3.14159}입니다.\")"
   ]
  },
  {
   "cell_type": "markdown",
   "metadata": {},
   "source": [
    "## 문제 8\n",
    "두 정수를 입력받고, 두 정수를 더하고 빼고 곱하고 나누기를 출력하세요."
   ]
  },
  {
   "cell_type": "raw",
   "metadata": {
    "vscode": {
     "languageId": "raw"
    }
   },
   "source": [
    "입력 예시 : \n",
    "\n",
    "두 정수를 입력하세요 : 10 5"
   ]
  },
  {
   "cell_type": "raw",
   "metadata": {
    "vscode": {
     "languageId": "raw"
    }
   },
   "source": [
    "출력 결과 :\n",
    "\n",
    "10 + 5 = 15\n",
    "10 - 5 = 5\n",
    "10 * 5 = 50\n",
    "10 / 5 = 2"
   ]
  },
  {
   "cell_type": "code",
   "execution_count": null,
   "metadata": {},
   "outputs": [
    {
     "name": "stdout",
     "output_type": "stream",
     "text": [
      "10 + 5 = 10+5\n",
      "10 - 5 = 10-5\n",
      "10 * 5 = 10*5\n",
      "10 \\/ 5 = 10/5\n"
     ]
    }
   ],
   "source": [
    "num1, num2 = map(int,input(\"두 정수를 입력하세요 : \").split(' '))\n",
    "print(f\"{num1} + {num2} = {num1}+{num2}\")\n",
    "print(f\"{num1} - {num2} = {num1}-{num2}\")\n",
    "print(f\"{num1} * {num2} = {num1}*{num2}\")\n",
    "print(f\"{num1} / {num2} = {num1}/{num2}\")"
   ]
  },
  {
   "cell_type": "markdown",
   "metadata": {},
   "source": [
    "## 문제 9\n",
    "섭씨 온도를 입력받아 화씨 온도로 변환하여 출력하는 코드를 작성하세요. (화씨 = 섭씨 * 1.8 + 32)"
   ]
  },
  {
   "cell_type": "raw",
   "metadata": {
    "vscode": {
     "languageId": "raw"
    }
   },
   "source": [
    "입력 예시 : \n",
    "\n",
    "섭씨 온도를 입력하세요: 25"
   ]
  },
  {
   "cell_type": "raw",
   "metadata": {
    "vscode": {
     "languageId": "raw"
    }
   },
   "source": [
    "출력 결과 :\n",
    "\n",
    "화씨 온도는 77.0도입니다."
   ]
  },
  {
   "cell_type": "code",
   "execution_count": 25,
   "metadata": {},
   "outputs": [
    {
     "name": "stdout",
     "output_type": "stream",
     "text": [
      "화씨 온도는 77.0도입니다.\n"
     ]
    }
   ],
   "source": [
    "tem = float(input(\"섭씨 온도를 입력하세요: \"))\n",
    "print(f\"화씨 온도는 {tem*1.8+32}도입니다.\")"
   ]
  },
  {
   "cell_type": "markdown",
   "metadata": {},
   "source": [
    "## 문제 10\n",
    "'#'으로 구분된 4개의 문자열을 입력받고, 출력해보세요"
   ]
  },
  {
   "cell_type": "raw",
   "metadata": {
    "vscode": {
     "languageId": "raw"
    }
   },
   "source": [
    "입력 예시 : \n",
    "\n",
    "입력하세요 : apple#banana#watermelon#grape"
   ]
  },
  {
   "cell_type": "raw",
   "metadata": {
    "vscode": {
     "languageId": "raw"
    }
   },
   "source": [
    "출력 결과 :\n",
    "\n",
    "apple banana watermelon grape"
   ]
  },
  {
   "cell_type": "code",
   "execution_count": 26,
   "metadata": {},
   "outputs": [
    {
     "name": "stdout",
     "output_type": "stream",
     "text": [
      "apple banana watermelon grape\n"
     ]
    }
   ],
   "source": [
    "input = input(\"입력하세요\")\n",
    "print(input.replace(\"#\",\" \"))"
   ]
  }
 ],
 "metadata": {
  "kernelspec": {
   "display_name": "Python 3",
   "language": "python",
   "name": "python3"
  },
  "language_info": {
   "codemirror_mode": {
    "name": "ipython",
    "version": 3
   },
   "file_extension": ".py",
   "mimetype": "text/x-python",
   "name": "python",
   "nbconvert_exporter": "python",
   "pygments_lexer": "ipython3",
   "version": "3.10.10"
  }
 },
 "nbformat": 4,
 "nbformat_minor": 2
}
