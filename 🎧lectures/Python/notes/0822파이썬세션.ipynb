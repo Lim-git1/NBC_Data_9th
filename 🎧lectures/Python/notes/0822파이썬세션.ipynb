{
 "cells": [
  {
   "cell_type": "markdown",
   "id": "8fff733d",
   "metadata": {},
   "source": [
    "# 함수\n",
    "\n",
    "- 코드 재사용성 증가\n",
    "- 코드 가독성 향상\n",
    "- 유지 보수성 개선\n",
    "\n",
    "</br>\n",
    "\n",
    "### 함수 정의하기\n",
    "\n",
    "```python\n",
    "def 함수이름(매개변수1, 매개변수2, ...):\n",
    "    # 함수가 수행할 문장들\n",
    "    # ...\n",
    "    return 반환값\n",
    "```"
   ]
  },
  {
   "cell_type": "code",
   "execution_count": 3,
   "id": "b30184cc",
   "metadata": {},
   "outputs": [
    {
     "name": "stdout",
     "output_type": "stream",
     "text": [
      "30 200\n"
     ]
    }
   ],
   "source": [
    "def add(a,b) :\n",
    "    return a+b\n",
    "\n",
    "def mul(a,b) :\n",
    "    return a*b\n",
    "\n",
    "print(add(10, 20), mul(10,20))\n"
   ]
  },
  {
   "cell_type": "code",
   "execution_count": null,
   "id": "5abe467a",
   "metadata": {},
   "outputs": [
    {
     "name": "stdout",
     "output_type": "stream",
     "text": [
      "<class 'tuple'>\n",
      "몫: 3\n",
      "나머지: 1\n"
     ]
    }
   ],
   "source": [
    "# 여러 개의 값을 반환하는 함수 예(파이썬에서는 튜플 형태로 반환):\n",
    "\n",
    "def divide_and_remainder(a, b):\n",
    "    quotient = a // b  # 몫\n",
    "    remainder = a % b  # 나머지\n",
    "    return quotient, remainder\n",
    "\n",
    "print(type(divide_and_remainder(10, 3)))    // 튜플 형태로 반환\n",
    "q, r = divide_and_remainder(10, 3)\n",
    "print(\"몫:\", q)   # 몫: 3\n",
    "print(\"나머지:\", r) # 나머지: 1"
   ]
  },
  {
   "cell_type": "markdown",
   "id": "74db1227",
   "metadata": {},
   "source": [
    "### 실습 문제 1 : 리스트의 합 ```list_sum```\n",
    "\n",
    "- 정수로만 이루어진 리스트 `nums`를 매개변수로 받아 **모든 요소의 합**을 반환하는 함수를 만드세요.\n",
    "\n",
    "- 리스트가 비어 있다면 `0`을 반환해야 합니다."
   ]
  },
  {
   "cell_type": "code",
   "execution_count": 5,
   "id": "6a138ae6",
   "metadata": {},
   "outputs": [
    {
     "name": "stdout",
     "output_type": "stream",
     "text": [
      "0\n"
     ]
    }
   ],
   "source": [
    "\n",
    "\n",
    "def list_sum(list) :\n",
    "    if len(list) == 0 :\n",
    "        return 0\n",
    "    sum = 0\n",
    "    for i in list :\n",
    "        sum += i\n",
    "    return sum\n",
    "\n",
    "l = [1, 2, 3, 4]\n",
    "z = []\n",
    "\n",
    "print(list_sum(z))"
   ]
  },
  {
   "cell_type": "markdown",
   "id": "e608a171",
   "metadata": {},
   "source": [
    "### 실습 문제 3 : 학점 계산 함수 ```grade_report```\n",
    "\n",
    "- 학생 이름과 점수가 들어있는 딕셔너리를 매개변수로 받으세요.\n",
    "- 점수를 기준으로 **학점(A, B, C, D, F)**을 매겨서 새 딕셔너리로 반환하세요."
   ]
  },
  {
   "cell_type": "code",
   "execution_count": null,
   "id": "265b3d69",
   "metadata": {},
   "outputs": [],
   "source": [
    "\n",
    "\n",
    "scores = {\"Alice\": 85, \"Bob\": 92, \"Charlie\": 67, \"Dave\": 58}\n",
    "print(grade_report(scores))\n"
   ]
  }
 ],
 "metadata": {
  "kernelspec": {
   "display_name": "Python 3",
   "language": "python",
   "name": "python3"
  },
  "language_info": {
   "codemirror_mode": {
    "name": "ipython",
    "version": 3
   },
   "file_extension": ".py",
   "mimetype": "text/x-python",
   "name": "python",
   "nbconvert_exporter": "python",
   "pygments_lexer": "ipython3",
   "version": "3.10.10"
  }
 },
 "nbformat": 4,
 "nbformat_minor": 5
}
