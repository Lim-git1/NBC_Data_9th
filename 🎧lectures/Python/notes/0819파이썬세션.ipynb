{
 "cells": [
  {
   "cell_type": "code",
   "execution_count": 1,
   "id": "84a9582b",
   "metadata": {},
   "outputs": [
    {
     "name": "stdout",
     "output_type": "stream",
     "text": [
      "hello\n"
     ]
    }
   ],
   "source": [
    "print('hello')"
   ]
  },
  {
   "cell_type": "code",
   "execution_count": 18,
   "id": "60fe46c7",
   "metadata": {},
   "outputs": [
    {
     "name": "stdout",
     "output_type": "stream",
     "text": [
      "문자열 출력 : \n",
      "이름 >  Heynee 나이 :  55\n",
      "이름은 Heynee이고 나이는 55살이다\n",
      "이번에는 Heynee가 이렇게 표현한다 55살이니까 ㄱㅊ\n"
     ]
    }
   ],
   "source": [
    "name = 'Heynee'\n",
    "age = 55\n",
    "print(\"문자열 출력 : \")\n",
    "print(\"이름 > \",name,\"나이 : \",age)\n",
    "print(\"이름은 {}이고 나이는 {}살이다\".format(name, age))\n",
    "print(f\"이번에는 {name}가 이렇게 표현한다 {age}살이니까 ㄱㅊ\")"
   ]
  },
  {
   "cell_type": "code",
   "execution_count": 14,
   "id": "b0aa54f3",
   "metadata": {},
   "outputs": [
    {
     "name": "stdout",
     "output_type": "stream",
     "text": [
      "end=' ' :  단락을 이어보자 이어졌니?\n",
      "sep='-' :  2023-10-05\n"
     ]
    }
   ],
   "source": [
    "print(\"end=' ' : \",end=' ')\n",
    "print(\"단락을 이어보자\", end=' ')\n",
    "print(\"이어졌니?\")\n",
    "\n",
    "print(\"sep='-' : \",end=' ')\n",
    "print(\"2023\", \"10\", \"05\", sep=\"-\")"
   ]
  },
  {
   "cell_type": "code",
   "execution_count": 19,
   "id": "b75f7a80",
   "metadata": {},
   "outputs": [
    {
     "name": "stdout",
     "output_type": "stream",
     "text": [
      "유니코드 지원 : 😊🌻🍇 이모지도 가능해요\n"
     ]
    }
   ],
   "source": [
    "print(\"유니코드 지원 : 😊🌻🍇 이모지도 가능해요\")\n"
   ]
  },
  {
   "cell_type": "code",
   "execution_count": 24,
   "id": "102b35c8",
   "metadata": {},
   "outputs": [
    {
     "name": "stdout",
     "output_type": "stream",
     "text": [
      "input() 함수 : \n",
      "너 여자야 남자야;; 야자다 어쩔래?\n",
      "몇살인데;; 102살이다 어쩔래?\n"
     ]
    }
   ],
   "source": [
    "print(\"input() 함수 : \")\n",
    "\n",
    "gender = input(\"너 여자야 남자야;; : \")\n",
    "print(f\"너 여자야 남자야;; {gender}다 어쩔래?\")\n",
    "age = int(input(\"몇살인데;; : \"))\n",
    "print(f\"몇살인데;; {age+100}살이다 어쩔래?\")"
   ]
  },
  {
   "cell_type": "code",
   "execution_count": 33,
   "id": "02fa2578",
   "metadata": {},
   "outputs": [
    {
     "name": "stdout",
     "output_type": "stream",
     "text": [
      "[여러 값 한꺼번에 입력받기]\n",
      "과일 : ['사과', ' 바나나']\n"
     ]
    }
   ],
   "source": [
    "print(\"[여러 값 한꺼번에 입력받기]\")\n",
    "data = input(\"과일 이름들을 입력하세요 (쉼표로 구분): \")\n",
    "fruits = data.split(',')\n",
    "print(f\"과일 : {fruits}\")"
   ]
  },
  {
   "cell_type": "code",
   "execution_count": 34,
   "id": "e674af2b",
   "metadata": {},
   "outputs": [
    {
     "name": "stdout",
     "output_type": "stream",
     "text": [
      "유효한 정수를 입력해주세요.\n"
     ]
    }
   ],
   "source": [
    "\n",
    "#print(\"[입력 예외 처리]\")\n",
    "try:\n",
    "    num = int(input(\"정수를 입력하세요: \"))\n",
    "except ValueError:\n",
    "    print(\"유효한 정수를 입력해주세요.\")\n",
    "else:\n",
    "    print(f\"입력한 정수: {num}\")"
   ]
  },
  {
   "cell_type": "code",
   "execution_count": null,
   "id": "4b1914be",
   "metadata": {},
   "outputs": [
    {
     "name": "stdout",
     "output_type": "stream",
     "text": [
      "[실습1]\n",
      "이름은헤이니이요 나이는909다.\n"
     ]
    }
   ],
   "source": [
    "print(\"[실습 문제 1 : f-문자열 이용 입력받기]\")\n",
    "name = input(\"이름 : \")\n",
    "age = int(input(\"나이 : \"))\n",
    "print(f\"이름은 {name}이요 | 나이는{age}다.\")"
   ]
  },
  {
   "cell_type": "code",
   "execution_count": 38,
   "id": "65fe23d7",
   "metadata": {},
   "outputs": [
    {
     "name": "stdout",
     "output_type": "stream",
     "text": [
      "[실습 문제 2 : 구분자와 줄 바꿈 바꿔보기]\n",
      "1;2;3;4;5!"
     ]
    }
   ],
   "source": [
    "print(\"[실습 문제 2 : 구분자와 줄 바꿈 바꿔보기]\")\n",
    "print(\"1\",\"2\",\"3\",\"4\",\"5\",sep=';',end='!')"
   ]
  },
  {
   "cell_type": "code",
   "execution_count": null,
   "id": "8b263fd5",
   "metadata": {},
   "outputs": [
    {
     "name": "stdout",
     "output_type": "stream",
     "text": [
      "[실습 문제 3 : 두 수를 한 줄에 입력받아 계산하기]\n",
      "10  +  3  =  13\n",
      "10  -  3  =  7\n",
      "10 * 3 = 30\n"
     ]
    }
   ],
   "source": [
    "print(\"[실습 문제 3 : 두 수를 한 줄에 입력받아 계산하기]\")\n",
    "num1, num2 = map(int,input(\"두 수를 입력하세요(공백으로 구분): \").split(\" \"))\n",
    "print(num1,\" + \",num2,\" = \",num1+num2)\n",
    "print(num1,\" - \",num2,\" = \",num1-num2)\n",
    "print(f\"{num1} * {num2} = {num1*num2}\")\n"
   ]
  },
  {
   "cell_type": "code",
   "execution_count": 45,
   "id": "6d5a6923",
   "metadata": {},
   "outputs": [
    {
     "name": "stdout",
     "output_type": "stream",
     "text": [
      "[실습 문제 1 : 변수 이름과 데이터 타입 확인]\n",
      "값: 42, 타입: <class 'int'>\n",
      "값: 3.14, 타입: <class 'float'>\n",
      "값: Python, 타입: <class 'str'>\n"
     ]
    }
   ],
   "source": [
    "print(\"[실습 문제 1 : 변수 이름과 데이터 타입 확인]\")\n",
    "a=42\n",
    "b=3.14\n",
    "c=\"Python\"\n",
    "print(f\"값: {a}, 타입: {type(a)}\")\n",
    "print(f\"값: {b}, 타입: {type(b)}\")\n",
    "print(f\"값: {c}, 타입: {type(c)}\")"
   ]
  },
  {
   "cell_type": "code",
   "execution_count": 48,
   "id": "768e5f98",
   "metadata": {},
   "outputs": [
    {
     "name": "stdout",
     "output_type": "stream",
     "text": [
      "[실습 문제 2 : 한 줄에 여러 변수 할당 & 연산]\n",
      "a=5, b=7, c=9 -> 평균: 7.0.\n"
     ]
    }
   ],
   "source": [
    "print(\"[실습 문제 2 : 한 줄에 여러 변수 할당 & 연산]\")\n",
    "a,b,c = 5, 7, 9\n",
    "avg = (a+b+c)/3\n",
    "print(f\"a={a}, b={b}, c={c} -> 평균: {avg}.\")\n"
   ]
  },
  {
   "cell_type": "code",
   "execution_count": 50,
   "id": "90218176",
   "metadata": {},
   "outputs": [
    {
     "name": "stdout",
     "output_type": "stream",
     "text": [
      "[실습 문제 3 : 문자열 합치기와 반복 출력]\n",
      "홍길동은 파이썬을 좋아합니다!\n",
      "홍길동은 파이썬을 좋아합니다!홍길동은 파이썬을 좋아합니다!홍길동은 파이썬을 좋아합니다!\n"
     ]
    }
   ],
   "source": [
    "print(\"[실습 문제 3 : 문자열 합치기와 반복 출력]\")\n",
    "name = input(\"이름을 입력하세요 : \")\n",
    "lan = input(\"좋아하는 프로그래밍 언어를 입력하세요 : \")\n",
    "print(f\"{name}은 {lan}을 좋아합니다!\")\n",
    "print((f\"{name}은 {lan}을 좋아합니다!\")*3)"
   ]
  },
  {
   "cell_type": "code",
   "execution_count": 58,
   "id": "b6964943",
   "metadata": {},
   "outputs": [
    {
     "name": "stdout",
     "output_type": "stream",
     "text": [
      "['apple', 'banana', 'cherry']\n",
      "<class 'str'>\n",
      "<class 'list'>\n",
      "apple & banana & cherry\n",
      "<class 'str'>\n"
     ]
    }
   ],
   "source": [
    "str2 = 'apple,banana,cherry'\n",
    "fruits = str2.split(',')\n",
    "print(fruits)  # ['apple', 'banana', 'cherry']\n",
    "\n",
    "print(type(str2))\n",
    "print(type(fruits))\n",
    "\n",
    "# 문자열 결합\n",
    "result = ' & '.join(fruits)\n",
    "print(result)  # 'apple & banana & cherry'\n",
    "print(type(result))"
   ]
  },
  {
   "cell_type": "code",
   "execution_count": 60,
   "id": "2d8e4411",
   "metadata": {},
   "outputs": [
    {
     "name": "stdout",
     "output_type": "stream",
     "text": [
      "[실습 문제 1 : 문자열 인덱싱과 슬라이싱]\n",
      "첫글자: p 마지막글자: n\n",
      "앞 3글자: pyt, 뒤 3글자: hon\n",
      "거꾸로: nohtyp\n"
     ]
    }
   ],
   "source": [
    "print(\"[실습 문제 1 : 문자열 인덱싱과 슬라이싱]\")\n",
    "str = input(\"문자열을 입력하세요: \")\n",
    "print(f\"첫글자: {str[0]} 마지막글자: {str[-1]}\")\n",
    "print(f\"앞 3글자: {str[0:3]}, 뒤 3글자: {str[-3:]}\")\n",
    "print(f\"거꾸로: {str[::-1]}\")"
   ]
  },
  {
   "cell_type": "code",
   "execution_count": 69,
   "id": "4cc46801",
   "metadata": {},
   "outputs": [
    {
     "name": "stdout",
     "output_type": "stream",
     "text": [
      "[실습 문제 2 : 문자열 메서드 활용]\n",
      "   I love Python. Python is powerful!   \n",
      "i love python. python is powerful!\n",
      "2\n",
      "i love java. java is powerful!\n",
      "['i', 'love', 'python.', 'python', 'is', 'powerful!']\n"
     ]
    }
   ],
   "source": [
    "print(\"[실습 문제 2 : 문자열 메서드 활용]\")\n",
    "sentence = \"   I love Python. Python is powerful!   \"\n",
    "print(sentence)\n",
    "new = sentence.strip().lower()\n",
    "print(new)\n",
    "print(new.count('python'))\n",
    "print(new.replace('python','java'))\n",
    "print(new.split(' '))"
   ]
  },
  {
   "cell_type": "code",
   "execution_count": 76,
   "id": "2e152ca0",
   "metadata": {},
   "outputs": [
    {
     "name": "stdout",
     "output_type": "stream",
     "text": [
      "Hello Python!\n",
      "['apple', 'banana', 'cherry']\n",
      "apple & banana & cherry\n"
     ]
    }
   ],
   "source": [
    "h = 'Hello'\n",
    "p = 'Python'\n",
    "print(h+' '+p+'!')\n",
    "f = \"apple,banana,cherry\"\n",
    "f_list = f.split(',')\n",
    "print(f_list)\n",
    "print(' & '.join(f_list))"
   ]
  },
  {
   "cell_type": "code",
   "execution_count": 84,
   "id": "b889d118",
   "metadata": {},
   "outputs": [
    {
     "name": "stdout",
     "output_type": "stream",
     "text": [
      "파이썬★프로그래밍 끝!\n",
      "Hello\n"
     ]
    }
   ],
   "source": [
    "print(\"파이썬\", \"프로그래밍\", sep=\"★\", end=\" 끝!\\n\")\n",
    "print(\"Hello\")"
   ]
  }
 ],
 "metadata": {
  "kernelspec": {
   "display_name": "Python 3",
   "language": "python",
   "name": "python3"
  },
  "language_info": {
   "codemirror_mode": {
    "name": "ipython",
    "version": 3
   },
   "file_extension": ".py",
   "mimetype": "text/x-python",
   "name": "python",
   "nbconvert_exporter": "python",
   "pygments_lexer": "ipython3",
   "version": "3.10.10"
  }
 },
 "nbformat": 4,
 "nbformat_minor": 5
}
