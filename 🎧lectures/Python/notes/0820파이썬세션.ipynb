{
 "cells": [
  {
   "cell_type": "code",
   "execution_count": 20,
   "id": "791be5a1",
   "metadata": {},
   "outputs": [
    {
     "name": "stdout",
     "output_type": "stream",
     "text": [
      "Hello World\n"
     ]
    }
   ],
   "source": [
    "print(\"Hello World\")"
   ]
  },
  {
   "cell_type": "markdown",
   "id": "3b16820e",
   "metadata": {},
   "source": [
    "## IF 문 (조건문)"
   ]
  },
  {
   "cell_type": "markdown",
   "id": "48ba7956",
   "metadata": {},
   "source": [
    "```python\n",
    "if 조건식1:\n",
    "    # 조건1이 True일 때 실행할 코드\n",
    "elif 조건식2:\n",
    "    # 조건1은 False이고, 조건2가 True일 때 실행할 코드\n",
    "elif 조건식3:\n",
    "    # 조건1,2 모두 False이고 조건3이 True일 때 실행할 코드\n",
    "else:\n",
    "    # 위의 모든 조건이 False일 때 실행할 코드\n",
    "```"
   ]
  },
  {
   "cell_type": "code",
   "execution_count": 2,
   "id": "200fbef6",
   "metadata": {},
   "outputs": [
    {
     "name": "stdout",
     "output_type": "stream",
     "text": [
      "청년입니다\n"
     ]
    }
   ],
   "source": [
    "#age = 55\n",
    "age = int(input(\"나이를 입력하세요.\"))\n",
    "\n",
    "# 반복문 쓸 때 말하면서 써보는 거 추천\n",
    "if age <= 18:\n",
    "    print(\"미성년자입니다\")\n",
    "elif age < 40:\n",
    "    print(\"청년입니다\")\n",
    "else :\n",
    "    print(\"어른입니다\")"
   ]
  },
  {
   "cell_type": "code",
   "execution_count": null,
   "id": "592dd07d",
   "metadata": {},
   "outputs": [],
   "source": [
    "x = 5\n",
    "\n",
    "if x > 10:\n",
    "    print(\"x는 10보다 큽니다\")"
   ]
  },
  {
   "cell_type": "markdown",
   "id": "3b8f731d",
   "metadata": {
    "vscode": {
     "languageId": "raw"
    }
   },
   "source": [
    "공백과 아무것도 안 나오는 건 다르다.<br/>\n",
    "위의 코드는 아무것도 안 나온다.<br/><br/><br/><br/>\n",
    "\n",
    "\n",
    "## not : 조건의 결과를 반전(True ↔ False)\n",
    "- 무조건 소문자로 작성  \n",
    "- not False -> True\n",
    "- not True -> False\n",
    "  "
   ]
  },
  {
   "cell_type": "code",
   "execution_count": null,
   "id": "bbc531aa",
   "metadata": {},
   "outputs": [
    {
     "name": "stdout",
     "output_type": "stream",
     "text": [
      "비가 오지 않습니다.\n"
     ]
    }
   ],
   "source": [
    "is_raining = False\n",
    "\n",
    "# not False -> True\n",
    "# not True -> False\n",
    "\n",
    "if not is_raining:\n",
    "    print(\"비가 오지 않습니다.\")"
   ]
  },
  {
   "cell_type": "markdown",
   "id": "189cf689",
   "metadata": {},
   "source": [
    "## in 과 not in"
   ]
  },
  {
   "cell_type": "code",
   "execution_count": null,
   "id": "d601b520",
   "metadata": {},
   "outputs": [],
   "source": [
    "fruits = [\"apple\", \"banana\", \"cherry\"]\n",
    "\n",
    "if \"apple\" in fruits:\n",
    "    print(\"사과가 있습니다.\")   # 출력됨\n",
    "\n",
    "if \"orange\" not in fruits:\n",
    "    print(\"오렌지가 없습니다.\")  # 출력됨"
   ]
  },
  {
   "cell_type": "markdown",
   "id": "83e4a842",
   "metadata": {},
   "source": [
    "## 실습 문제 (조건문)\n",
    "### 실습 문제 1 : 영화관 티켓 요금 계산\n",
    "1. `input()`으로 관람객 나이(정수)를 입력받습니다.\n",
    "2. 위 표에 따라 요금을 계산해 `\"요금은 12000원입니다.\"` 형식으로 출력하세요.\n",
    "3. 나이가 음수이거나 150세를 초과하면 `\"잘못된 나이입니다.\"`를 출력하고 프로그램을 종료합니다."
   ]
  },
  {
   "cell_type": "code",
   "execution_count": null,
   "id": "944ea512",
   "metadata": {},
   "outputs": [
    {
     "name": "stdout",
     "output_type": "stream",
     "text": [
      "요금은 12,000원입니다.\n"
     ]
    }
   ],
   "source": [
    "age=int(input(\"input your age : \"))\n",
    "\n",
    "if age < 0 or age > 150 :\n",
    "    print(\"잘못된 나이입니다.\")\n",
    "elif age >= 0 and age <= 6 :\n",
    "    print(\"요금은 0원입니다.\")\n",
    "elif age >= 7 and age <= 18 :\n",
    "    print(\"요금은 8,000원입니다.\")\n",
    "elif age >= 19 and age <= 64 :\n",
    "    print(\"요금은 12,000원입니다.\")\n",
    "else : \n",
    "    print(\"요금은 6,000원입니다.\")"
   ]
  },
  {
   "cell_type": "markdown",
   "id": "0082f004",
   "metadata": {},
   "source": [
    "### 실습 문제 2 : BMI 지수로 건강 상태 판정\n",
    "1. 사용자에게 **몸무게(kg)**와 **키(cm)**를 각각 입력받으세요.\n",
    "2. BMI 지수를 `몸무게 / (키 m 단위²)` 공식으로 계산합니다. ( 제곱 : `단위²` → ** 2 )\n",
    "3. 다음 범위를 기준으로 건강 상태를 출력하세요."
   ]
  },
  {
   "cell_type": "code",
   "execution_count": null,
   "id": "d4704842",
   "metadata": {},
   "outputs": [
    {
     "name": "stdout",
     "output_type": "stream",
     "text": [
      "-4.444444444444445\n",
      "잘못된 입력입니다.\n"
     ]
    }
   ],
   "source": [
    "w = int(input(\"input your weight : \"))\n",
    "h = int(input(\"input your height : \"))\n",
    "bmi = w/((h/100)**2)\n",
    "\n",
    "print(bmi)\n",
    "\n",
    "if bmi < 0 :\n",
    "    print(\"잘못된 입력입니다.\")\n",
    "elif bmi >= 0 and bmi < 18.5 :\n",
    "\n",
    "    print(\"저체중\")\n",
    "elif bmi >= 18.5 and bmi < 23 :\n",
    "    print(\"정상\")\n",
    "elif bmi >= 23 and bmi < 25 :\n",
    "    print(\"과체중\")\n",
    "else :\n",
    "    print(\"비만\")"
   ]
  },
  {
   "cell_type": "markdown",
   "id": "708a0d84",
   "metadata": {},
   "source": [
    "### 실습 문제 3 : 삼각형 종류 판별기\n",
    "세 변의 길이 `a`, `b`, `c`(정수)를 한 줄씩 입력받아 다음을 판단하세요.\n",
    "\n",
    "1. **삼각형이 될 수 없는 경우**\n",
    "    - 세 변 중 하나라도 0 이하이거나,\n",
    "    - 삼각형 부등식 `a + b > c`, `a + c > b`, `b + c > a`를 만족하지 않으면\n",
    "        \n",
    "        `\"삼각형이 아닙니다.\"`를 출력하고 종료합니다.\n",
    "        \n",
    "2. 삼각형이라면 종류를 구분해 출력하세요."
   ]
  },
  {
   "cell_type": "code",
   "execution_count": null,
   "id": "8d986bb3",
   "metadata": {},
   "outputs": [
    {
     "name": "stdout",
     "output_type": "stream",
     "text": [
      "삼각형이 아닙니다.\n"
     ]
    }
   ],
   "source": [
    "a = int(input(\"input first : \"))\n",
    "b = int(input(\"input second : \"))\n",
    "c = int(input(\"input third : \"))\n",
    "\n",
    "if a==0 or b==0 or c==0 :\n",
    "    print(\"삼각형이 아닙니다.\")\n",
    "elif a+b <= c or a+c <=b or b+c <=a:\n",
    "#elif not (a+b>c and a+c>b and b+c>a): # 이렇게 not 써도 가능\n",
    "    print(\"삼각형이 아닙니다.\")\n",
    "else :\n",
    "    if a==b and a==c and b==c :\n",
    "        print(\"정삼각형\")\n",
    "    elif a==b or a==c or b==c :\n",
    "        print(\"이등변삼각형\")\n",
    "    elif a**2 + b**2 == c**2 or a**2 + c**2 == b**2 or b**2 + c**2 == a**2 :\n",
    "        print(\"직각삼각형\")\n",
    "    elif a!=b and a!=c and b!=c :\n",
    "        print(\"일반삼각형\")\n",
    "    "
   ]
  },
  {
   "cell_type": "markdown",
   "id": "c6deec3d",
   "metadata": {},
   "source": [
    "## for 문(반복문)\n",
    "\n",
    "```python\n",
    "for 변수 in 반복가능한객체:\n",
    "    수행할 코드 블록\n",
    "```"
   ]
  },
  {
   "cell_type": "code",
   "execution_count": null,
   "id": "2f082a6c",
   "metadata": {},
   "outputs": [
    {
     "name": "stdout",
     "output_type": "stream",
     "text": [
      "현재 i의 값: 0\n",
      "현재 i의 값: 1\n",
      "현재 i의 값: 2\n",
      "현재 i의 값: 3\n",
      "현재 i의 값: 4\n"
     ]
    }
   ],
   "source": [
    "for i in range(5): # range(start, end, step)\n",
    "    print(\"현재 i의 값:\", i)"
   ]
  },
  {
   "cell_type": "code",
   "execution_count": 15,
   "id": "5d766d4d",
   "metadata": {},
   "outputs": [
    {
     "name": "stdout",
     "output_type": "stream",
     "text": [
      "P\n",
      "y\n",
      "t\n",
      "h\n",
      "o\n",
      "n\n"
     ]
    }
   ],
   "source": [
    "text = \"Python\"\n",
    "for ch in text:\n",
    "    print(ch)"
   ]
  },
  {
   "cell_type": "markdown",
   "id": "0d2e363e",
   "metadata": {},
   "source": [
    "## while 문(반복문)\n",
    "```python\n",
    "while 조건:\n",
    "    수행할 코드 블록\n",
    "```"
   ]
  },
  {
   "cell_type": "code",
   "execution_count": 16,
   "id": "d1ad1038",
   "metadata": {},
   "outputs": [
    {
     "name": "stdout",
     "output_type": "stream",
     "text": [
      "1\n",
      "2\n",
      "3\n",
      "4\n",
      "5\n"
     ]
    }
   ],
   "source": [
    "count = 1\n",
    "while count <= 5:\n",
    "    print(count)\n",
    "    count += 1  # count를 1 증가시켜 조건 eventually False가 되도록 함"
   ]
  },
  {
   "cell_type": "code",
   "execution_count": null,
   "id": "d060bd58",
   "metadata": {},
   "outputs": [
    {
     "name": "stdout",
     "output_type": "stream",
     "text": [
      "quit 을 입력하여 프로그램을 종료합니다.\n"
     ]
    }
   ],
   "source": [
    "user_input = \"\"\n",
    "while user_input != \"quit\":\n",
    "    user_input = input(\"명령을 입력하세요 (quit를 입력하면 종료): \")\n",
    "    if user_input != \"quit\":\n",
    "        print(\"입력하신 명령:\", user_input)\n",
    "    else : print(user_input, \"을 입력하여 프로그램을 종료합니다.\")"
   ]
  },
  {
   "cell_type": "markdown",
   "id": "e0c76a6b",
   "metadata": {},
   "source": [
    "## 반복문 제어문: break, continue\n",
    "- break : 반복문을 **즉시** 종료합니다. 즉시 반복문을 빠져나옵니다.\n",
    "- continue : 현재 반복 순회를 **건너 뛰고** 다시 반복문의 처음으로 이동합니다."
   ]
  },
  {
   "cell_type": "code",
   "execution_count": 29,
   "id": "48fa6577",
   "metadata": {},
   "outputs": [
    {
     "name": "stdout",
     "output_type": "stream",
     "text": [
      "1\n",
      "2\n",
      "3\n",
      "4\n",
      "i가 5 에 도달하여 종료합니다.\n"
     ]
    }
   ],
   "source": [
    "for i in range(1, 11):\n",
    "    if i == 5:\n",
    "        print(\"i가\",i,\"에 도달하여 종료합니다.\")\n",
    "        break\n",
    "    print(i)"
   ]
  },
  {
   "cell_type": "code",
   "execution_count": 32,
   "id": "e3915059",
   "metadata": {},
   "outputs": [
    {
     "name": "stdout",
     "output_type": "stream",
     "text": [
      "1\n",
      "2\n",
      "i가 3 에 도달했습니다.\n",
      "4\n",
      "5\n"
     ]
    }
   ],
   "source": [
    "for i in range(1,6):\n",
    "    if i == 3:\n",
    "        print(\"i가\",i,\"에 도달했습니다.\")\n",
    "        continue\n",
    "    print(i)"
   ]
  },
  {
   "cell_type": "markdown",
   "id": "a8bc0078",
   "metadata": {},
   "source": [
    "</br>\n",
    "\n",
    "## enumerate()\n",
    "- 인덱스와 값을 동시에 얻습니다."
   ]
  },
  {
   "cell_type": "code",
   "execution_count": 33,
   "id": "4aa17c4c",
   "metadata": {},
   "outputs": [
    {
     "name": "stdout",
     "output_type": "stream",
     "text": [
      "0 : a\n",
      "1 : p\n",
      "2 : p\n",
      "3 : l\n",
      "4 : e\n"
     ]
    }
   ],
   "source": [
    "fruits = \"apple\"\n",
    "for idx, fruit_char in enumerate(fruits) :\n",
    "    print(f\"{idx} : {fruit_char}\")"
   ]
  },
  {
   "cell_type": "markdown",
   "id": "d100a173",
   "metadata": {},
   "source": [
    "## zip()\n",
    "- 여러 리스트를 병렬로 순회합니다."
   ]
  },
  {
   "cell_type": "code",
   "execution_count": 34,
   "id": "e8eba7ed",
   "metadata": {},
   "outputs": [
    {
     "name": "stdout",
     "output_type": "stream",
     "text": [
      "apple: 1000원\n",
      "banana: 2000원\n",
      "cherry: 3000원\n"
     ]
    }
   ],
   "source": [
    "fruits = [\"apple\", \"banana\", \"cherry\"]\n",
    "prices = [1000, 2000, 3000]\n",
    "\n",
    "for fruit, price in zip(fruits, prices):\n",
    "    print(f\"{fruit}: {price}원\")"
   ]
  },
  {
   "cell_type": "markdown",
   "id": "de492c08",
   "metadata": {},
   "source": [
    "</br></br></br>\n",
    "\n",
    "## 실습 문제 (반복문)\n",
    "### 실습 문제 1 : 약수 구하기\n",
    "사용자에게 정수 `n`을 입력받아, `n의 모든 약수`를 출력하세요.\n",
    "\n",
    "(약수의 개념? 1부터 n(자기자신)까지 나눈 나머지가 0인 값이 약수이다! </br>\n",
    "ex. n=6, 6%**1**=0, 6%**2**=0, 6%**3**=0, 6%**6**=0 —→ **n의 약수는 1, 2, 3, 6** )"
   ]
  },
  {
   "cell_type": "code",
   "execution_count": 40,
   "id": "fb6753bc",
   "metadata": {},
   "outputs": [
    {
     "name": "stdout",
     "output_type": "stream",
     "text": [
      "12의 약수 : 1 2 3 4 6 12 "
     ]
    }
   ],
   "source": [
    "n = int(input(\"정수를 입력하세요 : \"))\n",
    "print(f\"{n}의 약수 :\",end=\" \")\n",
    "for i in range(1,n+1):\n",
    "    if n%i == 0 :\n",
    "        print(i,end=\" \")\n"
   ]
  },
  {
   "cell_type": "markdown",
   "id": "905b5957",
   "metadata": {},
   "source": [
    "### 실습 문제 2 : 문자열 뒤집기\n",
    "사용자에게 문자열을 입력받아, `뒤집어서 출력`하세요.\n",
    "\n",
    "*(reversed 함수 X, 슬라이싱 X → 반복문을 써서 풀어보세요!)*"
   ]
  },
  {
   "cell_type": "code",
   "execution_count": null,
   "id": "c92eab8f",
   "metadata": {},
   "outputs": [
    {
     "name": "stdout",
     "output_type": "stream",
     "text": [
      "olleh"
     ]
    }
   ],
   "source": [
    "# 내가 작성한 코드\n",
    "str = input(\"문자열를 입력하세요 : \")\n",
    "\n",
    "for i in range(len(str),0,-1) : # range(시작, 끝, 간격)\n",
    "    print(str[i-1], end = \"\")"
   ]
  },
  {
   "cell_type": "code",
   "execution_count": 1,
   "id": "4d4ea7ac",
   "metadata": {},
   "outputs": [
    {
     "name": "stdout",
     "output_type": "stream",
     "text": [
      "uoyevoli"
     ]
    }
   ],
   "source": [
    "# 조원들이 작성한 코드\n",
    "str = input(\"문자열을 입력하세요 : \")\n",
    "\n",
    "for i in range(len(str)) :\n",
    "    print(str[len(str)-i-1], end=\"\")"
   ]
  },
  {
   "cell_type": "markdown",
   "id": "9c061e99",
   "metadata": {},
   "source": [
    "### 실습 문제 3 : 숫자 맞히기 게임 🎲\n",
    "- 1부터 10 사이의 정답 숫자가 있습니다. **(정답은 사용자가 고정적인 값으로 정하면 됩니다!)**\n",
    "- 사용자가 정답을 맞힐 때까지 계속 입력을 받으세요. **(While True)**\n",
    "- 맞히면 `\"정답입니다!\"`를 출력하고 종료하세요."
   ]
  },
  {
   "cell_type": "code",
   "execution_count": 2,
   "id": "cb9bc81e",
   "metadata": {},
   "outputs": [
    {
     "name": "stdout",
     "output_type": "stream",
     "text": [
      "틀렸습니다. 다시 입력하세요.\n",
      "틀렸습니다. 다시 입력하세요.\n",
      "틀렸습니다. 다시 입력하세요.\n",
      "틀렸습니다. 다시 입력하세요.\n",
      "정답입니다.\n"
     ]
    }
   ],
   "source": [
    "n = 7\n",
    "#input = int(input(\"정수를 입력하세요 (1~10): \"))\n",
    "\n",
    "while True :\n",
    "    user_input = int(input(\"정수를 입력하세요 (1~10): \"))\n",
    "    if user_input == n :\n",
    "        print(\"정답입니다.\")\n",
    "        break\n",
    "    else : print(\"틀렸습니다. 다시 입력하세요.\")"
   ]
  }
 ],
 "metadata": {
  "kernelspec": {
   "display_name": "Python 3",
   "language": "python",
   "name": "python3"
  },
  "language_info": {
   "codemirror_mode": {
    "name": "ipython",
    "version": 3
   },
   "file_extension": ".py",
   "mimetype": "text/x-python",
   "name": "python",
   "nbconvert_exporter": "python",
   "pygments_lexer": "ipython3",
   "version": "3.10.10"
  }
 },
 "nbformat": 4,
 "nbformat_minor": 5
}
