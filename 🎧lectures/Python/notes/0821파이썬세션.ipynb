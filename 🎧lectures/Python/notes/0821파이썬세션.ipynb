{
 "cells": [
  {
   "cell_type": "markdown",
   "id": "03233d9e",
   "metadata": {},
   "source": [
    "## 리스트 vs 튜플 vs 딕셔너리"
   ]
  },
  {
   "cell_type": "markdown",
   "id": "c791eb02",
   "metadata": {},
   "source": [
    "<center>\n",
    "\n",
    "||형식|순서|변화|중복|\n",
    "|---|---|:---:|:---:|:---:|\n",
    "|**리스트**|```list = [1, 2]```|O|O|O|\n",
    "|**튜플**|```tuple = (1, 2)```|O|X|O|\n",
    "|**딕셔너리**|```dict = {1:'a', 2:'b'}```|X|O|key : X|\n",
    "\n",
    "</center>"
   ]
  },
  {
   "cell_type": "markdown",
   "id": "c1357aa5",
   "metadata": {},
   "source": [
    "</br>\n",
    "\n",
    "## 리스트 메서트 (List Methods)\n",
    "\n",
    "### 요소 추가\n",
    "\n",
    "`append(item)` : 리스트 끝에 요소를 추가합니다."
   ]
  },
  {
   "cell_type": "code",
   "execution_count": 51,
   "id": "2780eabc",
   "metadata": {},
   "outputs": [
    {
     "name": "stdout",
     "output_type": "stream",
     "text": [
      "['a', 'b', 'c']\n",
      "['a', 'b', 'c', 'd']\n"
     ]
    }
   ],
   "source": [
    "alpha = ['a', 'b', 'c']\n",
    "print(alpha)\n",
    "alpha.append('d')\n",
    "print(alpha)\n"
   ]
  },
  {
   "cell_type": "markdown",
   "id": "258fe29d",
   "metadata": {},
   "source": [
    "</br>\n",
    "\n",
    "`insert(index, item)` : 지정한 위치에 요소를 추가합니다."
   ]
  },
  {
   "cell_type": "code",
   "execution_count": 52,
   "id": "cd93b27e",
   "metadata": {},
   "outputs": [
    {
     "name": "stdout",
     "output_type": "stream",
     "text": [
      "['a', 'b', 'insert', 'c', 'd']\n"
     ]
    }
   ],
   "source": [
    "alpha.insert(2, 'insert')\n",
    "print(alpha)"
   ]
  },
  {
   "cell_type": "markdown",
   "id": "9adb4c78",
   "metadata": {},
   "source": [
    "</br>\n",
    "\n",
    "`extend(iterable)` : 리스트를 확장하여 다른 이터러블의 모든 요소 추가"
   ]
  },
  {
   "cell_type": "code",
   "execution_count": 53,
   "id": "15539618",
   "metadata": {},
   "outputs": [
    {
     "name": "stdout",
     "output_type": "stream",
     "text": [
      "['a', 'b', 'insert', 'c', 'd', 'e', 'f', 'g', 'h']\n"
     ]
    }
   ],
   "source": [
    "alpha.extend(['e', 'f', 'g', 'h'])\n",
    "print(alpha)"
   ]
  },
  {
   "cell_type": "markdown",
   "id": "e5581694",
   "metadata": {},
   "source": [
    "\n",
    "</br></br>\n",
    "\n",
    "### 요소 제거\n",
    "\n",
    "`remove(item)` : 첫 번째로 일치하는 요소를 제거"
   ]
  },
  {
   "cell_type": "code",
   "execution_count": 54,
   "id": "c0b3be30",
   "metadata": {},
   "outputs": [
    {
     "name": "stdout",
     "output_type": "stream",
     "text": [
      "['a', 'b', 'c', 'd', 'e', 'f', 'g', 'h']\n"
     ]
    }
   ],
   "source": [
    "alpha.remove(\"insert\")\n",
    "print(alpha)"
   ]
  },
  {
   "cell_type": "markdown",
   "id": "10001ea2",
   "metadata": {},
   "source": [
    "</br>\n",
    "\n",
    "`pop(index)` : 지정한 인덱스의 요소를 제거하고 반환합니다. </br>인덱스를 지정하지 않으면 마지막 요소를 제거합니다."
   ]
  },
  {
   "cell_type": "code",
   "execution_count": 55,
   "id": "d06edfc8",
   "metadata": {},
   "outputs": [
    {
     "name": "stdout",
     "output_type": "stream",
     "text": [
      "a\n",
      "['b', 'c', 'd', 'e', 'f', 'g', 'h']\n"
     ]
    }
   ],
   "source": [
    "print(alpha.pop(0))\n",
    "print(alpha)"
   ]
  },
  {
   "cell_type": "markdown",
   "id": "49b702f4",
   "metadata": {},
   "source": [
    "</br>\n",
    "\n",
    "`clear()` : 모든 요소를 제거합니다."
   ]
  },
  {
   "cell_type": "code",
   "execution_count": 56,
   "id": "7d947c87",
   "metadata": {},
   "outputs": [
    {
     "name": "stdout",
     "output_type": "stream",
     "text": [
      "[]\n"
     ]
    }
   ],
   "source": [
    "alpha.clear()\n",
    "print(alpha)"
   ]
  },
  {
   "cell_type": "markdown",
   "id": "08ef40c4",
   "metadata": {},
   "source": [
    "</br>\n",
    "\n",
    "### 검색 및 카운트\n",
    "\n",
    "`index(item)` : 요소의 인덱스를 반환합니다.\n",
    "\n",
    "`count(item)` : 요소의 개수를 반환합니다."
   ]
  },
  {
   "cell_type": "code",
   "execution_count": 57,
   "id": "7fd1ed1e",
   "metadata": {},
   "outputs": [
    {
     "name": "stdout",
     "output_type": "stream",
     "text": [
      "2\n",
      "1\n"
     ]
    }
   ],
   "source": [
    "alpha = ['a', 'b', 'c']\n",
    "print(alpha.index('c'))\n",
    "\n",
    "\n",
    "# alpha 리스트에서 'b'의 개수\n",
    "print(alpha.count('b')) "
   ]
  },
  {
   "cell_type": "markdown",
   "id": "bd55a9e0",
   "metadata": {},
   "source": [
    "</br>\n",
    "\n",
    "### 정렬\n",
    "\n",
    "`sort()` : 리스트를 오름차순으로 정렬합니다.\n",
    "\n",
    "`reverse()` : 리스트의 요소의 순서를 반대로 뒤집습니다."
   ]
  },
  {
   "cell_type": "code",
   "execution_count": 58,
   "id": "9fb0bb1e",
   "metadata": {},
   "outputs": [
    {
     "name": "stdout",
     "output_type": "stream",
     "text": [
      "[1, 2, 5, 5, 6, 9]\n",
      "[9, 6, 5, 5, 2, 1]\n",
      "[1, 2, 5, 5, 6, 9]\n"
     ]
    }
   ],
   "source": [
    "# 오름차순 정렬\n",
    "numbers = [5, 2, 9, 1, 5, 6]\n",
    "numbers.sort()\n",
    "print(numbers)  # 출력: [1, 2, 5, 5, 6, 9]\n",
    "\n",
    "# 역순(내림차순) 출력\n",
    "numbers.sort(reverse=True)\n",
    "print(numbers)  # 출력: [9, 6, 5, 5, 2, 1]\n",
    "\n",
    "\n",
    "numbers.reverse()\n",
    "print(numbers)  # 출력: [9, 6, 5, 5, 2, 1]"
   ]
  },
  {
   "cell_type": "markdown",
   "id": "51a24518",
   "metadata": {},
   "source": [
    "### 리스트 연산"
   ]
  },
  {
   "cell_type": "code",
   "execution_count": 59,
   "id": "244b514e",
   "metadata": {},
   "outputs": [
    {
     "name": "stdout",
     "output_type": "stream",
     "text": [
      "['a', 'b', '|', 'c', 'd']\n",
      "['a', 'b', '|', 'a', 'b', '|', 'a', 'b', '|']\n"
     ]
    }
   ],
   "source": [
    "list1 = ['a', 'b', '|']\n",
    "list2 = ['c', 'd']\n",
    "\n",
    "# 리스트 연결\n",
    "print(list1 + list2)\n",
    "\n",
    "# 리스트 반복\n",
    "print(list1 * 3)"
   ]
  },
  {
   "cell_type": "markdown",
   "id": "9b8c09f8",
   "metadata": {},
   "source": [
    "</br>\n",
    "\n",
    "## 리스트 컴프리헨션\n",
    "\n",
    "```python\n",
    "new_list = [expression for item in iterable]\n",
    "```"
   ]
  },
  {
   "cell_type": "code",
   "execution_count": 60,
   "id": "bf438115",
   "metadata": {},
   "outputs": [
    {
     "name": "stdout",
     "output_type": "stream",
     "text": [
      "[4, 16, 36, 64, 100]\n",
      "[4, 16, 36, 64, 100]\n"
     ]
    }
   ],
   "source": [
    "#---------1부터 10까지의 숫자 중에서 짝수만 제곱하여 리스트 생성---------\n",
    "\n",
    "# 리스트 컴프리헨션 사용\n",
    "squares = [x**2 for x in range(1, 11) if x % 2 == 0]\n",
    "print(squares)  # 출력: [4, 16, 36, 64, 100]\n",
    "\n",
    "# 리스트 컴프리헨션 미사용\n",
    "squares = []\n",
    "for x in range(1, 11):\n",
    "    if x % 2 == 0:\n",
    "        squares.append(x**2)\n",
    "print(squares)  # 출력: [4, 16, 36, 64, 100]"
   ]
  },
  {
   "cell_type": "code",
   "execution_count": 61,
   "id": "70d4b9eb",
   "metadata": {},
   "outputs": [
    {
     "name": "stdout",
     "output_type": "stream",
     "text": [
      "[5, 6, 6]\n"
     ]
    }
   ],
   "source": [
    "#-----------문자열 리스트에서 각 단어의 길이로 구성된 리스트 생성-----------\n",
    "\n",
    "words = ['apple', 'banana', 'cherry']\n",
    "lengths = [len(word) for word in words]\n",
    "print(lengths)  # 출력: [5, 6, 6]"
   ]
  },
  {
   "cell_type": "markdown",
   "id": "b04edd4e",
   "metadata": {},
   "source": [
    "</br>\n",
    "\n",
    "### 실습 문제 1 : 리스트 슬라이싱 & 메서드 콜라주\n",
    "\n",
    "```cities = [\"Seoul\", \"Busan\", \"Incheon\", \"Gwangju\", \"Daejeon\"]```\n",
    "\n",
    "- TODO 1) 리스트에서 가운데 3개 도시만 잘라 sub_cities 에 저장\n",
    "- TODO 2) sub_cities 의 순서를 거꾸로 뒤집어 reversed_cities 에 저장\n",
    "- TODO 3) reversed_cities 에 \"Ulsan\" 을 맨 뒤에 추가\n",
    "- TODO 4) 최종 리스트를 출력"
   ]
  },
  {
   "cell_type": "markdown",
   "id": "a6b291f0",
   "metadata": {},
   "source": []
  },
  {
   "cell_type": "code",
   "execution_count": 62,
   "id": "7bd5c38f",
   "metadata": {},
   "outputs": [
    {
     "name": "stdout",
     "output_type": "stream",
     "text": [
      "['Busan', 'Incheon', 'Gwangju']\n",
      "['Gwangju', 'Incheon', 'Busan', 'Ulsan']\n"
     ]
    }
   ],
   "source": [
    "cities = [\"Seoul\", \"Busan\", \"Incheon\", \"Gwangju\", \"Daejeon\"]\n",
    "sub_cities = []\n",
    "\n",
    "# 1) 리스트에서 가운데 3개 도시만 잘라 sub_cities 에 저장\n",
    "for i in range(len(cities)) :\n",
    "    if i > 0 and i <4 :\n",
    "        sub_cities.append(cities[i])\n",
    "print(sub_cities)\n",
    "\n",
    "# 2) sub_cities 의 순서를 거꾸로 뒤집어 reversed_cities 에 저장\n",
    "sub_cities.reverse()  # reverse()는 리스트 자체를 제자리에서 뒤집기만 하고, 새로운 리스트를 반환하지 않음\n",
    "reversed_cities = sub_cities\n",
    "\n",
    "# 3) reversed_cities 에 \"Ulsan\" 을 맨 뒤에 추가\n",
    "reversed_cities.append('Ulsan')\n",
    "\n",
    "# 4) 최종 리스트를 출력\n",
    "print(reversed_cities)"
   ]
  },
  {
   "cell_type": "markdown",
   "id": "a68d1182",
   "metadata": {},
   "source": [
    "</br>\n",
    "\n",
    "### 실습 문제 2 : 리스트 컴프리헨션으로 데이터 가공(반복문, 조건문 사용)\n",
    "\n",
    "아래 조건을 만족하는 리스트를 한 줄의 리스트 컴프리헨션으로 생성해 보세요. </br>(먼저 리스트 컴프리헨션을 사용하지 않고 생성하고 그 내용을 리스트 컴프리헨션으로 바꿔보세요! )\n",
    "\n",
    "1. 1부터 30 까지 정수 중\n",
    "2. 3의 배수이면서 2의 배수가 **아닌** 숫자를 제곱해서 저장\n",
    "3. 결과 리스트를 `result` 변수에 담고 출력"
   ]
  },
  {
   "cell_type": "code",
   "execution_count": 63,
   "id": "c126f8f6",
   "metadata": {},
   "outputs": [
    {
     "name": "stdout",
     "output_type": "stream",
     "text": [
      "[9, 81, 225, 441, 729]\n",
      "[9, 81, 225, 441, 729]\n"
     ]
    }
   ],
   "source": [
    "# 일반 반복/조건문\n",
    "result = []\n",
    "for i in range(1, 31) :\n",
    "    if i % 2 != 0 and i % 3 == 0 :\n",
    "        result.append(i**2)\n",
    "print(result)\n",
    "\n",
    "# 리스트 컴프리헨션\n",
    "result2 = [i**2 for i in range(1,31) if i % 2 != 0 and i % 3 == 0 ]\n",
    "print(result2)"
   ]
  },
  {
   "cell_type": "markdown",
   "id": "d67f4aa9",
   "metadata": {},
   "source": [
    "</br>\n",
    "\n",
    "### 실습 문제 3 : 리스트의 최대/최소와 평균 구하기\n",
    "\n",
    "1. 사용자에게 정수 여러 개를 입력받아 리스트에 저장하세요. (예: `10 20 30 5 7`)\n",
    "2. 리스트의 **최댓값, 최솟값, 평균**을 각각 구해 출력하세요.\n",
    "   \n",
    "힌트 : 리스트의 최대 값은 max(), 최소값은 min, 평균은 리스트의 합(sum()) 나누기 리스트의 길이(len) 입니다! 이해가 잘 안된다면 검색 ! 아시죠~?"
   ]
  },
  {
   "cell_type": "code",
   "execution_count": 64,
   "id": "40b8da33",
   "metadata": {},
   "outputs": [
    {
     "name": "stdout",
     "output_type": "stream",
     "text": [
      "[10, 20, 30, 5, 7]\n",
      "최댓값 : 30\n",
      "최소값 : 5\n",
      "평균 : 14.4\n"
     ]
    }
   ],
   "source": [
    "l = list(map(int, input().split())) #<-- 여러개 입력을 리스트에 저장\n",
    "\n",
    "print(l)\n",
    "\n",
    "# l.max() <--X max()는 리스트의 메서드가 아님\n",
    "M = max(l)\n",
    "m = min(l)\n",
    "avg = sum(l)/len(l)\n",
    "\n",
    "print(f\"최댓값 : {M}\")\n",
    "print(f\"최소값 : {m}\")\n",
    "print(f\"평균 : {avg}\")\n",
    "\n",
    "# 아니 이거하는데 이렇게 오래걸릴 거 있냐..\n",
    "# 그냥 잠자코 강의를 들어라 진심.."
   ]
  },
  {
   "cell_type": "markdown",
   "id": "d7bd6957",
   "metadata": {},
   "source": [
    "</br></br>\n",
    "\n",
    "## 튜플 메서드 (Tuple Methods)\n",
    "\n",
    "### 튜플 생성"
   ]
  },
  {
   "cell_type": "code",
   "execution_count": 65,
   "id": "8b14243b",
   "metadata": {},
   "outputs": [
    {
     "name": "stdout",
     "output_type": "stream",
     "text": [
      "(1, 2, 3) <class 'tuple'>\n",
      "(1, 2, 3) <class 'tuple'>\n"
     ]
    }
   ],
   "source": [
    "# 괄호 사용 생성\n",
    "numbers = (1, 2, 3)\n",
    "\n",
    "# 괄호 미사용 생성\n",
    "numbers2 = 1, 2, 3\n",
    "\n",
    "# 단일 요소 튜플 생성\n",
    "single_element = (5,)   # 쉼표가 없으면 일반 값으로 인식\n",
    "\n",
    "print(numbers, type(numbers))\n",
    "print(numbers2, type(numbers2))"
   ]
  },
  {
   "cell_type": "markdown",
   "id": "a0d5bc03",
   "metadata": {},
   "source": [
    "```count(item)``` : 튜플에서 특정 요소의 개수를 반환합니다."
   ]
  },
  {
   "cell_type": "code",
   "execution_count": 66,
   "id": "8a3ef9a9",
   "metadata": {},
   "outputs": [
    {
     "name": "stdout",
     "output_type": "stream",
     "text": [
      "1\n"
     ]
    }
   ],
   "source": [
    "num = (1,2,3,4,5)\n",
    "print(num.count(3)) # 튜플 내 3의 개수"
   ]
  },
  {
   "cell_type": "markdown",
   "id": "0dc099b2",
   "metadata": {},
   "source": [
    "\n",
    "```index(item)``` : 튜플에서 첫 번째로 일치하는 요소의 인덱스를 반환합니다."
   ]
  },
  {
   "cell_type": "code",
   "execution_count": 67,
   "id": "d390435b",
   "metadata": {},
   "outputs": [
    {
     "name": "stdout",
     "output_type": "stream",
     "text": [
      "1\n"
     ]
    }
   ],
   "source": [
    "fruits = ('apple', 'banana', 'cherry')\n",
    "print(fruits.index('banana'))"
   ]
  },
  {
   "cell_type": "markdown",
   "id": "512cf989",
   "metadata": {},
   "source": [
    "</br>\n",
    "\n",
    "### 튜플의 정렬"
   ]
  },
  {
   "cell_type": "markdown",
   "id": "f6a715b9",
   "metadata": {},
   "source": [
    "힌트 : ```sorted(정렬할 대상, 정렬 기준, reverse=True/False)```"
   ]
  },
  {
   "cell_type": "code",
   "execution_count": 68,
   "id": "0997a239",
   "metadata": {},
   "outputs": [
    {
     "name": "stdout",
     "output_type": "stream",
     "text": [
      "[('Dave', 'A', 10), ('Jane', 'B', 12), ('John', 'A', 15)]\n"
     ]
    }
   ],
   "source": [
    "students = [('John', 'A', 15), ('Jane', 'B', 12), ('Dave', 'A', 10)]\n",
    "\n",
    "# 나이를 기준으로 정렬\n",
    "students_sorted = sorted(students, key=lambda student: student[2])\n",
    "print(students_sorted)\n",
    "# 출력: [('Dave', 'A', 10), ('Jane', 'B', 12), ('John', 'A', 15)]"
   ]
  },
  {
   "cell_type": "markdown",
   "id": "842bfd05",
   "metadata": {},
   "source": [
    "### 튜플의 불변성\n",
    "\n",
    ": 튜플은 불변 자료형으로, 생성 후에는 요소 변경 불가능"
   ]
  },
  {
   "cell_type": "code",
   "execution_count": null,
   "id": "65d14d52",
   "metadata": {},
   "outputs": [],
   "source": [
    "my_tuple = (1, 2, 3)\n",
    "# 다음 코드는 오류를 발생시킵니다.\n",
    "my_tuple[0] = 10  # TypeError: 'tuple' object does not support item assignment\n",
    "\n",
    "# 요소 추가 시도\n",
    "my_tuple += (4,)  # 새로운 튜플을 생성하여 my_tuple에 할당\n",
    "print(my_tuple)   # 출력: (1, 2, 3, 4)\n",
    "\n",
    "# 그러나 원본 튜플은 변경되지 않습니다.\n",
    "original_tuple = (1, 2, 3)\n",
    "new_tuple = original_tuple + (4,)\n",
    "print(original_tuple)  # 출력: (1, 2, 3)\n",
    "print(new_tuple)       # 출력: (1, 2, 3, 4)"
   ]
  },
  {
   "cell_type": "markdown",
   "id": "43ceed39",
   "metadata": {},
   "source": [
    "</br>\n",
    "\n",
    "### 실습 문제 1 : 튜플 언패킹 & 값 교환\n",
    "\n",
    "1. 두 변수 `a`, `b`에 각각 정수를 입력받아 저장하세요.\n",
    "2. 튜플 언패킹을 활용해 **a와 b의 값을 교환**한 뒤 출력하세요."
   ]
  },
  {
   "cell_type": "code",
   "execution_count": null,
   "id": "07962eea",
   "metadata": {},
   "outputs": [
    {
     "name": "stdout",
     "output_type": "stream",
     "text": [
      "10 20\n",
      "20 10\n"
     ]
    }
   ],
   "source": [
    "a = int(input(\"입력 : \"))\n",
    "b = int(input(\"입력 : \"))\n",
    "\n",
    "print(a, b)\n",
    "a, b = b, a\n",
    "\n",
    "print(a, b)"
   ]
  },
  {
   "cell_type": "markdown",
   "id": "3ad51827",
   "metadata": {},
   "source": [
    "</br>\n",
    "\n",
    "### 실습 문제 2 : 과일 바구니 슬라이싱\n",
    "\n",
    "```fruits = (\"사과\", \"배\", \"포도\", \"딸기\", \"바나나\", \"귤\", \"망고\")```\n",
    "\n",
    "- 아래 조건에 맞게 슬라이싱을 사용하여 출력하세요.\n",
    "    - 첫 번째부터 세 번째까지 과일\n",
    "    - 뒤에서 3개 과일\n",
    "    - 짝수 인덱스(0, 2, 4, …) 과일만 출력\n"
   ]
  },
  {
   "cell_type": "code",
   "execution_count": null,
   "id": "f40ff470",
   "metadata": {},
   "outputs": [
    {
     "name": "stdout",
     "output_type": "stream",
     "text": [
      "('사과', '배', '포도')\n",
      "('바나나', '귤', '망고')\n",
      "('사과', '포도', '바나나', '망고')\n"
     ]
    }
   ],
   "source": [
    "fruits = (\"사과\", \"배\", \"포도\", \"딸기\", \"바나나\", \"귤\", \"망고\")\n",
    "print(fruits[0:3])\n",
    "print(fruits[-3:])\n",
    "print(fruits[::2])"
   ]
  },
  {
   "cell_type": "markdown",
   "id": "454b8c49",
   "metadata": {},
   "source": [
    "</br></br>\n",
    "\n",
    "## 딕셔너리 메서드 (Dictionary Methods)"
   ]
  },
  {
   "cell_type": "markdown",
   "id": "bef0938d",
   "metadata": {},
   "source": [
    "### 딕셔너리 생성"
   ]
  },
  {
   "cell_type": "code",
   "execution_count": null,
   "id": "5b43bc04",
   "metadata": {},
   "outputs": [],
   "source": [
    "# 1. 중괄호 사용 생성\n",
    "student = {\n",
    "    'id': 12345,\n",
    "    'name': 'John Doe',\n",
    "    'grade': 'A'\n",
    "}\n",
    "\n",
    "# 2. dict() 함수 사용 생성\n",
    "    # 2-1. 1인자 사용\n",
    "car = dict(brand='Ford', model='Mustang', year=1964)\n",
    "    # 2-2. 리스트/튜플 사용\n",
    "items = [('apple', 2), ('banana', 3)]\n",
    "fruit_dict = dict(items)"
   ]
  },
  {
   "cell_type": "markdown",
   "id": "d5ac3b7b",
   "metadata": {},
   "source": [
    "</br>\n",
    "\n",
    "### 딕셔너리 요소 접근 및 변경\n",
    "\n",
    "`get()` : 요소 접근"
   ]
  },
  {
   "cell_type": "code",
   "execution_count": null,
   "id": "37992f44",
   "metadata": {},
   "outputs": [
    {
     "name": "stdout",
     "output_type": "stream",
     "text": [
      "Alice\n",
      "25\n",
      "New York\n",
      "None\n",
      "USA\n"
     ]
    }
   ],
   "source": [
    "person = {'name': 'Alice', 'age': 25, 'city': 'New York'}\n",
    "\n",
    "# 키를 사용하여 값에 접근\n",
    "print(person['name'])  # 출력: Alice\n",
    "print(person['age'])   # 출력: 25\n",
    "\n",
    "# `get()` 메서드를 사용하여 값(value)에 접근 (키가 없을 때 기본값 설정 가능)\n",
    "print(person.get('city'))       # 출력: New York\n",
    "print(person.get('country'))    # 출력: None\n",
    "print(person.get('country', 'USA'))  # 출력: USA"
   ]
  },
  {
   "cell_type": "markdown",
   "id": "448b999a",
   "metadata": {},
   "source": [
    "```del, pop(), clear()``` : 요소 삭제"
   ]
  },
  {
   "cell_type": "code",
   "execution_count": null,
   "id": "8522d4a6",
   "metadata": {},
   "outputs": [
    {
     "name": "stdout",
     "output_type": "stream",
     "text": [
      "{'name': 'Alice', 'age': 25}\n",
      "25\n",
      "{'name': 'Alice'}\n",
      "{}\n"
     ]
    }
   ],
   "source": [
    "# `del` 키워드를 사용하여 요소 삭제\n",
    "del person['city']\n",
    "print(person)  # 출력: {'name': 'Alice', 'age': 26, 'country': 'USA'}\n",
    "\n",
    "# `pop()` 메서드를 사용하여 요소 삭제 및 값 반환\n",
    "age = person.pop('age')\n",
    "print(age)     # 출력: 26\n",
    "print(person)  # 출력: {'name': 'Alice', 'country': 'USA'}\n",
    "\n",
    "# 모든 요소 삭제\n",
    "person.clear()\n",
    "print(person)  # 출력: {}"
   ]
  },
  {
   "cell_type": "markdown",
   "id": "4c2923a7",
   "metadata": {},
   "source": [
    "</br>\n",
    "\n",
    "- ```keys()``` : 모든 키 반환\n",
    "\n",
    "- ```values()``` : 모든 값 반환\n",
    "\n",
    "- ```items()``` : 모든 키-값 쌍 반환"
   ]
  },
  {
   "cell_type": "code",
   "execution_count": null,
   "id": "99bcbdc9",
   "metadata": {},
   "outputs": [
    {
     "name": "stdout",
     "output_type": "stream",
     "text": [
      "dict_keys(['name', 'age', 'city'])\n",
      "dict_values(['Alice', 25, 'New York'])\n",
      "dict_items([('name', 'Alice'), ('age', 25), ('city', 'New York')])\n"
     ]
    }
   ],
   "source": [
    "person = {'name': 'Alice', 'age': 25, 'city': 'New York'}\n",
    "keys = person.keys()\n",
    "print(keys)  # 출력: dict_keys(['name', 'age', 'city'])\n",
    "\n",
    "values = person.values()\n",
    "print(values)  # 출력: dict_values(['Alice', 25, 'New York'])\n",
    "\n",
    "items = person.items()\n",
    "print(items)  # 출력: dict_items([('name', 'Alice'), ('age', 25), ('city', 'New York')])"
   ]
  },
  {
   "cell_type": "markdown",
   "id": "6caf7b7d",
   "metadata": {},
   "source": [
    "</br>\n",
    "\n",
    "### 딕셔너리의 반복문 활용"
   ]
  },
  {
   "cell_type": "code",
   "execution_count": null,
   "id": "8e50ab09",
   "metadata": {},
   "outputs": [
    {
     "name": "stdout",
     "output_type": "stream",
     "text": [
      "name Alice\n",
      "age 25\n",
      "city New York\n",
      "name\n",
      "age\n",
      "city\n",
      "Alice\n",
      "25\n",
      "New York\n",
      "name: Alice\n",
      "age: 25\n",
      "city: New York\n"
     ]
    }
   ],
   "source": [
    "# 키를 통한 반복\n",
    "for key in person:\n",
    "    print(key, person[key])\n",
    "\n",
    "# keys() 메서드를 통한 반복\n",
    "for key in person.keys():\n",
    "    print(key)\n",
    "\n",
    "# values() 메서드를 통한 반복\n",
    "for value in person.values():\n",
    "    print(value)\n",
    "\n",
    "# items() 메서드를 통한 반복\n",
    "for key, value in person.items():\n",
    "    print(f'{key}: {value}')"
   ]
  },
  {
   "cell_type": "markdown",
   "id": "3a8ce7ec",
   "metadata": {},
   "source": [
    "</br>\n",
    "\n",
    "### 딕셔너리 컴프리헨션\n",
    "```new_dict = {key_expression: value_expression for item in iterable}```"
   ]
  },
  {
   "cell_type": "code",
   "execution_count": null,
   "id": "d5048972",
   "metadata": {},
   "outputs": [],
   "source": [
    "#1부터 5까지의 숫자를 키로 하고, 그 제곱을 값으로 하는 딕셔너리 생성\n",
    "squares = {x: x**2 for x in range(1, 6)}\n",
    "print(squares)  # 출력: {1: 1, 2: 4, 3: 9, 4: 16, 5: 25}\n",
    "\n",
    "#기존 딕셔너리에서 특정 조건에 맞는 요소만 필터링\n",
    "original = {'apple': 2, 'banana': 3, 'cherry': 5, 'date': 4}\n",
    "filtered = {k: v for k, v in original.items() if v % 2 == 0}\n",
    "print(filtered)  # 출력: {'apple': 2, 'date': 4}"
   ]
  },
  {
   "cell_type": "markdown",
   "id": "c62ef91f",
   "metadata": {},
   "source": [
    "</br>\n",
    "\n",
    "### sort( ) VS sorted( )\n",
    "\n",
    "sort( ) : ```정렬할 대상.sort()```\n",
    "\n",
    "sorted( ) : ```sorted(정렬할 대상, 정렬 기준, reverse=True/False)```\n"
   ]
  },
  {
   "cell_type": "markdown",
   "id": "4d5c52c4",
   "metadata": {},
   "source": [
    "### **lambda**\n",
    "\n",
    "- **무기명 함수** : 이름을 붙이지 않아도 되므로 즉석 전달에 편리함\n",
    "- def 어쩌구... 저쩌구.. 로 길게 작성하지 않고 **간단하게 작성 가능**\n",
    "- 따로 정의하기엔 **한번 쓰고 말꺼임**\n",
    "\n",
    "-  `lambda x(input) : x를 이용한 식(output)`\n",
    "  \n",
    "\n",
    "\n",
    "### **map**\n",
    "\n",
    "- 객체(원소들로 이뤄져잇음)에 한번에 함수 다 적용하겠다. (=모든원소에 다 함수 적용하겠다.)\n"
   ]
  },
  {
   "cell_type": "markdown",
   "id": "962bfdf4",
   "metadata": {},
   "source": [
    "</br>\n",
    "\n",
    "### 실습 문제 1 : 심플 연락처 관리"
   ]
  },
  {
   "cell_type": "code",
   "execution_count": null,
   "id": "379327c6",
   "metadata": {},
   "outputs": [
    {
     "name": "stdout",
     "output_type": "stream",
     "text": [
      "가:111\n",
      "나:222\n",
      "다:333\n",
      "ori :  {'가': '111', '나': '222', '다': '333'}\n",
      "new :  {'가': '111', '다': '333'}\n"
     ]
    }
   ],
   "source": [
    "# 1. 먼저 빈 딕셔너리를 하나 만드세요.\n",
    "phonebook = {}\n",
    "\n",
    "# 2. input()을 사용하여 이름과 전화번호를 3명 입력받으세요.\n",
    "for _ in range(3) : # 불필요한 변수는 언더바(_)로 표현 가능\n",
    "    name = input(\"이름\")\n",
    "    num = input(\"전화번호\")\n",
    "    phonebook[name] = num\n",
    "\n",
    "# 3. 모든 연락처를 한 줄씩 \"홍길동:010-1234-5678\" 형식으로 출력하세요.\n",
    "for key, value in phonebook.items() : \n",
    "    print(f\"{key}:{value}\")\n",
    "    \n",
    "# 4. 마지막으로 삭제할 이름을 input()으로 한 번 더 입력받고, 해당 키를 pop()으로 삭제하세요.\n",
    "del_name = input(\"삭제할 이름\")\n",
    "if del_name in phonebook :\n",
    "    print(\"ori : \",phonebook)\n",
    "    phonebook.pop(del_name)\n",
    "    print(\"new : \",phonebook)\n",
    "else :\n",
    "    print(\"잘못된 입력입니다.\")\n",
    "    "
   ]
  },
  {
   "cell_type": "markdown",
   "id": "aedb4346",
   "metadata": {},
   "source": [
    "</br>\n",
    "\n",
    "### 실습 문제 2 : 시험 점수 딕셔너리 분석\n",
    "\n",
    "```scores = {\"Alice\": 88, \"Bob\": 95, \"Charlie\": 70, \"Dave\": 95, \"Eve\": 62}```"
   ]
  },
  {
   "cell_type": "code",
   "execution_count": null,
   "id": "a6291bc2",
   "metadata": {},
   "outputs": [
    {
     "name": "stdout",
     "output_type": "stream",
     "text": [
      "평균:  82.0\n",
      "최고 점수 학생: \n",
      "Bob(95)\n",
      "Dave(95)\n"
     ]
    },
    {
     "data": {
      "text/plain": [
       "{'Alice': 'Pass',\n",
       " 'Bob': 'Pass',\n",
       " 'Charlie': 'Pass',\n",
       " 'Dave': 'Pass',\n",
       " 'Eve': 'Fail'}"
      ]
     },
     "execution_count": 41,
     "metadata": {},
     "output_type": "execute_result"
    }
   ],
   "source": [
    "scores = {\"Alice\": 88, \"Bob\": 95, \"Charlie\": 70, \"Dave\": 95, \"Eve\": 62}\n",
    "\n",
    "# 1. 모든 학생의 평균 점수를 출력하세요.\n",
    "avg = sum(scores.values()) / len(scores)\n",
    "print(\"평균: \",avg)\n",
    "\n",
    "# 2. 최고 점수를 받은 학생 이름과 점수를 모두 출력하세요. (동점 가능)\n",
    "M = max(scores.values())\n",
    "\n",
    "print(\"최고 점수 학생: \")\n",
    "for name, score in scores.items():\n",
    "    if score == M :\n",
    "        print(f\"{name}({score})\")\n",
    "\n",
    "# 3. 점수가 70점 이상이면 \"Pass\", 아니면 \"Fail\"을 저장하는 새 딕셔너리를 만들어 출력하세요.\n",
    "#먼저 일반 for문으로 만든 뒤, 같은 내용을 딕셔너리 컴프리헨션으로 바꿔보세요.\n",
    "pf = {}\n",
    "for name, score in scores.items():\n",
    "    if score >= 70 :\n",
    "        pf[name] = 'Pass'\n",
    "    else :\n",
    "        pf[name] = 'Fail'\n",
    "\n",
    "# 같은 내용을 딕셔너리 컴프리헨션으로 바꿔보세요.  \n",
    "pf = {name: ('Pass' if score >= 70 else 'Fail') for name, score in scores.items()}\n",
    "\n",
    "pf\n"
   ]
  },
  {
   "cell_type": "markdown",
   "id": "eb6a7c9f",
   "metadata": {},
   "source": [
    "### 실습 문제 3 : 람다로 딕셔너리 정렬"
   ]
  },
  {
   "cell_type": "code",
   "execution_count": null,
   "id": "079878d0",
   "metadata": {},
   "outputs": [
    {
     "data": {
      "text/plain": [
       "{'Monitor': 219000,\n",
       " 'Webcam': 89000,\n",
       " 'Speaker': 49000,\n",
       " 'Keyboard': 49000,\n",
       " 'Mouse': 25000}"
      ]
     },
     "execution_count": 50,
     "metadata": {},
     "output_type": "execute_result"
    }
   ],
   "source": [
    "products = {\n",
    "    \"Keyboard\": 49_000,\n",
    "    \"Monitor\": 219_000,\n",
    "    \"Mouse\": 25_000,\n",
    "    \"Speaker\": 49_000,\n",
    "    \"Webcam\": 89_000\n",
    "}\n",
    "\n",
    "# 1. `sorted()`와 **람다 함수**를 이용해 아래 조건으로 정렬하세요.\n",
    "#    - 가격 기준 **내림차순**\n",
    "#    - 가격이 같다면 **상품 이름 기준 오름차순**\n",
    "# x = key,  product[x] = value\n",
    "sorted(products, key = lambda x : (products[x],x), reverse=True)\n",
    "\n",
    "# 정렬된 결과를 다시 딕셔너리로 변환해 sorted_products에 저장한 뒤 출력하세요.\n",
    "sorted_products = dict(sorted(products.items(), key = lambda x : (x[1], x[0]), reverse=True))\n",
    "sorted_products"
   ]
  }
 ],
 "metadata": {
  "kernelspec": {
   "display_name": "Python 3",
   "language": "python",
   "name": "python3"
  },
  "language_info": {
   "codemirror_mode": {
    "name": "ipython",
    "version": 3
   },
   "file_extension": ".py",
   "mimetype": "text/x-python",
   "name": "python",
   "nbconvert_exporter": "python",
   "pygments_lexer": "ipython3",
   "version": "3.10.10"
  }
 },
 "nbformat": 4,
 "nbformat_minor": 5
}
