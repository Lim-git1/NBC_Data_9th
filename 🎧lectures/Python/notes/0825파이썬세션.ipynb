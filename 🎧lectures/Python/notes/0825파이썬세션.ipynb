{
 "cells": [
  {
   "cell_type": "markdown",
   "id": "d4bcc54d",
   "metadata": {},
   "source": []
  },
  {
   "cell_type": "markdown",
   "id": "449d8b57",
   "metadata": {},
   "source": [
    "# 클래스(Class)\n",
    "\n",
    "### 클래스\n",
    "- 객체를 만들기 위한 설계도나 틀.\n",
    "- **속성(특징, 데이터)** 과 **메서드(기능, 함수)** 로 구성된다.\n",
    "\n",
    "### 객체\n",
    "- 클래스를 통해 만들어낸 실제 사물(인스턴스).\n",
    "- 클래스를 붕어빵 틀이라고 한다면, 객체는 틀로 찍어낸 붕어빵\n",
    "\n",
    "### 인스턴스\n",
    "- 특정 클래스로부터 생성된 객체\n",
    "\n",
    "**클래스**는 객체를 만들기 위한 **청사진**</br>\n",
    "**객체**는 청사진을 바탕으로 생성된 **실체**\n",
    "\n",
    "</br>\n",
    "\n",
    "---\n",
    "\n",
    "</br>\n",
    "\n",
    "### 클래스\n",
    "```python\n",
    "class 클래스이름:\n",
    "    # 클래스 본문\n",
    "    # 속성(변수)과 메서드(함수)를 정의\n",
    "```\n",
    "\n",
    "- 클래스 이름은 단어의 첫 글자를 대문자로 시작\n",
    "- 변수 : 인스턴스 변수, 클래스 변수\n",
    "- 메서드 : 인스턴스 메서드, 클래스 메서드, 정적 메서드\n",
    "\n",
    "</br>\n",
    "\n",
    "### ```__init__``` 메서드 (생성자)\n",
    "\n",
    "- 인스턴스가 생성될 때 자동으로 호출되는 메서드\n",
    "- 초기값을 설정하는 역할\n",
    "\n",
    "### 접근 지정자 스킵함요"
   ]
  },
  {
   "cell_type": "code",
   "execution_count": null,
   "id": "282b84d9",
   "metadata": {},
   "outputs": [
    {
     "name": "stdout",
     "output_type": "stream",
     "text": [
      "안녕하세요, 제 이름은 홍길동이고, 나이는 33살입니다.\n"
     ]
    }
   ],
   "source": [
    "class Person :\n",
    "    def __init__(self, name, age):\n",
    "        self.name = name\n",
    "        self.age = age\n",
    "        \n",
    "    def introduce(self) :\n",
    "        print(f\"안녕하세요, 제 이름은 {self.name}이고, 나이는 {self.age}살입니다.\")\n",
    "\n",
    "    def say_hello(self) :\n",
    "        print(f\"HEllo, my name is {self.name}\")\n",
    "\n",
    "\n",
    "person = Person(\"홍길동\", 33)\n",
    "person.introduce()"
   ]
  },
  {
   "cell_type": "markdown",
   "id": "f232e4b8",
   "metadata": {},
   "source": [
    "### 상속"
   ]
  },
  {
   "cell_type": "code",
   "execution_count": 2,
   "id": "a789e948",
   "metadata": {},
   "outputs": [
    {
     "name": "stdout",
     "output_type": "stream",
     "text": [
      "멍멍이가 멍멍 짖습니다.\n",
      "야옹하고 짖는 동물은 나비입니다.\n"
     ]
    }
   ],
   "source": [
    "class Animal:\n",
    "    def __init__(self, name):\n",
    "        self.name = name\n",
    "\n",
    "    def speak(self):\n",
    "        print(\"동물이 소리를 냅니다.\")\n",
    "\n",
    "class Dog(Animal):  # Animal 클래스를 상속\n",
    "    def speak(self):\n",
    "        print(f\"{self.name}가 멍멍 짖습니다.\")\n",
    "        \n",
    "class Cat(Animal) :\n",
    "    def speak(self):\n",
    "        print(f\"야옹하고 짖는 동물은 {self.name}입니다.\")\n",
    "\n",
    "dog = Dog(\"멍멍이\")\n",
    "dog.speak()  # \"멍멍이가 멍멍 짖습니다.\"\n",
    "\n",
    "cat = Cat(\"나비\")\n",
    "cat.speak()"
   ]
  },
  {
   "cell_type": "markdown",
   "id": "5ab859a0",
   "metadata": {},
   "source": [
    "### 다형성\n",
    "\n",
    "같은 메서드 이름이 다양한 클래스에서 다른 형태로 동작할 수 있다."
   ]
  },
  {
   "cell_type": "code",
   "execution_count": null,
   "id": "16ddc0fc",
   "metadata": {},
   "outputs": [],
   "source": [
    "class Animal:\n",
    "    def speak(self):\n",
    "        print(\"동물 소리\")\n",
    "\n",
    "class Cat(Animal):\n",
    "    def speak(self):\n",
    "        print(\"야옹\")\n",
    "\n",
    "class Dog(Animal):\n",
    "    def speak(self):\n",
    "        print(\"멍멍\")\n",
    "\n",
    "\n",
    "# 같은 speak() 메서드를 호출하지만, 객체의 타입에 따라 다른 결과를 얻음\n",
    "\n",
    "animals = [Cat(), Dog(), Animal()]\n",
    "for a in animals:\n",
    "    a.speak()\n",
    "    # Cat 인스턴스 -> \"야옹\"\n",
    "    # Dog 인스턴스 -> \"멍멍\"\n",
    "    # Animal 인스턴스 -> \"동물 소리\""
   ]
  },
  {
   "cell_type": "markdown",
   "id": "269f508a",
   "metadata": {},
   "source": [
    "### 문제 1 : Point 클래스\n",
    "\n",
    "- `Point`라는 이름의 클래스를 정의하세요.\n",
    "- **인스턴스 변수** `x`, `y`를 만들어 좌표를 저장합니다.\n",
    "- 메서드 기능은 아래와 같습니다.\n",
    "    1. `move(dx, dy)` → 현재 좌표를 `dx`, `dy`만큼 이동시킴\n",
    "    2. `show()` → 현재 좌표를 `\"Point(x, y)\"` 형식으로 출력"
   ]
  },
  {
   "cell_type": "code",
   "execution_count": 9,
   "id": "462872d1",
   "metadata": {},
   "outputs": [
    {
     "name": "stdout",
     "output_type": "stream",
     "text": [
      "Point ((3, 5))\n"
     ]
    }
   ],
   "source": [
    "class Point :\n",
    "    def __init__(self,x, y):    # 인스턴스 변수 x, y를 만들어 좌표에 저장합니다.\n",
    "        self.x = x\n",
    "        self.y = y\n",
    "        \n",
    "    def move(self, dx, dy) :\n",
    "        self.x += dx\n",
    "        self.y += dy\n",
    "        \n",
    "    def show(self) :\n",
    "        print(f\"Point ({self.x,self.y})\")\n",
    "        \n",
    "        \n",
    "p = Point(1, 2)\n",
    "p.move(2, 3)     # (1+2, 2+3) → (3, 5)\n",
    "p.show()         # Point(3, 5)"
   ]
  },
  {
   "cell_type": "markdown",
   "id": "62cf0779",
   "metadata": {},
   "source": [
    "### 문제 2 : Counter 클래스\n",
    "\n",
    "- `Counter`라는 이름의 클래스를 정의하세요.\n",
    "- 클래스 변수 `count`는 생성된 객체의 개수를 기록합니다.\n",
    "- 객체가 생성될 때마다 `count`를 1 증가시키세요.\n",
    "- 클래스 메서드 `how_many()`를 만들어 현재까지 몇 개의 인스턴스가 만들어졌는지 출력하세요."
   ]
  },
  {
   "cell_type": "code",
   "execution_count": null,
   "id": "8d737c5a",
   "metadata": {},
   "outputs": [
    {
     "name": "stdout",
     "output_type": "stream",
     "text": [
      "현재까지 3개 생성\n"
     ]
    }
   ],
   "source": [
    "class Counter :\n",
    "    count = 0   # 클래스 변수 (모든 Counter 객체가 공유)\n",
    "    \n",
    "    def __init__(self): # 인스턴스가 생성될 때마다 count 증가\n",
    "        Counter.count += 1\n",
    "    \n",
    "    @classmethod    # 클래스 메서드 정의할 때 붙이는 데코레이터\n",
    "    def how_many(cls) : # 클래스 메서드 # 여기서 cls는 클래스 자체\n",
    "        print(f\"현재까지 {cls.count}개 생성\")\n",
    "        \n",
    "a = Counter()\n",
    "b = Counter()\n",
    "c = Counter()\n",
    "Counter.how_many()"
   ]
  },
  {
   "cell_type": "markdown",
   "id": "db9507b0",
   "metadata": {},
   "source": [
    "</br>\n",
    "\n",
    "### 문제 3 : Temperature 클래스\n",
    "\n",
    "- `Temperature`라는 이름의 클래스를 정의하세요.\n",
    "- 인스턴스 변수 `celsius`에 섭씨 온도를 저장합니다.\n",
    "- 메서드 기능은 아래와 같습니다.\n",
    "    1. `to_fahrenheit()` → 섭씨를 화씨로 변환하여 반환 (`℉ = ℃ × 9/5 + 32`)\n",
    "    2. `is_boiling()` → 섭씨 100도 이상이면 `True`, 아니면 `False` 반환"
   ]
  },
  {
   "cell_type": "code",
   "execution_count": 23,
   "id": "beb245a9",
   "metadata": {},
   "outputs": [
    {
     "name": "stdout",
     "output_type": "stream",
     "text": [
      "97.7\n",
      "False\n",
      "True\n"
     ]
    }
   ],
   "source": [
    "# 섭씨 : Celcius[셀시어스] | 화씨 : Fahrenheit[페렌하이트]\n",
    "\n",
    "class Temperature :\n",
    "    def __init__(self, celsius):\n",
    "        self.celsius = celsius\n",
    "        \n",
    "    def to_fahrenheit(self) :\n",
    "        result = self.celsius * 9/5 + 32\n",
    "        return result\n",
    "        \n",
    "    def is_boiling(self) :\n",
    "        # if self.celsius >= 100 : result = True\n",
    "        # else : result = False\n",
    "        # return result\n",
    "        return self.celsius >= 100\n",
    "        \n",
    "        \n",
    "t = Temperature(36.5)\n",
    "print(t.to_fahrenheit())  # 97.7\n",
    "print(t.is_boiling())     # False\n",
    "\n",
    "t2 = Temperature(120)\n",
    "print(t2.is_boiling())    # True\n",
    "    "
   ]
  }
 ],
 "metadata": {
  "kernelspec": {
   "display_name": "Python 3",
   "language": "python",
   "name": "python3"
  },
  "language_info": {
   "codemirror_mode": {
    "name": "ipython",
    "version": 3
   },
   "file_extension": ".py",
   "mimetype": "text/x-python",
   "name": "python",
   "nbconvert_exporter": "python",
   "pygments_lexer": "ipython3",
   "version": "3.10.10"
  }
 },
 "nbformat": 4,
 "nbformat_minor": 5
}
