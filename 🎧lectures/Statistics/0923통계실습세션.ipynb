{
 "cells": [
  {
   "cell_type": "code",
   "execution_count": 1,
   "metadata": {
    "executionInfo": {
     "elapsed": 2,
     "status": "ok",
     "timestamp": 1758543421320,
     "user": {
      "displayName": "서정욱",
      "userId": "16411020679186913535"
     },
     "user_tz": -540
    },
    "id": "PhPkZvUkQ6uv"
   },
   "outputs": [],
   "source": [
    "# 라이브러리 불러오기\n",
    "import pandas as pd\n",
    "import numpy as np\n",
    "import matplotlib.pyplot as plt\n",
    "import seaborn as sns\n",
    "from scipy import stats # 가설검정 기능 여기 다 있다!\n",
    "\n",
    "plt.style.use('ggplot')"
   ]
  },
  {
   "cell_type": "markdown",
   "metadata": {},
   "source": [
    "# 1. 데이터 선택\n",
    "\n",
    "- Kaggle Online Retail Dataset\n",
    "\n",
    "- 영국 기반 온라인 리테일 거래 데이터 (2010~2011년), 고객 ID, 제품, 수량, 가격, 국가 등 포함"
   ]
  },
  {
   "cell_type": "markdown",
   "metadata": {},
   "source": [
    "# 2. 데이터 전처리\n",
    "\n",
    "- 결측치 확인 및 제거 (CustomerID 없음 → 제외 or 다른 처리)\n",
    "\n",
    "- 이상치 처리 (수량 음수값 → 반품으로 분류)\n",
    "\n",
    "- 새로운 변수 생성 = 매출액 = 수량 × 단가"
   ]
  },
  {
   "cell_type": "code",
   "execution_count": 5,
   "metadata": {
    "colab": {
     "base_uri": "https://localhost:8080/"
    },
    "executionInfo": {
     "elapsed": 55888,
     "status": "ok",
     "timestamp": 1758544373077,
     "user": {
      "displayName": "서정욱",
      "userId": "16411020679186913535"
     },
     "user_tz": -540
    },
    "id": "kTOk-49LVEq-",
    "outputId": "fa231d16-84fb-44fa-97b1-87948c88f7c7"
   },
   "outputs": [],
   "source": [
    "# 데이터 불러오기\n",
    "df = pd.read_excel(\"../data/Online Retail.xlsx\")"
   ]
  },
  {
   "cell_type": "code",
   "execution_count": 6,
   "metadata": {},
   "outputs": [
    {
     "data": {
      "text/html": [
       "<div>\n",
       "<style scoped>\n",
       "    .dataframe tbody tr th:only-of-type {\n",
       "        vertical-align: middle;\n",
       "    }\n",
       "\n",
       "    .dataframe tbody tr th {\n",
       "        vertical-align: top;\n",
       "    }\n",
       "\n",
       "    .dataframe thead th {\n",
       "        text-align: right;\n",
       "    }\n",
       "</style>\n",
       "<table border=\"1\" class=\"dataframe\">\n",
       "  <thead>\n",
       "    <tr style=\"text-align: right;\">\n",
       "      <th></th>\n",
       "      <th>InvoiceNo</th>\n",
       "      <th>StockCode</th>\n",
       "      <th>Description</th>\n",
       "      <th>Quantity</th>\n",
       "      <th>InvoiceDate</th>\n",
       "      <th>UnitPrice</th>\n",
       "      <th>CustomerID</th>\n",
       "      <th>Country</th>\n",
       "    </tr>\n",
       "  </thead>\n",
       "  <tbody>\n",
       "    <tr>\n",
       "      <th>0</th>\n",
       "      <td>536365</td>\n",
       "      <td>85123A</td>\n",
       "      <td>WHITE HANGING HEART T-LIGHT HOLDER</td>\n",
       "      <td>6</td>\n",
       "      <td>2010-12-01 08:26:00</td>\n",
       "      <td>2.55</td>\n",
       "      <td>17850.0</td>\n",
       "      <td>United Kingdom</td>\n",
       "    </tr>\n",
       "    <tr>\n",
       "      <th>1</th>\n",
       "      <td>536365</td>\n",
       "      <td>71053</td>\n",
       "      <td>WHITE METAL LANTERN</td>\n",
       "      <td>6</td>\n",
       "      <td>2010-12-01 08:26:00</td>\n",
       "      <td>3.39</td>\n",
       "      <td>17850.0</td>\n",
       "      <td>United Kingdom</td>\n",
       "    </tr>\n",
       "    <tr>\n",
       "      <th>2</th>\n",
       "      <td>536365</td>\n",
       "      <td>84406B</td>\n",
       "      <td>CREAM CUPID HEARTS COAT HANGER</td>\n",
       "      <td>8</td>\n",
       "      <td>2010-12-01 08:26:00</td>\n",
       "      <td>2.75</td>\n",
       "      <td>17850.0</td>\n",
       "      <td>United Kingdom</td>\n",
       "    </tr>\n",
       "    <tr>\n",
       "      <th>3</th>\n",
       "      <td>536365</td>\n",
       "      <td>84029G</td>\n",
       "      <td>KNITTED UNION FLAG HOT WATER BOTTLE</td>\n",
       "      <td>6</td>\n",
       "      <td>2010-12-01 08:26:00</td>\n",
       "      <td>3.39</td>\n",
       "      <td>17850.0</td>\n",
       "      <td>United Kingdom</td>\n",
       "    </tr>\n",
       "    <tr>\n",
       "      <th>4</th>\n",
       "      <td>536365</td>\n",
       "      <td>84029E</td>\n",
       "      <td>RED WOOLLY HOTTIE WHITE HEART.</td>\n",
       "      <td>6</td>\n",
       "      <td>2010-12-01 08:26:00</td>\n",
       "      <td>3.39</td>\n",
       "      <td>17850.0</td>\n",
       "      <td>United Kingdom</td>\n",
       "    </tr>\n",
       "    <tr>\n",
       "      <th>...</th>\n",
       "      <td>...</td>\n",
       "      <td>...</td>\n",
       "      <td>...</td>\n",
       "      <td>...</td>\n",
       "      <td>...</td>\n",
       "      <td>...</td>\n",
       "      <td>...</td>\n",
       "      <td>...</td>\n",
       "    </tr>\n",
       "    <tr>\n",
       "      <th>541904</th>\n",
       "      <td>581587</td>\n",
       "      <td>22613</td>\n",
       "      <td>PACK OF 20 SPACEBOY NAPKINS</td>\n",
       "      <td>12</td>\n",
       "      <td>2011-12-09 12:50:00</td>\n",
       "      <td>0.85</td>\n",
       "      <td>12680.0</td>\n",
       "      <td>France</td>\n",
       "    </tr>\n",
       "    <tr>\n",
       "      <th>541905</th>\n",
       "      <td>581587</td>\n",
       "      <td>22899</td>\n",
       "      <td>CHILDREN'S APRON DOLLY GIRL</td>\n",
       "      <td>6</td>\n",
       "      <td>2011-12-09 12:50:00</td>\n",
       "      <td>2.10</td>\n",
       "      <td>12680.0</td>\n",
       "      <td>France</td>\n",
       "    </tr>\n",
       "    <tr>\n",
       "      <th>541906</th>\n",
       "      <td>581587</td>\n",
       "      <td>23254</td>\n",
       "      <td>CHILDRENS CUTLERY DOLLY GIRL</td>\n",
       "      <td>4</td>\n",
       "      <td>2011-12-09 12:50:00</td>\n",
       "      <td>4.15</td>\n",
       "      <td>12680.0</td>\n",
       "      <td>France</td>\n",
       "    </tr>\n",
       "    <tr>\n",
       "      <th>541907</th>\n",
       "      <td>581587</td>\n",
       "      <td>23255</td>\n",
       "      <td>CHILDRENS CUTLERY CIRCUS PARADE</td>\n",
       "      <td>4</td>\n",
       "      <td>2011-12-09 12:50:00</td>\n",
       "      <td>4.15</td>\n",
       "      <td>12680.0</td>\n",
       "      <td>France</td>\n",
       "    </tr>\n",
       "    <tr>\n",
       "      <th>541908</th>\n",
       "      <td>581587</td>\n",
       "      <td>22138</td>\n",
       "      <td>BAKING SET 9 PIECE RETROSPOT</td>\n",
       "      <td>3</td>\n",
       "      <td>2011-12-09 12:50:00</td>\n",
       "      <td>4.95</td>\n",
       "      <td>12680.0</td>\n",
       "      <td>France</td>\n",
       "    </tr>\n",
       "  </tbody>\n",
       "</table>\n",
       "<p>541909 rows × 8 columns</p>\n",
       "</div>"
      ],
      "text/plain": [
       "       InvoiceNo StockCode                          Description  Quantity  \\\n",
       "0         536365    85123A   WHITE HANGING HEART T-LIGHT HOLDER         6   \n",
       "1         536365     71053                  WHITE METAL LANTERN         6   \n",
       "2         536365    84406B       CREAM CUPID HEARTS COAT HANGER         8   \n",
       "3         536365    84029G  KNITTED UNION FLAG HOT WATER BOTTLE         6   \n",
       "4         536365    84029E       RED WOOLLY HOTTIE WHITE HEART.         6   \n",
       "...          ...       ...                                  ...       ...   \n",
       "541904    581587     22613          PACK OF 20 SPACEBOY NAPKINS        12   \n",
       "541905    581587     22899         CHILDREN'S APRON DOLLY GIRL          6   \n",
       "541906    581587     23254        CHILDRENS CUTLERY DOLLY GIRL          4   \n",
       "541907    581587     23255      CHILDRENS CUTLERY CIRCUS PARADE         4   \n",
       "541908    581587     22138        BAKING SET 9 PIECE RETROSPOT          3   \n",
       "\n",
       "               InvoiceDate  UnitPrice  CustomerID         Country  \n",
       "0      2010-12-01 08:26:00       2.55     17850.0  United Kingdom  \n",
       "1      2010-12-01 08:26:00       3.39     17850.0  United Kingdom  \n",
       "2      2010-12-01 08:26:00       2.75     17850.0  United Kingdom  \n",
       "3      2010-12-01 08:26:00       3.39     17850.0  United Kingdom  \n",
       "4      2010-12-01 08:26:00       3.39     17850.0  United Kingdom  \n",
       "...                    ...        ...         ...             ...  \n",
       "541904 2011-12-09 12:50:00       0.85     12680.0          France  \n",
       "541905 2011-12-09 12:50:00       2.10     12680.0          France  \n",
       "541906 2011-12-09 12:50:00       4.15     12680.0          France  \n",
       "541907 2011-12-09 12:50:00       4.15     12680.0          France  \n",
       "541908 2011-12-09 12:50:00       4.95     12680.0          France  \n",
       "\n",
       "[541909 rows x 8 columns]"
      ]
     },
     "execution_count": 6,
     "metadata": {},
     "output_type": "execute_result"
    }
   ],
   "source": [
    "df"
   ]
  },
  {
   "cell_type": "raw",
   "metadata": {
    "vscode": {
     "languageId": "raw"
    }
   },
   "source": [
    "생각1: '매출'열을 만들어서, Quantity * UnitPrice 넣을 수 있겠다.\n",
    "생각2: 'Country'에 따라서 마케팅 전략을 세워볼 수도 있겠다.\n",
    "생각3: 'InvoiceDate' 얘는 시계열 분석할 때 꼭 필요하겠다."
   ]
  },
  {
   "cell_type": "code",
   "execution_count": 4,
   "metadata": {},
   "outputs": [
    {
     "data": {
      "text/plain": [
       "(541909, 8)"
      ]
     },
     "execution_count": 4,
     "metadata": {},
     "output_type": "execute_result"
    }
   ],
   "source": [
    "df.shape"
   ]
  },
  {
   "cell_type": "code",
   "execution_count": null,
   "metadata": {},
   "outputs": [
    {
     "data": {
      "text/plain": [
       "InvoiceNo           0\n",
       "StockCode           0\n",
       "Description      1454\n",
       "Quantity            0\n",
       "InvoiceDate         0\n",
       "UnitPrice           0\n",
       "CustomerID     135080\n",
       "Country             0\n",
       "dtype: int64"
      ]
     },
     "execution_count": 6,
     "metadata": {},
     "output_type": "execute_result"
    }
   ],
   "source": [
    "# 결측치 몇개 있는지 확인\n",
    "df.isnull().sum()"
   ]
  },
  {
   "cell_type": "raw",
   "metadata": {
    "vscode": {
     "languageId": "raw"
    }
   },
   "source": [
    "오호 'Description'과 'CustomerID'에 결측치가 있군."
   ]
  },
  {
   "cell_type": "code",
   "execution_count": 10,
   "metadata": {
    "colab": {
     "base_uri": "https://localhost:8080/",
     "height": 597
    },
    "executionInfo": {
     "elapsed": 9,
     "status": "ok",
     "timestamp": 1758544373079,
     "user": {
      "displayName": "서정욱",
      "userId": "16411020679186913535"
     },
     "user_tz": -540
    },
    "id": "03Dxk5NLVNNE",
    "outputId": "78cfe6f9-ead2-414b-e07a-790d2a8f16b6"
   },
   "outputs": [],
   "source": [
    "# 결측치 처리 -> 제거 or 대체 (CustomerID 없는 경우 제외)]\n",
    "# 원칙적으로는 결측치가 있으면 머신러닝이 안 돌아감.\n",
    "# 나는 'Description'은 사용하지 않을 것이니 'CustomerID'만 처리하면 되겠다.\n",
    "df = df.dropna(subset=[\"CustomerID\"])"
   ]
  },
  {
   "cell_type": "code",
   "execution_count": 11,
   "metadata": {},
   "outputs": [
    {
     "data": {
      "text/plain": [
       "InvoiceNo      0\n",
       "StockCode      0\n",
       "Description    0\n",
       "Quantity       0\n",
       "InvoiceDate    0\n",
       "UnitPrice      0\n",
       "CustomerID     0\n",
       "Country        0\n",
       "dtype: int64"
      ]
     },
     "execution_count": 11,
     "metadata": {},
     "output_type": "execute_result"
    }
   ],
   "source": [
    "# 결측치 처리 잘 되었나 확인\n",
    "df.isnull().sum()"
   ]
  },
  {
   "cell_type": "code",
   "execution_count": 12,
   "metadata": {},
   "outputs": [
    {
     "name": "stderr",
     "output_type": "stream",
     "text": [
      "/var/folders/mt/b5bzczgn14s85rhfsvnlr33h0000gn/T/ipykernel_54774/1425279235.py:2: SettingWithCopyWarning: \n",
      "A value is trying to be set on a copy of a slice from a DataFrame.\n",
      "Try using .loc[row_indexer,col_indexer] = value instead\n",
      "\n",
      "See the caveats in the documentation: https://pandas.pydata.org/pandas-docs/stable/user_guide/indexing.html#returning-a-view-versus-a-copy\n",
      "  df[\"Sales\"] = df[\"Quantity\"] * df[\"UnitPrice\"]\n"
     ]
    }
   ],
   "source": [
    "# 매출액 컬럼 생성 (수량에 가격을 곱해야 매출이 나오니까)\n",
    "df[\"Sales\"] = df[\"Quantity\"] * df[\"UnitPrice\"]"
   ]
  },
  {
   "cell_type": "code",
   "execution_count": 13,
   "metadata": {},
   "outputs": [
    {
     "data": {
      "text/html": [
       "<div>\n",
       "<style scoped>\n",
       "    .dataframe tbody tr th:only-of-type {\n",
       "        vertical-align: middle;\n",
       "    }\n",
       "\n",
       "    .dataframe tbody tr th {\n",
       "        vertical-align: top;\n",
       "    }\n",
       "\n",
       "    .dataframe thead th {\n",
       "        text-align: right;\n",
       "    }\n",
       "</style>\n",
       "<table border=\"1\" class=\"dataframe\">\n",
       "  <thead>\n",
       "    <tr style=\"text-align: right;\">\n",
       "      <th></th>\n",
       "      <th>InvoiceNo</th>\n",
       "      <th>StockCode</th>\n",
       "      <th>Description</th>\n",
       "      <th>Quantity</th>\n",
       "      <th>InvoiceDate</th>\n",
       "      <th>UnitPrice</th>\n",
       "      <th>CustomerID</th>\n",
       "      <th>Country</th>\n",
       "      <th>Sales</th>\n",
       "    </tr>\n",
       "  </thead>\n",
       "  <tbody>\n",
       "    <tr>\n",
       "      <th>0</th>\n",
       "      <td>536365</td>\n",
       "      <td>85123A</td>\n",
       "      <td>WHITE HANGING HEART T-LIGHT HOLDER</td>\n",
       "      <td>6</td>\n",
       "      <td>2010-12-01 08:26:00</td>\n",
       "      <td>2.55</td>\n",
       "      <td>17850.0</td>\n",
       "      <td>United Kingdom</td>\n",
       "      <td>15.30</td>\n",
       "    </tr>\n",
       "    <tr>\n",
       "      <th>1</th>\n",
       "      <td>536365</td>\n",
       "      <td>71053</td>\n",
       "      <td>WHITE METAL LANTERN</td>\n",
       "      <td>6</td>\n",
       "      <td>2010-12-01 08:26:00</td>\n",
       "      <td>3.39</td>\n",
       "      <td>17850.0</td>\n",
       "      <td>United Kingdom</td>\n",
       "      <td>20.34</td>\n",
       "    </tr>\n",
       "    <tr>\n",
       "      <th>2</th>\n",
       "      <td>536365</td>\n",
       "      <td>84406B</td>\n",
       "      <td>CREAM CUPID HEARTS COAT HANGER</td>\n",
       "      <td>8</td>\n",
       "      <td>2010-12-01 08:26:00</td>\n",
       "      <td>2.75</td>\n",
       "      <td>17850.0</td>\n",
       "      <td>United Kingdom</td>\n",
       "      <td>22.00</td>\n",
       "    </tr>\n",
       "    <tr>\n",
       "      <th>3</th>\n",
       "      <td>536365</td>\n",
       "      <td>84029G</td>\n",
       "      <td>KNITTED UNION FLAG HOT WATER BOTTLE</td>\n",
       "      <td>6</td>\n",
       "      <td>2010-12-01 08:26:00</td>\n",
       "      <td>3.39</td>\n",
       "      <td>17850.0</td>\n",
       "      <td>United Kingdom</td>\n",
       "      <td>20.34</td>\n",
       "    </tr>\n",
       "    <tr>\n",
       "      <th>4</th>\n",
       "      <td>536365</td>\n",
       "      <td>84029E</td>\n",
       "      <td>RED WOOLLY HOTTIE WHITE HEART.</td>\n",
       "      <td>6</td>\n",
       "      <td>2010-12-01 08:26:00</td>\n",
       "      <td>3.39</td>\n",
       "      <td>17850.0</td>\n",
       "      <td>United Kingdom</td>\n",
       "      <td>20.34</td>\n",
       "    </tr>\n",
       "    <tr>\n",
       "      <th>...</th>\n",
       "      <td>...</td>\n",
       "      <td>...</td>\n",
       "      <td>...</td>\n",
       "      <td>...</td>\n",
       "      <td>...</td>\n",
       "      <td>...</td>\n",
       "      <td>...</td>\n",
       "      <td>...</td>\n",
       "      <td>...</td>\n",
       "    </tr>\n",
       "    <tr>\n",
       "      <th>541904</th>\n",
       "      <td>581587</td>\n",
       "      <td>22613</td>\n",
       "      <td>PACK OF 20 SPACEBOY NAPKINS</td>\n",
       "      <td>12</td>\n",
       "      <td>2011-12-09 12:50:00</td>\n",
       "      <td>0.85</td>\n",
       "      <td>12680.0</td>\n",
       "      <td>France</td>\n",
       "      <td>10.20</td>\n",
       "    </tr>\n",
       "    <tr>\n",
       "      <th>541905</th>\n",
       "      <td>581587</td>\n",
       "      <td>22899</td>\n",
       "      <td>CHILDREN'S APRON DOLLY GIRL</td>\n",
       "      <td>6</td>\n",
       "      <td>2011-12-09 12:50:00</td>\n",
       "      <td>2.10</td>\n",
       "      <td>12680.0</td>\n",
       "      <td>France</td>\n",
       "      <td>12.60</td>\n",
       "    </tr>\n",
       "    <tr>\n",
       "      <th>541906</th>\n",
       "      <td>581587</td>\n",
       "      <td>23254</td>\n",
       "      <td>CHILDRENS CUTLERY DOLLY GIRL</td>\n",
       "      <td>4</td>\n",
       "      <td>2011-12-09 12:50:00</td>\n",
       "      <td>4.15</td>\n",
       "      <td>12680.0</td>\n",
       "      <td>France</td>\n",
       "      <td>16.60</td>\n",
       "    </tr>\n",
       "    <tr>\n",
       "      <th>541907</th>\n",
       "      <td>581587</td>\n",
       "      <td>23255</td>\n",
       "      <td>CHILDRENS CUTLERY CIRCUS PARADE</td>\n",
       "      <td>4</td>\n",
       "      <td>2011-12-09 12:50:00</td>\n",
       "      <td>4.15</td>\n",
       "      <td>12680.0</td>\n",
       "      <td>France</td>\n",
       "      <td>16.60</td>\n",
       "    </tr>\n",
       "    <tr>\n",
       "      <th>541908</th>\n",
       "      <td>581587</td>\n",
       "      <td>22138</td>\n",
       "      <td>BAKING SET 9 PIECE RETROSPOT</td>\n",
       "      <td>3</td>\n",
       "      <td>2011-12-09 12:50:00</td>\n",
       "      <td>4.95</td>\n",
       "      <td>12680.0</td>\n",
       "      <td>France</td>\n",
       "      <td>14.85</td>\n",
       "    </tr>\n",
       "  </tbody>\n",
       "</table>\n",
       "<p>406829 rows × 9 columns</p>\n",
       "</div>"
      ],
      "text/plain": [
       "       InvoiceNo StockCode                          Description  Quantity  \\\n",
       "0         536365    85123A   WHITE HANGING HEART T-LIGHT HOLDER         6   \n",
       "1         536365     71053                  WHITE METAL LANTERN         6   \n",
       "2         536365    84406B       CREAM CUPID HEARTS COAT HANGER         8   \n",
       "3         536365    84029G  KNITTED UNION FLAG HOT WATER BOTTLE         6   \n",
       "4         536365    84029E       RED WOOLLY HOTTIE WHITE HEART.         6   \n",
       "...          ...       ...                                  ...       ...   \n",
       "541904    581587     22613          PACK OF 20 SPACEBOY NAPKINS        12   \n",
       "541905    581587     22899         CHILDREN'S APRON DOLLY GIRL          6   \n",
       "541906    581587     23254        CHILDRENS CUTLERY DOLLY GIRL          4   \n",
       "541907    581587     23255      CHILDRENS CUTLERY CIRCUS PARADE         4   \n",
       "541908    581587     22138        BAKING SET 9 PIECE RETROSPOT          3   \n",
       "\n",
       "               InvoiceDate  UnitPrice  CustomerID         Country  Sales  \n",
       "0      2010-12-01 08:26:00       2.55     17850.0  United Kingdom  15.30  \n",
       "1      2010-12-01 08:26:00       3.39     17850.0  United Kingdom  20.34  \n",
       "2      2010-12-01 08:26:00       2.75     17850.0  United Kingdom  22.00  \n",
       "3      2010-12-01 08:26:00       3.39     17850.0  United Kingdom  20.34  \n",
       "4      2010-12-01 08:26:00       3.39     17850.0  United Kingdom  20.34  \n",
       "...                    ...        ...         ...             ...    ...  \n",
       "541904 2011-12-09 12:50:00       0.85     12680.0          France  10.20  \n",
       "541905 2011-12-09 12:50:00       2.10     12680.0          France  12.60  \n",
       "541906 2011-12-09 12:50:00       4.15     12680.0          France  16.60  \n",
       "541907 2011-12-09 12:50:00       4.15     12680.0          France  16.60  \n",
       "541908 2011-12-09 12:50:00       4.95     12680.0          France  14.85  \n",
       "\n",
       "[406829 rows x 9 columns]"
      ]
     },
     "execution_count": 13,
     "metadata": {},
     "output_type": "execute_result"
    }
   ],
   "source": [
    "df"
   ]
  },
  {
   "cell_type": "code",
   "execution_count": 14,
   "metadata": {},
   "outputs": [
    {
     "data": {
      "text/plain": [
       "array([     6,      8,      2,     32,      3,      4,     24,     12,\n",
       "           48,     18,     20,     36,     80,     64,     10,    120,\n",
       "           96,     23,      5,      1,     -1,     50,     40,    100,\n",
       "          192,    432,    144,    288,    -12,    -24,     16,      9,\n",
       "          128,     25,     30,     28,      7,     72,    200,    600,\n",
       "          480,     -6,     14,     -2,     -4,     -5,     -7,     -3,\n",
       "           11,     70,    252,     60,    216,    384,     27,    108,\n",
       "           52,  -9360,     75,    270,     42,    240,     90,    320,\n",
       "           17,   1824,    204,     69,    -36,   -192,   -144,    160,\n",
       "         2880,   1400,     19,     39,    -48,    -50,     56,     13,\n",
       "         1440,     -8,     15,    720,    -20,    156,    324,     41,\n",
       "          -10,    -72,    -11,    402,    378,    150,    300,     22,\n",
       "           34,    408,    972,    208,   1008,     26,   1000,    -25,\n",
       "         1488,    250,   1394,    400,    110,    -14,     37,    -33,\n",
       "           78,     -9,     21,    272,     84,    -47,    -18,    -96,\n",
       "           47,    -15,    -30,   1728,     38,    -60,    -16,     53,\n",
       "         -240,     76,    576,    -32,     29,   2400,    500,    -80,\n",
       "          180,   -300,   -500,    -23,    -13,    960,    -21,   1296,\n",
       "         -150,    -17,    147,    168,    256,    -40,   -100,     54,\n",
       "           31,    860,   1010,   1356,   1284,    186,    114,    360,\n",
       "         1930,   2000,   3114,   1300,    670,    176,    648,     62,\n",
       "        74215, -74215,     89,     33,     46,   -120,    112,    456,\n",
       "          900,   -600,    -42,    -94,     45,    130,   2592,    420,\n",
       "          800,     35,   1200,    864,    504,    -76,   -200,   1056,\n",
       "         1500,    280,    407,    141,   3906,   1152,    198,    117,\n",
       "         -720,    125,    -86,     81,    -35,    768,     88,     43,\n",
       "          700,   -102,   2160,     55,    -49,    342,    304,    640,\n",
       "          220,    350,    -46,    -64,    312,    392,   -624,    -27,\n",
       "          330,    151,   -432,    -58,     44,   -670,  -1300,  -1930,\n",
       "        -2000,  -3114,    462,     66,    492,    273,     65,     85,\n",
       "          -51,   -960,   1350,    428,  -1350,    336,    101,    132,\n",
       "          227,   2700,    222,    228,    246,    906,    756,    888,\n",
       "          552,    224,    738,    608,   4300,    276,    -52,     58,\n",
       "           98,     51,     74,   1600,    323,    -22,   1515,  -1515,\n",
       "          660,    104,   -420,    264,    188,    588,    612,    152,\n",
       "          -19,   -480,     49,   -164,   -160,    430,    701,    828,\n",
       "          540,    696,    560,   -576,   -108,   -250,   -408,    121,\n",
       "          512,    -37,    291,   3186,     83,     87,     79,   -360,\n",
       "          -28,    -75,    109,   -121,    129,    261,    352,    102,\n",
       "         -288,    348,   1900,    157,    -39,    116,    968,    684,\n",
       "          824,   -828,   -701,    196,    124,    248,    410,    236,\n",
       "          230,    210,    448,   -140,   -400,   -252,   -110,   -334,\n",
       "         -318,   -126,   -113,   -180,    140,     86,    840,    -38,\n",
       "          450,     93,    494,     92,   1788,    624,    744,    416,\n",
       "          496,    396,    306,   1878,   1944,    666,    708,   1428,\n",
       "          852,   1412,    528,   -756,   -152,    -85,    -34,   -312,\n",
       "          -79,    -43,    -31,    183,   -186,    -53,    -82,    -70,\n",
       "          -68,   1540,  -1200,   -130,   -220,    672,    -26,    -29,\n",
       "           67,   -840,  -1296,     63,     94,    255,     57,    126,\n",
       "          468,   -468,   -324,   -168,   4800,    -66,   -112,    912,\n",
       "         1992,    136,   3000,    -45,    232,    832,    992,    630,\n",
       "         1020,   2100,    162,   -162,    -67,   -276,   -184,    234,\n",
       "          244,   -244,   -234,   -132,  12540,     95,    760,    139,\n",
       "          115,    774,   2040,   1120,     59,    490,    388,    620,\n",
       "         1404,    698,  80995, -80995])"
      ]
     },
     "execution_count": 14,
     "metadata": {},
     "output_type": "execute_result"
    }
   ],
   "source": [
    "df['Quantity'].unique() #-> 음수 값은 반품(from 메타데이터)"
   ]
  },
  {
   "cell_type": "raw",
   "metadata": {
    "vscode": {
     "languageId": "raw"
    }
   },
   "source": [
    "이 음수데이터(반품데이터)들을 어떻게 처리할까? 가만히 둬도 되나? 제거해야하나?"
   ]
  },
  {
   "cell_type": "code",
   "execution_count": 15,
   "metadata": {},
   "outputs": [],
   "source": [
    "# 반품(Quantity 음수) 제거\n",
    "df = df[df[\"Quantity\"] > 0]"
   ]
  },
  {
   "cell_type": "code",
   "execution_count": null,
   "metadata": {},
   "outputs": [
    {
     "data": {
      "text/plain": [
       "array([    6,     8,     2,    32,     3,     4,    24,    12,    48,\n",
       "          18,    20,    36,    80,    64,    10,   120,    96,    23,\n",
       "           5,     1,    50,    40,   100,   192,   432,   144,   288,\n",
       "          16,     9,   128,    25,    30,    28,     7,    72,   200,\n",
       "         600,   480,    14,    11,    70,   252,    60,   216,   384,\n",
       "          27,   108,    52,    75,   270,    42,   240,    90,   320,\n",
       "          17,  1824,   204,    69,   160,  2880,  1400,    19,    39,\n",
       "          56,    13,  1440,    15,   720,   156,   324,    41,   402,\n",
       "         378,   150,   300,    22,    34,   408,   972,   208,  1008,\n",
       "          26,  1000,  1488,   250,  1394,   400,   110,    37,    78,\n",
       "          21,   272,    84,    47,  1728,    38,    53,    76,   576,\n",
       "          29,  2400,   500,   180,   960,  1296,   147,   168,   256,\n",
       "          54,    31,   860,  1010,  1356,  1284,   186,   114,   360,\n",
       "        1930,  2000,  3114,  1300,   670,   176,   648,    62, 74215,\n",
       "          89,    33,    46,   112,   456,   900,    45,   130,  2592,\n",
       "         420,   800,    35,  1200,   864,   504,  1056,  1500,   280,\n",
       "         407,   141,  3906,  1152,   198,   117,   125,    81,   768,\n",
       "          88,    43,   700,  2160,    55,   342,   304,   640,   220,\n",
       "         350,   312,   392,   330,   151,    44,   462,    66,   492,\n",
       "         273,    65,    85,  1350,   428,   336,   101,   132,   227,\n",
       "        2700,   222,   228,   246,   906,   756,   888,   552,   224,\n",
       "         738,   608,  4300,   276,    58,    98,    51,    74,  1600,\n",
       "         323,  1515,   660,   104,   264,   188,   588,   612,   152,\n",
       "          49,   430,   701,   828,   540,   696,   560,   121,   512,\n",
       "         291,  3186,    83,    87,    79,   109,   129,   261,   352,\n",
       "         102,   348,  1900,   157,   116,   968,   684,   824,   196,\n",
       "         124,   248,   410,   236,   230,   210,   448,   140,    86,\n",
       "         840,   450,    93,   494,    92,  1788,   624,   744,   416,\n",
       "         496,   396,   306,  1878,  1944,   666,   708,  1428,   852,\n",
       "        1412,   528,   183,  1540,   672,    67,    63,    94,   255,\n",
       "          57,   126,   468,  4800,   912,  1992,   136,  3000,   232,\n",
       "         832,   992,   630,  1020,  2100,   162,   234,   244, 12540,\n",
       "          95,   760,   139,   115,   774,  2040,  1120,    59,   490,\n",
       "         388,   620,  1404,   698, 80995], dtype=int64)"
      ]
     },
     "execution_count": 17,
     "metadata": {},
     "output_type": "execute_result"
    }
   ],
   "source": [
    "# 잘 제거되었나 확인\n",
    "df['Quantity'].unique()"
   ]
  },
  {
   "cell_type": "markdown",
   "metadata": {},
   "source": [
    "# 3. 탐색적 데이터분석 (EDA)\n",
    "\n",
    "- 기술통계 : 국가별 매출, 고객별 매출 등\n",
    "\n",
    "- 시각화 :\n",
    "\n",
    "    - 국가별 매출 비중 (막대그래프)\n",
    "\n",
    "    - 고객별 매출 분포 (히스토그램/박스플롯)"
   ]
  },
  {
   "cell_type": "code",
   "execution_count": null,
   "metadata": {
    "colab": {
     "base_uri": "https://localhost:8080/",
     "height": 1000
    },
    "executionInfo": {
     "elapsed": 601,
     "status": "ok",
     "timestamp": 1758544373681,
     "user": {
      "displayName": "서정욱",
      "userId": "16411020679186913535"
     },
     "user_tz": -540
    },
    "id": "GvV3JBgTXK3V",
    "outputId": "44b4f23c-0dda-4f4e-8ace-7d66a1a1b594"
   },
   "outputs": [
    {
     "name": "stdout",
     "output_type": "stream",
     "text": [
      "Country\n",
      "United Kingdom    7308391.554\n",
      "Netherlands        285446.340\n",
      "EIRE               265545.900\n",
      "Germany            228867.140\n",
      "France             209024.050\n",
      "Name: Sales, dtype: float64\n"
     ]
    }
   ],
   "source": [
    "# 국가별 매출 TOP 5\n",
    "top_countries = df.groupby(\"Country\")[\"Sales\"].sum().sort_values(ascending=False).head(5)\n",
    "print(top_countries)"
   ]
  },
  {
   "cell_type": "code",
   "execution_count": null,
   "metadata": {},
   "outputs": [
    {
     "data": {
      "image/png": "[encoded data removed]",
      "text/plain": [
       "<Figure size 640x480 with 1 Axes>"
      ]
     },
     "metadata": {},
     "output_type": "display_data"
    }
   ],
   "source": [
    "# 국가별 매출 TOP 5 시각화\n",
    "top_countries.plot(kind=\"bar\", title=\"Top 5 Countries by Sales\")\n",
    "plt.ylabel(\"Total Sales\")\n",
    "plt.show()"
   ]
  },
  {
   "cell_type": "code",
   "execution_count": 16,
   "metadata": {},
   "outputs": [
    {
     "data": {
      "image/png": "[encoded data removed]",
      "text/plain": [
       "<Figure size 640x480 with 1 Axes>"
      ]
     },
     "metadata": {},
     "output_type": "display_data"
    }
   ],
   "source": [
    "# 고객별 매출 분포\n",
    "customer_sales = df.groupby(\"CustomerID\")[\"Sales\"].sum()\n",
    "sns.histplot(customer_sales, bins=50, kde=True)\n",
    "plt.title(\"Customer Sales Distribution\")\n",
    "plt.show()"
   ]
  },
  {
   "cell_type": "raw",
   "metadata": {
    "vscode": {
     "languageId": "raw"
    }
   },
   "source": [
    "꼬리가 오른쪽으로 빠지는 롱테일이군."
   ]
  },
  {
   "cell_type": "markdown",
   "metadata": {},
   "source": [
    "# 4. 신뢰구간 (Confidence Interval)\n",
    "\n",
    "- 고객 1명당 평균 매출액이 얼마인지, 모집단 평균을 95% 신뢰수준에서 추정해 볼까?"
   ]
  },
  {
   "cell_type": "code",
   "execution_count": 17,
   "metadata": {
    "colab": {
     "base_uri": "https://localhost:8080/"
    },
    "executionInfo": {
     "elapsed": 7,
     "status": "ok",
     "timestamp": 1758544373692,
     "user": {
      "displayName": "서정욱",
      "userId": "16411020679186913535"
     },
     "user_tz": -540
    },
    "id": "B0jtTYiwXaBH",
    "outputId": "74256fb1-439d-47c3-a8e5-4da39d2b20e1"
   },
   "outputs": [],
   "source": [
    "# 표본 평균, 표준편차, n\n",
    "xbar = customer_sales.mean()    # 표본평균\n",
    "s = customer_sales.std()    # 표준편차\n",
    "n = len(customer_sales) # 데이터 개수\n",
    "se = s / np.sqrt(n) # 표준오차"
   ]
  },
  {
   "cell_type": "code",
   "execution_count": 18,
   "metadata": {},
   "outputs": [],
   "source": [
    "# 95% 신뢰구간\n",
    "alpha = 0.05\n",
    "tcrit = stats.t.ppf(1 - alpha/2, df=n-1)\n",
    "ci_low, ci_high = xbar - tcrit*se, xbar + tcrit*se"
   ]
  },
  {
   "cell_type": "code",
   "execution_count": 20,
   "metadata": {},
   "outputs": [
    {
     "name": "stdout",
     "output_type": "stream",
     "text": [
      "Sample Mean: 1898.46\n",
      "95% CI: (1654.75, 2142.17)\n"
     ]
    }
   ],
   "source": [
    "print(f\"Sample Mean: {xbar:.2f}\")\n",
    "print(f\"95% CI: ({ci_low:.2f}, {ci_high:.2f})\")"
   ]
  },
  {
   "cell_type": "raw",
   "metadata": {},
   "source": [
    "- 해석 -> 고객 1인당 평균 매출의 모집단 평균이 (1786.28, 1321.31) 구간에 있을 것으로 95% 신뢰수준에서 확신"
   ]
  },
  {
   "cell_type": "code",
   "execution_count": 24,
   "metadata": {},
   "outputs": [
    {
     "name": "stdout",
     "output_type": "stream",
     "text": [
      "Sample Mean: 2053.79\n",
      "95% CI: (1786.28, 2321.31)\n"
     ]
    }
   ],
   "source": [
    "# 95% 신뢰구간 (데이터가 많아서... 자유도 n인 경우와 비슷)\n",
    "alpha = 0.05\n",
    "tcrit = stats.t.ppf(1 - alpha/2, df=n)\n",
    "ci_low, ci_high = xbar - tcrit*se, xbar + tcrit*se\n",
    "\n",
    "print(f\"Sample Mean: {xbar:.2f}\")\n",
    "print(f\"95% CI: ({ci_low:.2f}, {ci_high:.2f})\")"
   ]
  },
  {
   "cell_type": "markdown",
   "metadata": {
    "id": "cMlh3eYUYtI3"
   },
   "source": [
    "# 5. 가설검정\n",
    "\n",
    "## (1) t-test: 영국 vs 독일 고객 매출 비교\n",
    "### “영국 고객과 독일 고객의 평균 매출액이 차이가 있는지 궁금한데?”\n",
    "- H₀: 두 국가 평균 매출은 동일하다.\n",
    "- H₁: 두 국가 평균 매출은 다르다.\n",
    "### 근데 t-test는 사용할 때 조건이 좀 있음..."
   ]
  },
  {
   "cell_type": "markdown",
   "metadata": {},
   "source": [
    "## 조건1. 정규성 검정(둘 다 정규분포를 따라야함)\n",
    "\n",
    "- 검증1. 그냥 히스토그램 그려보기 -> 이건 이미 위에서 그림\n",
    "- 검증2. Shapiro-Wilk 정규성 검정\n",
    "- 검증3. Q-Q Plot 시각화"
   ]
  },
  {
   "cell_type": "markdown",
   "metadata": {},
   "source": [
    "### 검증2. 샤피로-윌크 검증"
   ]
  },
  {
   "cell_type": "code",
   "execution_count": 22,
   "metadata": {},
   "outputs": [
    {
     "data": {
      "text/plain": [
       "CustomerID\n",
       "17850.0    5288.63\n",
       "13047.0    3079.10\n",
       "13748.0     948.25\n",
       "15100.0     635.10\n",
       "15291.0    4596.51\n",
       "            ...   \n",
       "15471.0     469.48\n",
       "13436.0     196.89\n",
       "15520.0     343.50\n",
       "13298.0     360.00\n",
       "14569.0     227.39\n",
       "Name: Sales, Length: 3950, dtype: float64"
      ]
     },
     "execution_count": 22,
     "metadata": {},
     "output_type": "execute_result"
    }
   ],
   "source": [
    "uk_sales = customer_sales[df.loc[df[\"Country\"]==\"United Kingdom\",\"CustomerID\"].unique()]\n",
    "\n",
    "uk_sales"
   ]
  },
  {
   "cell_type": "code",
   "execution_count": null,
   "metadata": {},
   "outputs": [
    {
     "name": "stdout",
     "output_type": "stream",
     "text": [
      "Shapiro-Wilk Test\n",
      "Statistic = 0.15735228240281485  p-value = 1.4198113413835694e-85\n"
     ]
    }
   ],
   "source": [
    "stat, p = stats.shapiro(uk_sales)\n",
    "print(\"Shapiro-Wilk Test\")\n",
    "print(\"Statistic =\", stat, \" p-value =\", p)"
   ]
  },
  {
   "cell_type": "raw",
   "metadata": {
    "vscode": {
     "languageId": "raw"
    }
   },
   "source": [
    "if p > 0.05:\n",
    "    print(\"정규성을 만족한다고 볼 수 있음 (귀무가설 기각 불가)\")\n",
    "else:\n",
    "    print(\"정규성이 깨졌다고 볼 수 있음 (귀무가설 기각)\")"
   ]
  },
  {
   "cell_type": "markdown",
   "metadata": {},
   "source": [
    "### 검증3. Q-Q Plot 시각화"
   ]
  },
  {
   "cell_type": "code",
   "execution_count": 23,
   "metadata": {},
   "outputs": [
    {
     "data": {
      "image/png": "[encoded data removed]",
      "text/plain": [
       "<Figure size 600x600 with 1 Axes>"
      ]
     },
     "metadata": {},
     "output_type": "display_data"
    }
   ],
   "source": [
    "# Q-Q Plot 시각화\n",
    "plt.figure(figsize=(6, 6))\n",
    "stats.probplot(uk_sales, dist=\"norm\", plot=plt)\n",
    "plt.title(\"Q-Q Plot\")\n",
    "plt.show()"
   ]
  },
  {
   "cell_type": "raw",
   "metadata": {
    "vscode": {
     "languageId": "raw"
    }
   },
   "source": [
    "정규성을 따를수록 일직선이어야 하는데, 지금 오른쪽이 올라간 모양. -> 정규성 X"
   ]
  },
  {
   "cell_type": "code",
   "execution_count": 30,
   "metadata": {},
   "outputs": [
    {
     "name": "stdout",
     "output_type": "stream",
     "text": [
      "Shapiro-Wilk Test\n",
      "Statistic = 0.6735298235574414  p-value = 3.7788440549914706e-13\n",
      "정규성이 깨졌다고 볼 수 있음 (귀무가설 기각)\n"
     ]
    },
    {
     "data": {
      "image/png": "[encoded data removed]",
      "text/plain": [
       "<Figure size 600x600 with 1 Axes>"
      ]
     },
     "metadata": {},
     "output_type": "display_data"
    }
   ],
   "source": [
    "de_sales = customer_sales[df.loc[df[\"Country\"]==\"Germany\",\"CustomerID\"].unique()]\n",
    "\n",
    "# Shapiro-Wilk 정규성 검정\n",
    "stat, p = stats.shapiro(de_sales)\n",
    "print(\"Shapiro-Wilk Test\")\n",
    "print(\"Statistic =\", stat, \" p-value =\", p)\n",
    "\n",
    "if p > 0.05:\n",
    "    print(\"정규성을 만족한다고 볼 수 있음 (귀무가설 기각 불가)\")\n",
    "else:\n",
    "    print(\"정규성이 깨졌다고 볼 수 있음 (귀무가설 기각)\")\n",
    "\n",
    "# Q-Q Plot 시각화\n",
    "plt.figure(figsize=(6, 6))\n",
    "stats.probplot(de_sales, dist=\"norm\", plot=plt)\n",
    "plt.title(\"Q-Q Plot\")\n",
    "plt.show()"
   ]
  },
  {
   "cell_type": "markdown",
   "metadata": {},
   "source": [
    "## 조건2. 등분산성 검정\n",
    "- 검증1. Levene 검정 (정규성 가정 불필요) -> 보편적으로 많이 사용\n",
    "\n",
    "- 검증2. Bartlett 검정 (정규성 가정 필요)\n",
    "\n",
    "- 다만 어느 방법을 쓰더라도 적극적으로 등분산성이다라고 주장할 수 없음을 유의"
   ]
  },
  {
   "cell_type": "code",
   "execution_count": 31,
   "metadata": {},
   "outputs": [
    {
     "name": "stdout",
     "output_type": "stream",
     "text": [
      "Levene Test: stat = 0.2221738300952249 , p-value = 0.63741416045265\n"
     ]
    }
   ],
   "source": [
    "# Levene 검정 (권장)\n",
    "stat, p = stats.levene(uk_sales, de_sales)\n",
    "print(\"Levene Test: stat =\", stat, \", p-value =\", p)"
   ]
  },
  {
   "cell_type": "code",
   "execution_count": 32,
   "metadata": {},
   "outputs": [
    {
     "name": "stdout",
     "output_type": "stream",
     "text": [
      "등분산 가정 OK (일반 t-test 사용 가능)\n"
     ]
    }
   ],
   "source": [
    "if p > 0.05:\n",
    "    print(\"등분산 가정 OK (일반 t-test 사용 가능)\")\n",
    "else:\n",
    "    print(\"등분산 가정 깨짐 (Welch’s t-test 권장)\")"
   ]
  },
  {
   "cell_type": "code",
   "execution_count": 33,
   "metadata": {},
   "outputs": [
    {
     "name": "stdout",
     "output_type": "stream",
     "text": [
      "\n",
      "Bartlett Test: stat = 77.80409000647045 , p-value = 1.1378431311307388e-18\n",
      "등분산 가정 OK (일반 t-test 사용 가능)\n"
     ]
    }
   ],
   "source": [
    "# Bartlett 검정 (정규성 가정 필수)\n",
    "stat_b, p_b = stats.bartlett(uk_sales, de_sales)\n",
    "print(\"\\nBartlett Test: stat =\", stat_b, \", p-value =\", p_b)\n",
    "\n",
    "if p > 0.05:\n",
    "    print(\"등분산 가정 OK (일반 t-test 사용 가능)\")\n",
    "else:\n",
    "    print(\"등분산 가정 깨짐 (Welch’s t-test 권장)\")"
   ]
  },
  {
   "cell_type": "markdown",
   "metadata": {},
   "source": [
    "- **다중검정의 함정** -> 가설검정을 여러번 하게 되면 -> 1종 오류 발생할 확률이 늘어나게됨 -> 정규성 검정 생략"
   ]
  },
  {
   "cell_type": "markdown",
   "metadata": {},
   "source": [
    "- 카메라 1개 안걸리는 거 vs 카메라 10개 안걸리는거"
   ]
  },
  {
   "cell_type": "markdown",
   "metadata": {},
   "source": [
    "## T-test vs Welch's T-test\n",
    "\n",
    "- Student’s t-test: 두 집단의 분산이 같다고 가정할 때 사용 (equal_var=True)\n",
    "\n",
    "- Welch’s t-test: 두 집단의 분산이 같지 않을 때 사용 (equal_var=False)\n",
    "\n",
    "- 분산이 같은 상황에서 Welch t-test를 사용하는 것은 크게 문제가 되지는 않음 -> 대신 약간 보수적으로 검정해서 검정력의 손실이 발생 가능\n",
    "\n",
    "- 물론, Student던 Welch던 정규성은 있어야 함\n",
    "\n",
    "\n",
    "\n",
    "### Student??\n",
    "- 1908년에 윌리엄 고셋이 Student라는 필명으로 재발견 (사실, 로베르트 힐메르트가 1875년에, 야코프 뤼로트가 1876년에 이미 발견함)\n",
    "- 참고로 왜 고셋이 필명을 썼냐면 -> 양조 공장에서 보리의 질을 테스트할 때 사용했는데, 경쟁사들에게 이 통계 기법을 알리고 싶지 않아서"
   ]
  },
  {
   "cell_type": "code",
   "execution_count": 34,
   "metadata": {
    "colab": {
     "base_uri": "https://localhost:8080/"
    },
    "executionInfo": {
     "elapsed": 8,
     "status": "ok",
     "timestamp": 1758544373702,
     "user": {
      "displayName": "서정욱",
      "userId": "16411020679186913535"
     },
     "user_tz": -540
    },
    "id": "cUIKfAGOX2W7",
    "outputId": "6309272e-005e-47dd-a8a6-c4c6ec4b247a"
   },
   "outputs": [
    {
     "name": "stdout",
     "output_type": "stream",
     "text": [
      "t-test: UK vs Germany\n",
      "t-statistic = -0.7379664913027232 p-value = 0.460577962081931\n"
     ]
    }
   ],
   "source": [
    "# equal_var = True이면 일반적인 t-test\n",
    "tstat, pval = stats.ttest_ind(uk_sales, de_sales, equal_var=True)\n",
    "print(\"t-test: UK vs Germany\")\n",
    "print(\"t-statistic =\", tstat, \"p-value =\", pval)\n"
   ]
  },
  {
   "cell_type": "code",
   "execution_count": null,
   "metadata": {},
   "outputs": [
    {
     "name": "stdout",
     "output_type": "stream",
     "text": [
      "t-test: UK vs Germany\n",
      "t-statistic = -1.596135378174358 p-value = 0.11313801673343721\n"
     ]
    }
   ],
   "source": [
    "# equal_var = False이면 Welch's t-test\n",
    "tstat, pval = stats.ttest_ind(uk_sales, de_sales, equal_var=False)\n",
    "print(\"t-test: UK vs Germany\")\n",
    "print(\"t-statistic =\", tstat, \"p-value =\", pval)"
   ]
  },
  {
   "cell_type": "markdown",
   "metadata": {},
   "source": [
    "## 비모수 검정\n",
    "- 사실, 정규성 검정도 어디까지나 가설검정이니 적극적으로 결과를 확신 X\n",
    "- 정규성 검정을 진행한 후 또 t-test 같은 가설검정을 해야 하니 검정 다중성 문제 존재\n",
    "- 아베 마사토(데이터 분석, 수리모형 해석 장인) 말씀하시기를... -> \"데이터가 정규분포에서 얻어졌는지 여부를 조사하는 가장 좋은 방법은 없다고 해도 좋다\"\n",
    "    - 따라서, 데이터가 많으면 정규성 안보고 바로 t-test 진행하기도 (중심극한정리)\n",
    "    - 그렇다면, 데이터가 적거나 극단적인 꼬리 분포 같은 경우는?? \n",
    "- 비모수 검정이란? 정규성이 없는경우에 사용할 수 있는 검정 -> 그래서 많이 사용\n",
    "- 그렇다면 무조건 비모수 검정 사용해도 되는거 아닌가?\n",
    "    - 표본이 작을 때는 t-test 보다 비모수 검정의 검출력이 낮음 -> 실제 차이가 있어도 못잡을 수 있다\n",
    "    - t-test는 평균 차이를 직접적으로 해석 가능 (두 집단 평균 차이가 유의미 하다) / 반면에 비모수 검정은 두 집단의 위치 차이를 보고 간접적으로 해석 (두 분포의 위치가 다르다)\n",
    "- 가장 대표적인 것이 윌콕슨 순위합 검정\n",
    "    - 평균값 대신 각 데이터 값의 순위(크기 순으로 나열했을 때 몇번째?)에 기반하여 검정을 실시\n",
    "    - 단, 두개의 모집단 분포(분산)가 같다고 여겨질 때 사용"
   ]
  },
  {
   "cell_type": "markdown",
   "metadata": {},
   "source": [
    "### (다시 리마인드) “영국 고객과 독일 고객의 평균 매출액이 차이가 있는지 궁금한데?”\n",
    "- H₀: 두 국가 평균 매출은 동일하다.\n",
    "- H₁: 두 국가 평균 매출은 다르다."
   ]
  },
  {
   "cell_type": "code",
   "execution_count": 36,
   "metadata": {},
   "outputs": [
    {
     "name": "stdout",
     "output_type": "stream",
     "text": [
      "Wilcoxon rank-sum test (Mann-Whitney U)\n",
      "Statistic: 136425.0\n",
      "p-value: 1.636912782799491e-05\n"
     ]
    }
   ],
   "source": [
    "stat, pval = stats.mannwhitneyu(uk_sales, de_sales, alternative='two-sided') #-> 'two-sided'는 두개의 그룹이 차이 있는지 검정할 때 사용\n",
    "\n",
    "\n",
    "print(\"Wilcoxon rank-sum test (Mann-Whitney U)\")\n",
    "print(\"Statistic:\", stat)\n",
    "print(\"p-value:\", pval)\n"
   ]
  },
  {
   "cell_type": "markdown",
   "metadata": {},
   "source": [
    "### 해석\n",
    "p-value = 1.63e-05 ≈ 0.000016\n",
    "→ 매우 작음 (0.05, 0.01, 0.001보다도 훨씬 작음)\n",
    "\n",
    "따라서 귀무가설 기각\n",
    "\n",
    "결론 : 영국 고객과 독일 고객의 매출 분포에는 유의미한 차이가 있다."
   ]
  },
  {
   "cell_type": "markdown",
   "metadata": {},
   "source": [
    "### 비즈니스 해석\n",
    "“영국 고객과 독일 고객은 평균 매출액에 있어서 유의미한 차이가 있다.”\n",
    "\n",
    "따라서 두 국가에 동일한 마케팅 전략 혹은 프로모션 전략을 쓰는 것은 비효율적일 수 있음 → 영,독 국가 맞춤형 접근 필요"
   ]
  },
  {
   "cell_type": "markdown",
   "metadata": {
    "id": "7zCJkT5eY6zH"
   },
   "source": [
    "## (2) 카이제곱 검정\n",
    "\n",
    "### \"국가와 고객 세그먼트간의 관계가 있을까?\"\n",
    "- H₀ (귀무가설): 국가(Country)와 고객 세그먼트(High/Low)는 독립이다. (즉, 국가와 상관없이 High/Low 고객 비율은 같다)\n",
    "- H₁ (대립가설): 국가와 고객 세그먼트는 독립이 아니다. (즉, 국가마다 High/Low 고객 비율이 다르다)\n"
   ]
  },
  {
   "cell_type": "markdown",
   "metadata": {},
   "source": [
    "## 카이제곱 이란?\n",
    "\n",
    "- 범주형 데이터에 적용할 수 있는 가설검정\n",
    "- 원래 범주형 변수가 2개만 있는 경우 -> 이항검정\n",
    "- 범주형 변수가 여러개 존재하는 경우 -> 카이제곱 (이항검정의 일반화된 형태)\n",
    "- (실제 출현도수 - 기대도수)^2 / 기대도수를 계산하여 검정\n",
    "    - 실제 출현도수 = 데이터에서 실제로 관찰된 빈도수\n",
    "    - 기대도수 = 행의비율 x 열의비율 x 전체 데이터 개수 "
   ]
  },
  {
   "cell_type": "markdown",
   "metadata": {},
   "source": [
    "## 카이제곱 검정의 유형 두가지\n",
    "\n",
    "- 적합성 검정\n",
    "\n",
    "    - 데이터와 모집단의 확률분포를 비교\n",
    "        - ex) 내가 던진 주사위의 눈이 이산확률분포를 따를까?\n",
    "\n",
    "- 독립성 검정\n",
    "\n",
    "    - 두 개의 변수간의 관계를 비교\n",
    "        - ex) 성별과 취미간의 관계가 있을까?"
   ]
  },
  {
   "attachments": {
    "4ae6b990-329d-4c91-be17-ddfa892e8e8a.png": {
     "image/png": "[encoded data removed]"
    }
   },
   "cell_type": "markdown",
   "metadata": {},
   "source": [
    "![image.png](attachment:4ae6b990-329d-4c91-be17-ddfa892e8e8a.png)"
   ]
  },
  {
   "cell_type": "code",
   "execution_count": 37,
   "metadata": {
    "colab": {
     "base_uri": "https://localhost:8080/",
     "height": 561
    },
    "executionInfo": {
     "elapsed": 99,
     "status": "error",
     "timestamp": 1758544373802,
     "user": {
      "displayName": "서정욱",
      "userId": "16411020679186913535"
     },
     "user_tz": -540
    },
    "id": "unvwNPnyYrZK",
    "outputId": "13c80717-eba2-4f8c-bba7-c36a293661bc"
   },
   "outputs": [
    {
     "data": {
      "text/html": [
       "<div>\n",
       "<style scoped>\n",
       "    .dataframe tbody tr th:only-of-type {\n",
       "        vertical-align: middle;\n",
       "    }\n",
       "\n",
       "    .dataframe tbody tr th {\n",
       "        vertical-align: top;\n",
       "    }\n",
       "\n",
       "    .dataframe thead th {\n",
       "        text-align: right;\n",
       "    }\n",
       "</style>\n",
       "<table border=\"1\" class=\"dataframe\">\n",
       "  <thead>\n",
       "    <tr style=\"text-align: right;\">\n",
       "      <th></th>\n",
       "      <th>InvoiceNo</th>\n",
       "      <th>StockCode</th>\n",
       "      <th>Description</th>\n",
       "      <th>Quantity</th>\n",
       "      <th>InvoiceDate</th>\n",
       "      <th>UnitPrice</th>\n",
       "      <th>CustomerID</th>\n",
       "      <th>Country</th>\n",
       "      <th>Sales</th>\n",
       "    </tr>\n",
       "  </thead>\n",
       "  <tbody>\n",
       "    <tr>\n",
       "      <th>0</th>\n",
       "      <td>536365</td>\n",
       "      <td>85123A</td>\n",
       "      <td>WHITE HANGING HEART T-LIGHT HOLDER</td>\n",
       "      <td>6</td>\n",
       "      <td>2010-12-01 08:26:00</td>\n",
       "      <td>2.55</td>\n",
       "      <td>17850.0</td>\n",
       "      <td>United Kingdom</td>\n",
       "      <td>15.30</td>\n",
       "    </tr>\n",
       "    <tr>\n",
       "      <th>1</th>\n",
       "      <td>536365</td>\n",
       "      <td>71053</td>\n",
       "      <td>WHITE METAL LANTERN</td>\n",
       "      <td>6</td>\n",
       "      <td>2010-12-01 08:26:00</td>\n",
       "      <td>3.39</td>\n",
       "      <td>17850.0</td>\n",
       "      <td>United Kingdom</td>\n",
       "      <td>20.34</td>\n",
       "    </tr>\n",
       "    <tr>\n",
       "      <th>2</th>\n",
       "      <td>536365</td>\n",
       "      <td>84406B</td>\n",
       "      <td>CREAM CUPID HEARTS COAT HANGER</td>\n",
       "      <td>8</td>\n",
       "      <td>2010-12-01 08:26:00</td>\n",
       "      <td>2.75</td>\n",
       "      <td>17850.0</td>\n",
       "      <td>United Kingdom</td>\n",
       "      <td>22.00</td>\n",
       "    </tr>\n",
       "    <tr>\n",
       "      <th>3</th>\n",
       "      <td>536365</td>\n",
       "      <td>84029G</td>\n",
       "      <td>KNITTED UNION FLAG HOT WATER BOTTLE</td>\n",
       "      <td>6</td>\n",
       "      <td>2010-12-01 08:26:00</td>\n",
       "      <td>3.39</td>\n",
       "      <td>17850.0</td>\n",
       "      <td>United Kingdom</td>\n",
       "      <td>20.34</td>\n",
       "    </tr>\n",
       "    <tr>\n",
       "      <th>4</th>\n",
       "      <td>536365</td>\n",
       "      <td>84029E</td>\n",
       "      <td>RED WOOLLY HOTTIE WHITE HEART.</td>\n",
       "      <td>6</td>\n",
       "      <td>2010-12-01 08:26:00</td>\n",
       "      <td>3.39</td>\n",
       "      <td>17850.0</td>\n",
       "      <td>United Kingdom</td>\n",
       "      <td>20.34</td>\n",
       "    </tr>\n",
       "    <tr>\n",
       "      <th>...</th>\n",
       "      <td>...</td>\n",
       "      <td>...</td>\n",
       "      <td>...</td>\n",
       "      <td>...</td>\n",
       "      <td>...</td>\n",
       "      <td>...</td>\n",
       "      <td>...</td>\n",
       "      <td>...</td>\n",
       "      <td>...</td>\n",
       "    </tr>\n",
       "    <tr>\n",
       "      <th>541904</th>\n",
       "      <td>581587</td>\n",
       "      <td>22613</td>\n",
       "      <td>PACK OF 20 SPACEBOY NAPKINS</td>\n",
       "      <td>12</td>\n",
       "      <td>2011-12-09 12:50:00</td>\n",
       "      <td>0.85</td>\n",
       "      <td>12680.0</td>\n",
       "      <td>France</td>\n",
       "      <td>10.20</td>\n",
       "    </tr>\n",
       "    <tr>\n",
       "      <th>541905</th>\n",
       "      <td>581587</td>\n",
       "      <td>22899</td>\n",
       "      <td>CHILDREN'S APRON DOLLY GIRL</td>\n",
       "      <td>6</td>\n",
       "      <td>2011-12-09 12:50:00</td>\n",
       "      <td>2.10</td>\n",
       "      <td>12680.0</td>\n",
       "      <td>France</td>\n",
       "      <td>12.60</td>\n",
       "    </tr>\n",
       "    <tr>\n",
       "      <th>541906</th>\n",
       "      <td>581587</td>\n",
       "      <td>23254</td>\n",
       "      <td>CHILDRENS CUTLERY DOLLY GIRL</td>\n",
       "      <td>4</td>\n",
       "      <td>2011-12-09 12:50:00</td>\n",
       "      <td>4.15</td>\n",
       "      <td>12680.0</td>\n",
       "      <td>France</td>\n",
       "      <td>16.60</td>\n",
       "    </tr>\n",
       "    <tr>\n",
       "      <th>541907</th>\n",
       "      <td>581587</td>\n",
       "      <td>23255</td>\n",
       "      <td>CHILDRENS CUTLERY CIRCUS PARADE</td>\n",
       "      <td>4</td>\n",
       "      <td>2011-12-09 12:50:00</td>\n",
       "      <td>4.15</td>\n",
       "      <td>12680.0</td>\n",
       "      <td>France</td>\n",
       "      <td>16.60</td>\n",
       "    </tr>\n",
       "    <tr>\n",
       "      <th>541908</th>\n",
       "      <td>581587</td>\n",
       "      <td>22138</td>\n",
       "      <td>BAKING SET 9 PIECE RETROSPOT</td>\n",
       "      <td>3</td>\n",
       "      <td>2011-12-09 12:50:00</td>\n",
       "      <td>4.95</td>\n",
       "      <td>12680.0</td>\n",
       "      <td>France</td>\n",
       "      <td>14.85</td>\n",
       "    </tr>\n",
       "  </tbody>\n",
       "</table>\n",
       "<p>397924 rows × 9 columns</p>\n",
       "</div>"
      ],
      "text/plain": [
       "       InvoiceNo StockCode                          Description  Quantity  \\\n",
       "0         536365    85123A   WHITE HANGING HEART T-LIGHT HOLDER         6   \n",
       "1         536365     71053                  WHITE METAL LANTERN         6   \n",
       "2         536365    84406B       CREAM CUPID HEARTS COAT HANGER         8   \n",
       "3         536365    84029G  KNITTED UNION FLAG HOT WATER BOTTLE         6   \n",
       "4         536365    84029E       RED WOOLLY HOTTIE WHITE HEART.         6   \n",
       "...          ...       ...                                  ...       ...   \n",
       "541904    581587     22613          PACK OF 20 SPACEBOY NAPKINS        12   \n",
       "541905    581587     22899         CHILDREN'S APRON DOLLY GIRL          6   \n",
       "541906    581587     23254        CHILDRENS CUTLERY DOLLY GIRL          4   \n",
       "541907    581587     23255      CHILDRENS CUTLERY CIRCUS PARADE         4   \n",
       "541908    581587     22138        BAKING SET 9 PIECE RETROSPOT          3   \n",
       "\n",
       "               InvoiceDate  UnitPrice  CustomerID         Country  Sales  \n",
       "0      2010-12-01 08:26:00       2.55     17850.0  United Kingdom  15.30  \n",
       "1      2010-12-01 08:26:00       3.39     17850.0  United Kingdom  20.34  \n",
       "2      2010-12-01 08:26:00       2.75     17850.0  United Kingdom  22.00  \n",
       "3      2010-12-01 08:26:00       3.39     17850.0  United Kingdom  20.34  \n",
       "4      2010-12-01 08:26:00       3.39     17850.0  United Kingdom  20.34  \n",
       "...                    ...        ...         ...             ...    ...  \n",
       "541904 2011-12-09 12:50:00       0.85     12680.0          France  10.20  \n",
       "541905 2011-12-09 12:50:00       2.10     12680.0          France  12.60  \n",
       "541906 2011-12-09 12:50:00       4.15     12680.0          France  16.60  \n",
       "541907 2011-12-09 12:50:00       4.15     12680.0          France  16.60  \n",
       "541908 2011-12-09 12:50:00       4.95     12680.0          France  14.85  \n",
       "\n",
       "[397924 rows x 9 columns]"
      ]
     },
     "execution_count": 37,
     "metadata": {},
     "output_type": "execute_result"
    }
   ],
   "source": [
    "df"
   ]
  },
  {
   "cell_type": "raw",
   "metadata": {
    "vscode": {
     "languageId": "raw"
    }
   },
   "source": [
    "df에서 범주형은 'Country' 하나뿐이네? ('Description'은 미사용)\n",
    "그렇다면 새로운 범주형 열을 생성해야겠다."
   ]
  },
  {
   "cell_type": "code",
   "execution_count": 24,
   "metadata": {},
   "outputs": [],
   "source": [
    "# 고객별 총매출과 대표 국가\n",
    "cust_sales = df.groupby('CustomerID')['Sales'].sum()\n",
    "cust_country = (df.groupby('CustomerID')['Country']\n",
    "                  .agg(lambda x: x.mode().iat[0] if not x.mode().empty else x.iloc[0])) \n",
    "# -> 만약 최빈값이 존재하면 최빈값 중 첫번째 값을 가져오고 만약 최빈값 없으면 그냥 첫번째 값 가져오기"
   ]
  },
  {
   "cell_type": "code",
   "execution_count": 39,
   "metadata": {},
   "outputs": [
    {
     "data": {
      "text/plain": [
       "CustomerID\n",
       "12346.0    77183.60\n",
       "12347.0     4310.00\n",
       "12348.0     1797.24\n",
       "12349.0     1757.55\n",
       "12350.0      334.40\n",
       "             ...   \n",
       "18280.0      180.60\n",
       "18281.0       80.82\n",
       "18282.0      178.05\n",
       "18283.0     2094.88\n",
       "18287.0     1837.28\n",
       "Name: Sales, Length: 4339, dtype: float64"
      ]
     },
     "execution_count": 39,
     "metadata": {},
     "output_type": "execute_result"
    }
   ],
   "source": [
    "cust_sales"
   ]
  },
  {
   "cell_type": "code",
   "execution_count": 40,
   "metadata": {},
   "outputs": [
    {
     "data": {
      "text/plain": [
       "CustomerID\n",
       "12346.0    United Kingdom\n",
       "12347.0           Iceland\n",
       "12348.0           Finland\n",
       "12349.0             Italy\n",
       "12350.0            Norway\n",
       "                ...      \n",
       "18280.0    United Kingdom\n",
       "18281.0    United Kingdom\n",
       "18282.0    United Kingdom\n",
       "18283.0    United Kingdom\n",
       "18287.0    United Kingdom\n",
       "Name: Country, Length: 4339, dtype: object"
      ]
     },
     "execution_count": 40,
     "metadata": {},
     "output_type": "execute_result"
    }
   ],
   "source": [
    "cust_country"
   ]
  },
  {
   "cell_type": "code",
   "execution_count": 26,
   "metadata": {},
   "outputs": [],
   "source": [
    "cust = pd.DataFrame({'Country': cust_country, 'Sales': cust_sales})\n",
    "thr = cust['Sales'].quantile(0.70)\n",
    "cust['Segment'] = np.where(cust['Sales'] >= thr, 'High', 'Low')"
   ]
  },
  {
   "cell_type": "code",
   "execution_count": 27,
   "metadata": {},
   "outputs": [
    {
     "data": {
      "text/html": [
       "<div>\n",
       "<style scoped>\n",
       "    .dataframe tbody tr th:only-of-type {\n",
       "        vertical-align: middle;\n",
       "    }\n",
       "\n",
       "    .dataframe tbody tr th {\n",
       "        vertical-align: top;\n",
       "    }\n",
       "\n",
       "    .dataframe thead th {\n",
       "        text-align: right;\n",
       "    }\n",
       "</style>\n",
       "<table border=\"1\" class=\"dataframe\">\n",
       "  <thead>\n",
       "    <tr style=\"text-align: right;\">\n",
       "      <th></th>\n",
       "      <th>Country</th>\n",
       "      <th>Sales</th>\n",
       "      <th>Segment</th>\n",
       "    </tr>\n",
       "    <tr>\n",
       "      <th>CustomerID</th>\n",
       "      <th></th>\n",
       "      <th></th>\n",
       "      <th></th>\n",
       "    </tr>\n",
       "  </thead>\n",
       "  <tbody>\n",
       "    <tr>\n",
       "      <th>12346.0</th>\n",
       "      <td>United Kingdom</td>\n",
       "      <td>0.00</td>\n",
       "      <td>Low</td>\n",
       "    </tr>\n",
       "    <tr>\n",
       "      <th>12347.0</th>\n",
       "      <td>Iceland</td>\n",
       "      <td>4310.00</td>\n",
       "      <td>High</td>\n",
       "    </tr>\n",
       "    <tr>\n",
       "      <th>12348.0</th>\n",
       "      <td>Finland</td>\n",
       "      <td>1797.24</td>\n",
       "      <td>High</td>\n",
       "    </tr>\n",
       "    <tr>\n",
       "      <th>12349.0</th>\n",
       "      <td>Italy</td>\n",
       "      <td>1757.55</td>\n",
       "      <td>High</td>\n",
       "    </tr>\n",
       "    <tr>\n",
       "      <th>12350.0</th>\n",
       "      <td>Norway</td>\n",
       "      <td>334.40</td>\n",
       "      <td>Low</td>\n",
       "    </tr>\n",
       "    <tr>\n",
       "      <th>...</th>\n",
       "      <td>...</td>\n",
       "      <td>...</td>\n",
       "      <td>...</td>\n",
       "    </tr>\n",
       "    <tr>\n",
       "      <th>18280.0</th>\n",
       "      <td>United Kingdom</td>\n",
       "      <td>180.60</td>\n",
       "      <td>Low</td>\n",
       "    </tr>\n",
       "    <tr>\n",
       "      <th>18281.0</th>\n",
       "      <td>United Kingdom</td>\n",
       "      <td>80.82</td>\n",
       "      <td>Low</td>\n",
       "    </tr>\n",
       "    <tr>\n",
       "      <th>18282.0</th>\n",
       "      <td>United Kingdom</td>\n",
       "      <td>176.60</td>\n",
       "      <td>Low</td>\n",
       "    </tr>\n",
       "    <tr>\n",
       "      <th>18283.0</th>\n",
       "      <td>United Kingdom</td>\n",
       "      <td>2094.88</td>\n",
       "      <td>High</td>\n",
       "    </tr>\n",
       "    <tr>\n",
       "      <th>18287.0</th>\n",
       "      <td>United Kingdom</td>\n",
       "      <td>1837.28</td>\n",
       "      <td>High</td>\n",
       "    </tr>\n",
       "  </tbody>\n",
       "</table>\n",
       "<p>4372 rows × 3 columns</p>\n",
       "</div>"
      ],
      "text/plain": [
       "                   Country    Sales Segment\n",
       "CustomerID                                 \n",
       "12346.0     United Kingdom     0.00     Low\n",
       "12347.0            Iceland  4310.00    High\n",
       "12348.0            Finland  1797.24    High\n",
       "12349.0              Italy  1757.55    High\n",
       "12350.0             Norway   334.40     Low\n",
       "...                    ...      ...     ...\n",
       "18280.0     United Kingdom   180.60     Low\n",
       "18281.0     United Kingdom    80.82     Low\n",
       "18282.0     United Kingdom   176.60     Low\n",
       "18283.0     United Kingdom  2094.88    High\n",
       "18287.0     United Kingdom  1837.28    High\n",
       "\n",
       "[4372 rows x 3 columns]"
      ]
     },
     "execution_count": 27,
     "metadata": {},
     "output_type": "execute_result"
    }
   ],
   "source": [
    "cust"
   ]
  },
  {
   "cell_type": "code",
   "execution_count": 44,
   "metadata": {},
   "outputs": [],
   "source": [
    "topN = 10\n",
    "top_countries = cust['Country'].value_counts().head(topN).index\n",
    "tab = pd.crosstab(cust.loc[cust['Country'].isin(top_countries), 'Country'],\n",
    "                  cust.loc[cust['Country'].isin(top_countries), 'Segment'])"
   ]
  },
  {
   "cell_type": "code",
   "execution_count": 45,
   "metadata": {},
   "outputs": [
    {
     "data": {
      "text/html": [
       "<div>\n",
       "<style scoped>\n",
       "    .dataframe tbody tr th:only-of-type {\n",
       "        vertical-align: middle;\n",
       "    }\n",
       "\n",
       "    .dataframe tbody tr th {\n",
       "        vertical-align: top;\n",
       "    }\n",
       "\n",
       "    .dataframe thead th {\n",
       "        text-align: right;\n",
       "    }\n",
       "</style>\n",
       "<table border=\"1\" class=\"dataframe\">\n",
       "  <thead>\n",
       "    <tr style=\"text-align: right;\">\n",
       "      <th>Segment</th>\n",
       "      <th>High</th>\n",
       "      <th>Low</th>\n",
       "    </tr>\n",
       "    <tr>\n",
       "      <th>Country</th>\n",
       "      <th></th>\n",
       "      <th></th>\n",
       "    </tr>\n",
       "  </thead>\n",
       "  <tbody>\n",
       "    <tr>\n",
       "      <th>Belgium</th>\n",
       "      <td>11</td>\n",
       "      <td>13</td>\n",
       "    </tr>\n",
       "    <tr>\n",
       "      <th>Finland</th>\n",
       "      <td>5</td>\n",
       "      <td>7</td>\n",
       "    </tr>\n",
       "    <tr>\n",
       "      <th>France</th>\n",
       "      <td>30</td>\n",
       "      <td>57</td>\n",
       "    </tr>\n",
       "    <tr>\n",
       "      <th>Germany</th>\n",
       "      <td>42</td>\n",
       "      <td>52</td>\n",
       "    </tr>\n",
       "    <tr>\n",
       "      <th>Italy</th>\n",
       "      <td>5</td>\n",
       "      <td>9</td>\n",
       "    </tr>\n",
       "    <tr>\n",
       "      <th>Norway</th>\n",
       "      <td>7</td>\n",
       "      <td>3</td>\n",
       "    </tr>\n",
       "    <tr>\n",
       "      <th>Portugal</th>\n",
       "      <td>7</td>\n",
       "      <td>12</td>\n",
       "    </tr>\n",
       "    <tr>\n",
       "      <th>Spain</th>\n",
       "      <td>8</td>\n",
       "      <td>21</td>\n",
       "    </tr>\n",
       "    <tr>\n",
       "      <th>Switzerland</th>\n",
       "      <td>11</td>\n",
       "      <td>9</td>\n",
       "    </tr>\n",
       "    <tr>\n",
       "      <th>United Kingdom</th>\n",
       "      <td>1134</td>\n",
       "      <td>2787</td>\n",
       "    </tr>\n",
       "  </tbody>\n",
       "</table>\n",
       "</div>"
      ],
      "text/plain": [
       "Segment         High   Low\n",
       "Country                   \n",
       "Belgium           11    13\n",
       "Finland            5     7\n",
       "France            30    57\n",
       "Germany           42    52\n",
       "Italy              5     9\n",
       "Norway             7     3\n",
       "Portugal           7    12\n",
       "Spain              8    21\n",
       "Switzerland       11     9\n",
       "United Kingdom  1134  2787"
      ]
     },
     "execution_count": 45,
     "metadata": {},
     "output_type": "execute_result"
    }
   ],
   "source": [
    "tab"
   ]
  },
  {
   "cell_type": "markdown",
   "metadata": {},
   "source": [
    "- `pd.crosstab()`은 행(row) × 열(column) 의 빈도수를 집계해주는 함수\n",
    "    - 행(row): Country (국가)\n",
    "        - cust['Country'].isin(top_countries) : 상위 국가 목록(top_countries) 안에 속하는 고객만 필터링\n",
    "    - 열(column): Segment (고객 세그먼트, 예: High / Low)\n",
    "    - 즉, 국가별로 High 고객 수와 Low 고객 수가 몇 명인지 세어주는 교차표만들려고 한 것!"
   ]
  },
  {
   "cell_type": "code",
   "execution_count": 46,
   "metadata": {},
   "outputs": [
    {
     "name": "stdout",
     "output_type": "stream",
     "text": [
      "χ² (Country × High/Low): 30.622522709187837 p: 0.00034355334732547174 dof: 9\n",
      "Expected min: 2.978723404255319\n"
     ]
    }
   ],
   "source": [
    "chi2, pval, dof, expected = stats.chi2_contingency(tab)\n",
    "print(\"χ² (Country × High/Low):\", chi2, \"p:\", pval, \"dof:\", dof)\n",
    "print(\"Expected min:\", expected.min())"
   ]
  },
  {
   "cell_type": "code",
   "execution_count": 47,
   "metadata": {},
   "outputs": [
    {
     "data": {
      "text/plain": [
       "array([[   7.14893617,   16.85106383],\n",
       "       [   3.57446809,    8.42553191],\n",
       "       [  25.91489362,   61.08510638],\n",
       "       [  28.        ,   66.        ],\n",
       "       [   4.17021277,    9.82978723],\n",
       "       [   2.9787234 ,    7.0212766 ],\n",
       "       [   5.65957447,   13.34042553],\n",
       "       [   8.63829787,   20.36170213],\n",
       "       [   5.95744681,   14.04255319],\n",
       "       [1167.95744681, 2753.04255319]])"
      ]
     },
     "execution_count": 47,
     "metadata": {},
     "output_type": "execute_result"
    }
   ],
   "source": [
    "expected"
   ]
  },
  {
   "cell_type": "markdown",
   "metadata": {},
   "source": [
    "- 카이 통계량\n",
    "- p값 -> 0.05이하이기 때문에 유의수준 5%에서 귀무가설 기각 -> 국가별 High/Low 고객 비율에는 통계적으로 유의미한 차이가 있다\n",
    "- 자유도 -> $(행개수 - 1) * (열개수 - 1) = (10 - 1 ) * (2 - 1) = 9$\n",
    "- 최소 기대빈도 -> 너무 작으면 신뢰도가 떨어짐 통상적으로 5 이상이 바람직 -> p값이 아주 작아서 전체적으로 유의미하지만 일부 국가는 샘플이 적어서 왜곡 가능성이 존재 -> 희박한 국가를 빼거나 묶어나 해야 할 듯..."
   ]
  },
  {
   "cell_type": "markdown",
   "metadata": {},
   "source": [
    "### 비즈니스 해석\n",
    "- 통계적 결론 : “국가별로 High 고객 비율이 다르다.”\n",
    "\n",
    "- 마케팅 전략적 결론:\n",
    "\n",
    "    - 특정 국가에서는 High 고객 비중이 높음 → 프리미엄 상품/고액 고객 관리 집중\n",
    "\n",
    "    - 다른 국가에서는 Low 고객 비중이 높음 → 신규고객 확대, 기본 프로모션 위주"
   ]
  },
  {
   "cell_type": "markdown",
   "metadata": {},
   "source": [
    "## (3) ANOVA: 미국, 일본, 프랑스 고객 평균 매출 비교\n",
    "\n",
    "### “상위 3개 국가(미국, 일본, 프랑스) 고객 평균 매출액에 차이가 있는가?”\n",
    "- H₀: 세 국가의 평균 매출은 동일하다.\n",
    "\n",
    "- H₁: 세 국가의 평균 매출 중 적어도 하나는 다르다.\n",
    "\n",
    "- 방법: 분산분석 (ANOVA)\n",
    "\n",
    "## 분산분석\n",
    "\n",
    "- 대표적인게 ANOVA\n",
    "    - F값 = (평균적인 집단 간 변동) / (평균적인 집단 내 변동)을 계산하여 가설검정을 하는 것이 특징 -> F분포랑 관련 있음\n",
    "- 하지만 데이터가 정규성을 가질 때 가능"
   ]
  },
  {
   "cell_type": "code",
   "execution_count": 48,
   "metadata": {},
   "outputs": [
    {
     "data": {
      "text/plain": [
       "array(['United Kingdom', 'France', 'Australia', 'Netherlands', 'Germany',\n",
       "       'Norway', 'EIRE', 'Switzerland', 'Spain', 'Poland', 'Portugal',\n",
       "       'Italy', 'Belgium', 'Lithuania', 'Japan', 'Iceland',\n",
       "       'Channel Islands', 'Denmark', 'Cyprus', 'Sweden', 'Finland',\n",
       "       'Austria', 'Greece', 'Singapore', 'Lebanon',\n",
       "       'United Arab Emirates', 'Israel', 'Saudi Arabia', 'Czech Republic',\n",
       "       'Canada', 'Unspecified', 'Brazil', 'USA', 'European Community',\n",
       "       'Bahrain', 'Malta', 'RSA'], dtype=object)"
      ]
     },
     "execution_count": 48,
     "metadata": {},
     "output_type": "execute_result"
    }
   ],
   "source": [
    "df[\"Country\"].unique()"
   ]
  },
  {
   "cell_type": "code",
   "execution_count": 49,
   "metadata": {
    "id": "3w0bVvzXaHFG"
   },
   "outputs": [
    {
     "name": "stdout",
     "output_type": "stream",
     "text": [
      "ANOVA test (USA, JP, FR)\n",
      "F-statistic = 1.5084905303210823 p-value = 0.2264407061117223\n"
     ]
    }
   ],
   "source": [
    "usa_sales = customer_sales[df.loc[df[\"Country\"]==\"USA\",\"CustomerID\"].unique()]\n",
    "jp_sales = customer_sales[df.loc[df[\"Country\"]==\"Japan\",\"CustomerID\"].unique()]\n",
    "fr_sales = customer_sales[df.loc[df[\"Country\"]==\"France\",\"CustomerID\"].unique()]\n",
    "\n",
    "fstat, pval = stats.f_oneway(usa_sales, jp_sales, fr_sales)\n",
    "print(\"ANOVA test (USA, JP, FR)\")\n",
    "print(\"F-statistic =\", fstat, \"p-value =\", pval)"
   ]
  },
  {
   "cell_type": "markdown",
   "metadata": {},
   "source": [
    "## 다중비교 검정\n",
    "- 분산분석(ANOVA)은 적어도 한 쌍은 차이가 있다!는 얘기할 수 있어도 어느 쌍에 차이가 있는지 얘기 X -> 그 때 **다중비교 사용**\n",
    "- 단순히 유의수준을 반복 검정횟수 k로 나누는 본페로니 검정도 있지만 -> 검정력이 낮다는 단점\n",
    "- 일반적으로는 본페로니 검정보다 우수한 **튜키 검정(Tukey's test)** 을 사용"
   ]
  },
  {
   "cell_type": "code",
   "execution_count": 50,
   "metadata": {},
   "outputs": [
    {
     "name": "stdout",
     "output_type": "stream",
     "text": [
      "\n",
      "Tukey HSD 결과\n",
      "    Multiple Comparison of Means - Tukey HSD, FWER=0.05    \n",
      "===========================================================\n",
      "group1 group2  meandiff  p-adj    lower      upper   reject\n",
      "-----------------------------------------------------------\n",
      "    FR     JP   2274.471 0.2825 -1269.3427 5818.2846  False\n",
      "    FR    USA -1507.4778 0.7454 -6412.5428 3397.5873  False\n",
      "    JP    USA -3781.9487 0.2803 -9655.8864 2091.9889  False\n",
      "-----------------------------------------------------------\n"
     ]
    }
   ],
   "source": [
    "from statsmodels.stats.multicomp import pairwise_tukeyhsd\n",
    "\n",
    "values = np.concatenate([usa_sales, jp_sales, fr_sales])\n",
    "\n",
    "labels = ([\"USA\"] * len(usa_sales)) + ([\"JP\"] * len(jp_sales)) + ([\"FR\"] * len(fr_sales))\n",
    "\n",
    "tukey = pairwise_tukeyhsd(values, labels, alpha=0.05)\n",
    "\n",
    "print(\"\\nTukey HSD 결과\")\n",
    "print(tukey)"
   ]
  },
  {
   "cell_type": "markdown",
   "metadata": {},
   "source": [
    "### Tukey 검정 결과 해석하기\n",
    "- meandiff : 두 집단 평균 차이 (group2 - group1)\n",
    "- p-adj : 보정된 p-value\n",
    "- lower, upper : 평균 차이의 95% 신뢰구간\n",
    "- reject : 귀무가설(두 집단 평균 동일)을 기각할지 여부"
   ]
  },
  {
   "cell_type": "code",
   "execution_count": 51,
   "metadata": {},
   "outputs": [
    {
     "name": "stdout",
     "output_type": "stream",
     "text": [
      "\n",
      "Tukey HSD 결과\n",
      "    Multiple Comparison of Means - Tukey HSD, FWER=0.05    \n",
      "===========================================================\n",
      "group1 group2  meandiff  p-adj    lower      upper   reject\n",
      "-----------------------------------------------------------\n",
      "    FR     JP   2274.471 0.2825 -1269.3427 5818.2846  False\n",
      "    FR    USA -1507.4778 0.7454 -6412.5428 3397.5873  False\n",
      "    JP    USA -3781.9487 0.2803 -9655.8864 2091.9889  False\n",
      "-----------------------------------------------------------\n"
     ]
    }
   ],
   "source": [
    "# 데이터프레임 이용해서 코드 사용하기\n",
    "df_tukey = pd.DataFrame({\n",
    "    \"sales\": np.concatenate([usa_sales, jp_sales, fr_sales]),\n",
    "    \"group\": ([\"USA\"] * len(usa_sales)) + ([\"JP\"] * len(jp_sales)) + ([\"FR\"] * len(fr_sales))\n",
    "})\n",
    "\n",
    "tukey = pairwise_tukeyhsd(df_tukey[\"sales\"], df_tukey[\"group\"], alpha=0.05)\n",
    "\n",
    "print(\"\\nTukey HSD 결과\")\n",
    "print(tukey)"
   ]
  },
  {
   "cell_type": "markdown",
   "metadata": {},
   "source": [
    "### 해석\n",
    "- “세 국가 고객의 평균 매출액은 비슷하다.”\n",
    "\n",
    "    - 국가별 차이는 통계적으로 증명되지 않았음.\n",
    "\n",
    "    - 즉, 국가에 따라 매출액이 달라진다고 일반화할 수 없음.\n",
    "\n",
    "- 실제 차이가 없다는 뜻은 아님.\n",
    "\n",
    "    - 표본이 적거나 분산이 크면 → 검정력이 부족해서 유의하지 않게 나올 수 있음.\n",
    "\n",
    "    - 즉, “차이가 존재하지 않는다”가 아니라, “차이가 있다고 말할 증거가 부족하다”로 해석"
   ]
  },
  {
   "cell_type": "markdown",
   "metadata": {},
   "source": [
    "### 비즈니스 해석\n",
    "- 세 국가를 \"매출 수준이 다른 집단\"으로 구분할 근거는 약하다.\n",
    "\n",
    "- 따라서 마케팅 전략을 “국가별 차별화”보다는 “공통 전략”으로 가져가는 게 타당할 수 있음."
   ]
  },
  {
   "cell_type": "markdown",
   "metadata": {},
   "source": [
    "## 항상 분산 분석을 사용하고 나서 다중비교 검정을 사용하는 것이 옳을까?"
   ]
  },
  {
   "cell_type": "markdown",
   "metadata": {},
   "source": [
    "- 다중 분석 중 분산분석의 원리가 다른 경우 분산분석의 결과와 일치하지 않는 경우도.... (분산분석은 의미 X -> 다중 분석은 의미 O)\n",
    "- 또한, 다중 분석도 하고 분산분석도 하면 다중검정의 문제도 당연히 발생...\n",
    "- 실용적으로, 앞서 본 본페르니, 튜키 검정에 대해서는 분산 분석과는 다른 원리를 사용하기 때문에 분산 분석을 수행하지 않고 다중비교 검정을 수행해도 문제 없음!"
   ]
  },
  {
   "cell_type": "code",
   "execution_count": null,
   "metadata": {},
   "outputs": [],
   "source": []
  }
 ],
 "metadata": {
  "colab": {
   "authorship_tag": "ABX9TyMr2DlWX3/d5YGcCdK+DsBv",
   "provenance": []
  },
  "kernelspec": {
   "display_name": "Python 3",
   "language": "python",
   "name": "python3"
  },
  "language_info": {
   "codemirror_mode": {
    "name": "ipython",
    "version": 3
   },
   "file_extension": ".py",
   "mimetype": "text/x-python",
   "name": "python",
   "nbconvert_exporter": "python",
   "pygments_lexer": "ipython3",
   "version": "3.10.10"
  }
 },
 "nbformat": 4,
 "nbformat_minor": 4
}
