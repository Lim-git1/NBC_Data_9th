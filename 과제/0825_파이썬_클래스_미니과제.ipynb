{
 "cells": [
  {
   "cell_type": "markdown",
   "metadata": {},
   "source": [
    "## 문제 1\n",
    "문제: Person이라는 클래스를 정의하고, __init__ 메서드를 통해 name과 age 인스턴스 변수를 초기화하는 코드를 작성하세요.  \n",
    "그리고 introduce 메서드를 만들어 \"안녕하세요, 제 이름은 {name}이고, 나이는 {age}살입니다.\"를 출력하도록 하세요."
   ]
  },
  {
   "cell_type": "code",
   "execution_count": 4,
   "metadata": {},
   "outputs": [
    {
     "name": "stdout",
     "output_type": "stream",
     "text": [
      "안녕하세요, 제 이름은 홍길동이고, 나이는 50살 입니다.\n"
     ]
    }
   ],
   "source": [
    "class Person() :\n",
    "    \n",
    "    def __init__(self, name, age) :\n",
    "        self.name = name\n",
    "        self.age = age\n",
    "        \n",
    "    def introduce(self) :\n",
    "        print(f\"안녕하세요, 제 이름은 {self.name}이고, 나이는 {self.age}살 입니다.\")\n",
    "        \n",
    "\n",
    "take1 = Person(\"홍길동\", 50)\n",
    "take1.introduce()"
   ]
  },
  {
   "cell_type": "markdown",
   "metadata": {},
   "source": [
    "## 문제 2\n",
    "문제: Rectangle 클래스를 정의하고, 가로(width)와 세로(height)를 속성으로 갖도록 하세요.  \n",
    "또한 면적을 반환하는 메서드 area()와 둘레 길이를 반환하는 메서드 perimeter()를 구현하세요."
   ]
  },
  {
   "cell_type": "code",
   "execution_count": 8,
   "metadata": {},
   "outputs": [
    {
     "name": "stdout",
     "output_type": "stream",
     "text": [
      "20\n",
      "24\n"
     ]
    }
   ],
   "source": [
    "class Rectangle :\n",
    "    \n",
    "    def __init__(self, width, height) :\n",
    "        self.width = width\n",
    "        self.height = height\n",
    "    \n",
    "    def area(self) :\n",
    "        result = self.width * self.height\n",
    "        print(result)\n",
    "        \n",
    "    def perimeter(self) :\n",
    "        result = (self.width*2)+(self.height*2)\n",
    "        print(result)\n",
    "    \n",
    "r1 = Rectangle(10,2)\n",
    "r1.area()\n",
    "r1.perimeter()"
   ]
  },
  {
   "cell_type": "markdown",
   "metadata": {},
   "source": [
    "## 문제 3\n",
    "문제: BankAccount 클래스를 정의하고, owner(계좌주)와 balance(잔고) 인스턴스 변수를 갖도록 하세요.  \n",
    "deposit(amount) 메서드로 잔고를 추가하고, withdraw(amount) 메서드로 잔고를 인출합니다.  \n",
    "만약 인출액이 잔고보다 크면 \"잔고 부족\"이라는 메시지를 출력하도록 하세요."
   ]
  },
  {
   "cell_type": "code",
   "execution_count": 10,
   "metadata": {},
   "outputs": [
    {
     "name": "stdout",
     "output_type": "stream",
     "text": [
      "50000원 입금, 현재 잔액 : 150000\n",
      "80000원 출금, 현재 잔액 : 70000\n",
      "!! 잔고부족 !!\n"
     ]
    }
   ],
   "source": [
    "class BankAccount :\n",
    "    def __init__(self, owner, balance):\n",
    "        self.owner = owner\n",
    "        self.balance = balance\n",
    "    \n",
    "    def deposit(self, amount) :\n",
    "        self.balance += amount\n",
    "        print(f\"{amount}원 입금, 현재 잔액 : {self.balance}\")\n",
    "        \n",
    "    def withdraw(self, amount) :\n",
    "        if self.balance < amount : print(\"!! 잔고부족 !!\")\n",
    "        else :\n",
    "            self.balance -= amount\n",
    "            print(f\"{amount}원 출금, 현재 잔액 : {self.balance}\")\n",
    "            \n",
    "hong = BankAccount(\"홍길동\", 100000)\n",
    "hong.deposit(50000)\n",
    "hong.withdraw(80000)\n",
    "hong.withdraw(80000)"
   ]
  },
  {
   "cell_type": "markdown",
   "metadata": {},
   "source": [
    "## 문제 4 (클래스 변수, 인스턴스 변수 비교)\n",
    "문제: Car 클래스를 정의하고, 클래스 변수 wheels를 4로 설정하세요. 각 인스턴스는 color 인스턴스 변수를 갖습니다.  \n",
    "describe() 메서드를 만들어 \"이 자동차는 {color} 색이고, 바퀴는 {wheels}개입니다.\" 를 출력하도록 하세요.  \n",
    "그리고 인스턴스 생성 후 describe() 메서드를 호출해보세요."
   ]
  },
  {
   "cell_type": "code",
   "execution_count": 11,
   "metadata": {},
   "outputs": [
    {
     "name": "stdout",
     "output_type": "stream",
     "text": [
      "이 자동차는 Blue 색이고, 바퀴는 4개입니다.\n"
     ]
    }
   ],
   "source": [
    "class Car:\n",
    "    wheels = 4  # 클래스 변수\n",
    "    \n",
    "    def __init__(self, color):\n",
    "        self.color = color  # 인스턴스 변수 \n",
    "        \n",
    "    def describe(self) :\n",
    "        print(f\"이 자동차는 {self.color} 색이고, 바퀴는 {Car.wheels}개입니다.\")\n",
    "        \n",
    "c1 = Car(\"Blue\")\n",
    "c1.describe()"
   ]
  },
  {
   "cell_type": "markdown",
   "metadata": {},
   "source": [
    "## 문제 5 (상속, 메서드 오버라이딩)\n",
    "Animal이라는 클래스를 만들고, speak() 메서드에서 \"동물이 소리를 냅니다.\"를 출력하도록 하세요.  \n",
    "이를 상속받는 Dog 클래스를 만들고 speak() 메서드를 오버라이딩하여 \"멍멍\"을 출력하도록 하세요.  \n",
    "Dog 인스턴스를 생성하고 speak()를 호출해보세요. "
   ]
  },
  {
   "cell_type": "code",
   "execution_count": 14,
   "metadata": {},
   "outputs": [
    {
     "name": "stdout",
     "output_type": "stream",
     "text": [
      "멍멍\n"
     ]
    }
   ],
   "source": [
    "class Animal :\n",
    "    def __init__(self):\n",
    "        pass\n",
    "    \n",
    "    def speak() :\n",
    "        print(\"동물이 소리를 냅니다.\")\n",
    "    \n",
    "class Dog(Animal) : # Dog는 Animal을 상속받음\n",
    "    def speak():\n",
    "        print(\"멍멍\")\n",
    "        \n",
    "Dog.speak()"
   ]
  },
  {
   "cell_type": "markdown",
   "metadata": {},
   "source": [
    "## 문제 6\n",
    "문제: Student 클래스를 정의하고, name과 scores(점수 리스트)를 인스턴스 변수로 받으세요.  \n",
    "add_score(score) 메서드로 점수를 추가하고, get_average() 메서드로 평균을 반환하세요.  \n",
    "학생 객체를 생성하고 점수를 몇 개 추가한 뒤 평균을 출력해보세요."
   ]
  },
  {
   "cell_type": "code",
   "execution_count": 16,
   "metadata": {},
   "outputs": [
    {
     "name": "stdout",
     "output_type": "stream",
     "text": [
      "홍길동의 이번 점수 : 80 / 현재 점수 리스트 : [60, 70, 80]\n",
      "홍길동의 평균 점수 : 70.0 / 현재 점수 리스트 : [60, 70, 80]\n"
     ]
    }
   ],
   "source": [
    "class Student:\n",
    "    def __init__(self, name, scores):\n",
    "        self.name = name\n",
    "        self.scores = scores\n",
    "        \n",
    "    def add_score(self, score) :\n",
    "        self.scores.append(score)\n",
    "        print(f\"{self.name}의 이번 점수 : {score} / 현재 점수 리스트 : {self.scores}\")\n",
    "    \n",
    "    def get_average(self) :\n",
    "        avg = sum(self.scores) / len(self.scores)\n",
    "        print(f\"{self.name}의 평균 점수 : {avg} / 현재 점수 리스트 : {self.scores}\")\n",
    "    \n",
    "name = \"홍길동\"\n",
    "exam = [60,70]\n",
    "\n",
    "s1 = Student(name, exam)\n",
    "s1.add_score(80)\n",
    "s1.get_average()"
   ]
  }
 ],
 "metadata": {
  "kernelspec": {
   "display_name": "Python 3",
   "language": "python",
   "name": "python3"
  },
  "language_info": {
   "codemirror_mode": {
    "name": "ipython",
    "version": 3
   },
   "file_extension": ".py",
   "mimetype": "text/x-python",
   "name": "python",
   "nbconvert_exporter": "python",
   "pygments_lexer": "ipython3",
   "version": "3.10.10"
  }
 },
 "nbformat": 4,
 "nbformat_minor": 2
}
