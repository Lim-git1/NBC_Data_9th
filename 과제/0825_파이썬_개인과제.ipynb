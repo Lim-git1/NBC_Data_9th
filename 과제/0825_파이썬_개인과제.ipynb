{
 "cells": [
  {
   "cell_type": "markdown",
   "id": "4ffa967b",
   "metadata": {},
   "source": [
    "[01. 파이썬 과제(2025/08/25) 노션 페이지](https://www.notion.so/01-2025-08-25-2451698118388099ae69f506093bef09)\n",
    "\n"
   ]
  },
  {
   "cell_type": "markdown",
   "id": "d742c989",
   "metadata": {},
   "source": [
    "\n",
    "## BASIC ⭐️"
   ]
  },
  {
   "cell_type": "markdown",
   "id": "a6e873d1",
   "metadata": {},
   "source": [
    "### 문제 1 : 짝수의 합 구하기"
   ]
  },
  {
   "cell_type": "markdown",
   "id": "3e9c0a4f",
   "metadata": {},
   "source": [
    "\n",
    "📌 **요구 지식:** 리스트, 반복문, 조건문\n",
    "\n",
    "- 배경:</br>장바구니 금액 중에서 짝수 금액만 골라 합산해야 하는 간단 로직을 연습합니다.\n",
    "\n",
    "- 목표:</br>정수 리스트에서 **짝수만** 골라 합계를 반환하는 함수를 작성하세요.\n",
    "\n",
    "\n",
    "```python\n",
    "# 예시 데이터\n",
    "numbers = [3000, 7000, 2000, 8000, 5000, 10000, 11000]\n",
    "\n",
    "def sum_even(numbers):\n",
    "    \"\"\"\n",
    "    numbers: 정수 리스트\n",
    "    반환값: 짝수들의 합 (int)\n",
    "    \"\"\"\n",
    "    # 여기에 코드를 작성하세요\n",
    "    return\n",
    "\n",
    "# 예시 실행 (제출 시 주석 처리)\n",
    "# print(sum_even(numbers))  # 46000```"
   ]
  },
  {
   "cell_type": "code",
   "execution_count": 4,
   "id": "330d243b",
   "metadata": {},
   "outputs": [
    {
     "name": "stdout",
     "output_type": "stream",
     "text": [
      "46000\n"
     ]
    }
   ],
   "source": [
    "def sum_even(numbers) :\n",
    "    even_sum = 0\n",
    "    for i in numbers :\n",
    "        if i %2 == 0 : even_sum += i\n",
    "    return even_sum\n",
    "\n",
    "\n",
    "# 예시 실행 (제출 시 주석 처리)\n",
    "numbers = [3000, 7000, 2000, 8000, 5000, 10000, 11000]\n",
    "print(sum_even(numbers))  # 46000"
   ]
  },
  {
   "cell_type": "markdown",
   "id": "29c1ebe1",
   "metadata": {},
   "source": [
    "\n",
    "### 문제 2 : 문장 속 단어 개수 세기"
   ]
  },
  {
   "cell_type": "markdown",
   "id": "1676c667",
   "metadata": {},
   "source": [
    "📌 **요구 지식:** 문자열, ```split()```, 반복문(선택)\n",
    "\n",
    "- 배경:</br>리포트에서 단어 수를 집계해야 할 때 기본적으로 공백 기준으로 단어를 셉니다. 연속된 공백도 잘 처리되어야 합니다.\n",
    "\n",
    "- 목표:</br>문자열에서 공백 기준 단어 수를 반환하는 함수를 작성하세요.\n",
    "\n",
    "\n",
    "```python\n",
    "# 예시 데이터\n",
    "text = \"  hello   world  python  \"\n",
    "\n",
    "def count_words(text):\n",
    "    \"\"\"\n",
    "    text: 문자열\n",
    "    반환값: 단어 개수 (int)\n",
    "    \"\"\"\n",
    "    # 여기에 코드를 작성하세요\n",
    "    return\n",
    "\n",
    "# 예시 실행 (제출 시 주석 처리)\n",
    "# print(count_words(text))  # 3```"
   ]
  },
  {
   "cell_type": "code",
   "execution_count": 5,
   "id": "200e0142",
   "metadata": {},
   "outputs": [
    {
     "name": "stdout",
     "output_type": "stream",
     "text": [
      "3\n"
     ]
    }
   ],
   "source": [
    "def count_words(text) :\n",
    "    splited_text = text.split()\n",
    "    return len(splited_text)\n",
    "    \n",
    "\n",
    "# 예시 실행 (제출 시 주석 처리)\n",
    "text = \"  hello   world  python  \"\n",
    "print(count_words(text))  # 3```"
   ]
  },
  {
   "cell_type": "markdown",
   "id": "cc6fd051",
   "metadata": {},
   "source": [
    "\n",
    "## INTERMEDIATE ⭐⭐"
   ]
  },
  {
   "cell_type": "markdown",
   "id": "545d154f",
   "metadata": {},
   "source": [
    "### 문제 3 : 문자열 속 숫자 합 구하기"
   ]
  },
  {
   "cell_type": "markdown",
   "id": "f3ef7edb",
   "metadata": {},
   "source": [
    "📌 **요구 지식:** 문자열, 반복문, 조건문\n",
    "\n",
    "- 배경:</br>로그나 코드 문자열 속에 섞여 있는 숫자 문자(0–9) 들만 뽑아 간단히 합계를 낼 때가 있습니다.\n",
    "\n",
    "- 목표:</br>문자열에서 **숫자 문자(0–9)**만 찾아 **모두 더한 합**을 반환하세요.</br>(연속된 숫자라도 **각 자리수**를 더합니다. 예: `\"23\"` → 2+3=5)\n",
    "\n",
    "\n",
    "```python\n",
    "# ex1. 반환 값 -> 10\n",
    "text = \"a1b23c004\"\n",
    "\n",
    "# ex2. 반환 값 -> 0\n",
    "text = \"Hello\"\n",
    "\n",
    "# ex3. 반환 값 -> 18\n",
    "text = \"9-9=0\"\n",
    "\n",
    "\n",
    "def sum_of_digits(text):\n",
    "    \"\"\"\n",
    "    문자열에서 숫자 문자(0-9)만 찾아 모두 더해 반환.\n",
    "    예) \"a1b23c004\" -> 1+2+3+0+0+4 = 10\n",
    "    \"\"\"\n",
    "    # 여기에 코드를 작성하세요\n",
    "    return\n",
    "\n",
    "# 예시 실행 (제출 시 주석 처리)\n",
    "# print(sum_of_digits(text))  # 10\n",
    "```"
   ]
  },
  {
   "cell_type": "code",
   "execution_count": 6,
   "id": "1e5513c9",
   "metadata": {},
   "outputs": [
    {
     "name": "stdout",
     "output_type": "stream",
     "text": [
      "10\n",
      "0\n",
      "18\n"
     ]
    }
   ],
   "source": [
    "def sum_of_digits(text):\n",
    "    sum = 0\n",
    "    for i in text :\n",
    "        if i.isdigit():\n",
    "            sum += int(i)\n",
    "    return sum\n",
    "\n",
    "\n",
    "\n",
    "text = \"a1b23c004\" # ex1. 반환 값 -> 10\n",
    "text1 = \"Hello\" # ex2. 반환 값 -> 0\n",
    "text2 = \"9-9=0\" # ex3. 반환 값 -> 18\n",
    "# 예시 실행 (제출 시 주석 처리)\n",
    "print(sum_of_digits(text))\n",
    "print(sum_of_digits(text1))\n",
    "print(sum_of_digits(text2))\n"
   ]
  },
  {
   "cell_type": "markdown",
   "id": "c93b6db5",
   "metadata": {},
   "source": [
    "### 문제 4 : 합격/불합격 집계하기"
   ]
  },
  {
   "cell_type": "markdown",
   "id": "8f86ed00",
   "metadata": {},
   "source": [
    "📌 **요구 지식:** -\n",
    "\n",
    "- 배경:</br>학생 점수 데이터에서 기준 점수 이상은 합격, 미만은 불합격으로 분류합니다.\n",
    "\n",
    "- 목표:</br>```{이름: 점수}``` 딕셔너리를 받아 합격/불합격 인원 수를 딕셔너리로 반환하세요. (기본 합격 기준 60점)\n",
    "\n",
    "\n",
    "```python\n",
    "scores = {\"Alice\": 85, \"Bob\": 52, \"Chris\": 60, \"Dana\": 59}\n",
    "\n",
    "def grade_pass_fail(scores, threshold=60):\n",
    "    \"\"\"\n",
    "    반환값 예: {'pass': 2, 'fail': 2}\n",
    "    \"\"\"\n",
    "    # 여기에 코드를 작성하세요\n",
    "    return\n",
    "\n",
    "# 예시 실행 (제출 시 주석 처리)\n",
    "# print(grade_pass_fail(scores))  # {'pass': 2, 'fail': 2}\n",
    "```"
   ]
  },
  {
   "cell_type": "code",
   "execution_count": 62,
   "id": "09ee64cf",
   "metadata": {},
   "outputs": [
    {
     "name": "stdout",
     "output_type": "stream",
     "text": [
      "{'pass': 2, 'fail': 2}\n"
     ]
    }
   ],
   "source": [
    "def grade_pass_fail(scores, threshold=60):\n",
    "    cnt_pass, cnt_fail = 0, 0\n",
    "    \n",
    "    for v in scores.values() :\n",
    "        if v < threshold : \n",
    "            cnt_fail += 1\n",
    "        else : \n",
    "            cnt_pass += 1\n",
    "        \n",
    "    cnt_pass_fail = {\n",
    "        'pass' : cnt_pass,\n",
    "        'fail' : cnt_fail\n",
    "    }\n",
    "    \n",
    "    return cnt_pass_fail\n",
    "\n",
    "#-----------------튜터님 코드-------------------\n",
    "# 최종 딕셔너리를 미리 선언하고\n",
    "# 딕셔너리 속 벨류 값을 +=1 함\n",
    "def grade_pass_fail(scores, threshold=60):\n",
    "    result = {'pass': 0, 'fail': 0}\n",
    "    for _, score in scores.items():\n",
    "        if score >= threshold:\n",
    "            result['pass'] += 1\n",
    "        else:\n",
    "            result['fail'] += 1\n",
    "    return result\n",
    "\n",
    "\n",
    "\n",
    "\n",
    "# 예시 실행 (제출 시 주석 처리)\n",
    "scores = {\"Alice\": 85, \"Bob\": 52, \"Chris\": 60, \"Dana\": 59}\n",
    "scores2 = {\"A\": 60, \"B\": 61, \"C\": 59}\n",
    "scores3 = {\"Low\": -5, \"High\": 105, \"Zero\": 0}\n",
    "print(grade_pass_fail(scores))  # {'pass': 2, 'fail': 2}"
   ]
  },
  {
   "cell_type": "markdown",
   "id": "9db73a4d",
   "metadata": {},
   "source": [
    "### 문제 5 : 입고 반영한 재고 합치기"
   ]
  },
  {
   "cell_type": "markdown",
   "id": "9790b9e9",
   "metadata": {},
   "source": [
    "📌 **요구 지식:** \n",
    "\n",
    "- 배경:</br>현재 재고와 입고 수량을 합쳐 최신 재고를 만듭니다.\n",
    "\n",
    "- 목표:</br>```current```와 ```arrival``` 두 딕셔너리를 받아 상품별 총 재고 딕셔너리를 반환하세요.\n",
    "\n",
    "\n",
    "```python\n",
    "current = {\"apple\": 5, \"banana\": 2, \"milk\": 1}\n",
    "arrival = {\"banana\": 3, \"bread\": 4, \"milk\": 2}\n",
    "\n",
    "def merge_inventory(current, arrival):\n",
    "    \"\"\"\n",
    "    반환값 예: {'apple': 5, 'banana': 5, 'milk': 3, 'bread': 4}\n",
    "    \"\"\"\n",
    "    # 여기에 코드를 작성하세요\n",
    "    return\n",
    "\n",
    "# 예시 실행 (제출 시 주석 처리)\n",
    "# print(merge_inventory(current, arrival)) \n",
    "# {'apple': 5, 'banana': 5, 'milk': 3, 'bread': 4}\n",
    "```"
   ]
  },
  {
   "cell_type": "code",
   "execution_count": 81,
   "id": "22729d61",
   "metadata": {},
   "outputs": [
    {
     "name": "stdout",
     "output_type": "stream",
     "text": [
      "{'apple': 5, 'banana': 5, 'milk': 3, 'bread': 4}\n"
     ]
    }
   ],
   "source": [
    "# 1차 도전 함수\n",
    "# 이중 for문을 돌면서 arrival 딕셔너리에 current 딕셔너리의 key와 같은 key가 있다면,\n",
    "# 해당 value값을 서로 더하는 방식.\n",
    "# XX ---> for문을 도는 와중에 딕셔너리 사이즈 변경이 생겨서 for문에서 에러 발생\n",
    "# def merge_inventory(current, arrival):\n",
    "#     for key_cur in current.keys() :\n",
    "#         for key_arr in arrival.keys() :\n",
    "#             if key_cur == key_arr :\n",
    "#                 current[key_cur] += arrival[key_arr]\n",
    "#             else :\n",
    "#                 current[key_arr] = arrival[key_arr]\n",
    "#     return current\n",
    "#--------------------------------------------------------------------\n",
    "# 2차 도전 함수\n",
    "# current를 카피한 제3의 딕셔너리를 생성해서 추가하는 방식.\n",
    "# XX ---> latest = current 을 해버리니 주소값까지 같음 (id()로 확인함)\n",
    "# def merge_inventory(current, arrival):\n",
    "#     latest = current\n",
    "#     for key_cur in current.keys() :\n",
    "#         for key_arr in arrival.keys() :\n",
    "#             if key_cur == key_arr :\n",
    "#                 latest[key_cur] += arrival[key_arr]\n",
    "#             else :\n",
    "#                 latest[key_arr] = arrival[key_arr]\n",
    "#     return latest\n",
    "#--------------------------------------------------------------------\n",
    "# 3차 도전 함수\n",
    "# .copy(), .get() \n",
    "\n",
    "def merge_inventory(current, arrival):\n",
    "    latest = current.copy()\n",
    "    for key in arrival.keys() :\n",
    "        latest[key] = current.get(key,0) + arrival.get(key,0)\n",
    "    return latest\n",
    "\n",
    "#-----------------튜터님 코드(쉬운 버전)-------------------\n",
    "def merge_inventory1(current, arrival):\n",
    "    result = current.copy() # current에는 있꼬 arrival에는 없는 놈은 copy했기 때문에 만족\n",
    "    for k, v in arrival.items():\n",
    "        if k in result :    # current와 arrival에 동일한 key가 있다면\n",
    "            result[k] += v  # 둘의 value를 더함\n",
    "        else :   # arrival에는 있고 current에는 없는 key \n",
    "            result[k] = v   # arrival의 value값을 result에 추가\n",
    "    return result\n",
    "\n",
    "#-----------------튜터님 코드(정답 버전)-------------------\n",
    "# 제3의 딕셔너리가 current 딕셔너리를 카피하지 않음\n",
    "def merge_inventory(current, arrival):\n",
    "    total = {}\n",
    "    for k, v in current.items():\n",
    "        total[k] = total.get(k, 0) + v\n",
    "    for k, v in arrival.items():\n",
    "        total[k] = total.get(k, 0) + v\n",
    "    return total\n",
    "\n",
    "# 예시 실행 (제출 시 주석 처리)\n",
    "current = {\"apple\": 5, \"banana\": 2, \"milk\": 1}\n",
    "arrival = {\"banana\": 3, \"bread\": 4, \"milk\": 2}\n",
    "print(merge_inventory(current, arrival)) # {'apple': 5, 'banana': 5, 'milk': 3, 'bread': 4}"
   ]
  },
  {
   "cell_type": "markdown",
   "id": "5f8f547d",
   "metadata": {},
   "source": [
    "\n",
    "## CHALLENGE ⭐⭐⭐"
   ]
  },
  {
   "cell_type": "markdown",
   "id": "13340fbd",
   "metadata": {},
   "source": [
    "### 문제 6 : 두 수의 합(인덱스 반환)"
   ]
  },
  {
   "cell_type": "markdown",
   "id": "3128a8e2",
   "metadata": {},
   "source": [
    "📌 **요구 지식:** 딕셔너리, 반복문, 조건문\n",
    "\n",
    "- 배경:</br>목표 합을 만드는 두 원소의 인덱스를 빠르게 찾는 패턴 연습입니다.\n",
    "\n",
    "- 목표:</br>정수 리스트 ```nums```와 정수 ```target```이 주어질 때, 합이 target이 되는 서로 다른 두 인덱스를 ```(i, j)```로 반환하세요. (없으면 ```(-1, -1)```)\n",
    "\n",
    "\n",
    "```python\n",
    "# ex1. 반환 값 (0,1)\n",
    "nums = [2, 7, 11, 15]\n",
    "target = 9\n",
    "\n",
    "# ex2. 반환 값 (-1, -1)\n",
    "nums = [2, 7, 11, 15]\n",
    "target = 10\n",
    "\n",
    "def two_sum(nums, target):\n",
    "    \"\"\"\n",
    "    반환값 예: (0, 1)  # nums[0] + nums[1] = 9\n",
    "    \"\"\"\n",
    "    # 여기에 코드를 작성하세요\n",
    "    return\n",
    "\n",
    "# 예시 실행 (제출 시 주석 처리)\n",
    "# print(two_sum(nums, target))\n",
    "```"
   ]
  },
  {
   "cell_type": "code",
   "execution_count": 73,
   "id": "646947ec",
   "metadata": {},
   "outputs": [
    {
     "name": "stdout",
     "output_type": "stream",
     "text": [
      "(0, 1)\n",
      "(0, 3)\n",
      "(0, 1)\n",
      "(0, 2)\n",
      "(1, 2)\n"
     ]
    }
   ],
   "source": [
    "# 풀이1. 이중 반복문 \n",
    "# def two_sum(nums, target) :\n",
    "#     for i in range(len(nums)) :\n",
    "#         for j in range(i+1,len(nums)) :\n",
    "#             if nums[i] + nums[j] == target :\n",
    "#                 factors = (i, j)\n",
    "#                 return factors\n",
    "#     factors = (-1,-1)\n",
    "#     return factors\n",
    "#--------------------------------------------------------------------            \n",
    "# 풀이2. 희망 숫자 in 리스트\n",
    "# def two_sum(nums, target) :\n",
    "#     for i in range(len(nums)) :\n",
    "#         hope = target - nums[i]\n",
    "#         if hope in nums[i+1:]:\n",
    "#             factors = (i, nums.index(hope, i+1))\n",
    "#             return factors\n",
    "#     factors = (-1, -1)\n",
    "#     return factors\n",
    "#--------------------------------------------------------------------\n",
    "# 풀이3. 희망 숫자 in 리스트(enumerate.ver)\n",
    "# def two_sum(nums, target) :\n",
    "#     for k, v in enumerate(nums): \n",
    "#         hope = target - v\n",
    "#         if hope in nums[k+1:]:\n",
    "#             factors = (k, nums.index(hope, k+1))\n",
    "#             return factors\n",
    "#         actors = (-1, -1)\n",
    "#--------------------------------------------------------------------       \n",
    "# 풀이4. 딕셔너리{value(리스트값) : index(인덱스)}\n",
    "# 지피티 도움 받음...\n",
    "def two_sum(nums, target) :\n",
    "    save = {}\n",
    "    for i, v in enumerate(nums) :\n",
    "        hope = target - v\n",
    "        if hope in save :\n",
    "            return save[hope], i\n",
    "        if v not in save :\n",
    "            save[v] = i\n",
    "    return -1, -1\n",
    "\n",
    "\n",
    "# 예시 실행 (제출 시 주석 처리)\n",
    "nums = [2, 7, 11, 15]\n",
    "target = 9\n",
    "\n",
    "print(two_sum(nums, target))    # (0,1)\n",
    "print(two_sum([0, 4, 3, 0], 0)) # (0,3)\n",
    "print(two_sum([5, 5, 1], 10))   # (0,2)\n",
    "print(two_sum([1, 3, 1, 2, 1], 2))  # (0,2)\n",
    "print(two_sum([10**6, 3, 10**6-3], 10**6))  # (1, 2)\n"
   ]
  },
  {
   "cell_type": "markdown",
   "id": "a27d9f7d",
   "metadata": {},
   "source": [
    "### 문제 7 : 이동 평균 구하기(슬라이딩 윈도우)"
   ]
  },
  {
   "cell_type": "markdown",
   "id": "4caa94ab",
   "metadata": {},
   "source": [
    "📌 **요구 지식:** 리스트, 반복문, 누적합(슬라이딩 윈도우)\n",
    "\n",
    "- 배경:</br>시계열에서 일정 구간의 평균을 구해 노이즈를 줄입니다.\n",
    "\n",
    "- 목표:</br>정수 리스트 data와 윈도우 크기 k가 주어질 때, 길이 k의 구간 평균 리스트를 반환하세요.</br>(각 평균은 소수 둘째 자리 반올림)\n",
    "\n",
    "\n",
    "```python\n",
    "data = [10, 20, 30, 40, 50]\n",
    "k = 3\n",
    "\n",
    "def moving_average(data, k):\n",
    "    \"\"\"\n",
    "    반환값 예: [20.0, 30.0, 40.0]\n",
    "    \"\"\"\n",
    "    # 여기에 코드를 작성하세요\n",
    "    return\n",
    "\n",
    "# 예시 실행 (제출 시 주석 처리)\n",
    "# print(moving_average(data, k))  # [20.0, 30.0, 40.0]\n",
    "```"
   ]
  },
  {
   "cell_type": "code",
   "execution_count": 78,
   "id": "1c656f63",
   "metadata": {},
   "outputs": [
    {
     "name": "stdout",
     "output_type": "stream",
     "text": [
      "[20.0, 30.0, 40.0]\n",
      "[]\n",
      "[5.0, 7.0, 9.0]\n",
      "[-1.5, -2.5, -3.5]\n",
      "[0.0, 5.0, 15.0]\n"
     ]
    }
   ],
   "source": [
    "def moving_average(data, k):\n",
    "    segment_avg = []\n",
    "    avg = 0\n",
    "    if k <= 0 or k > len(data): return segment_avg # 예외 처리\n",
    "    else :\n",
    "        for i in range(len(data)-k+1) :\n",
    "            avg = round((sum(data[i:(i+k)]) / k), 1)\n",
    "            segment_avg.append(avg)\n",
    "    return segment_avg\n",
    "\n",
    "\n",
    "#-----------------튜터님 코드(쉬운 버전)-------------------\n",
    "def moving_average(data, k):\n",
    "    n = len(data)\n",
    "    if k <= 0 or k > n:\n",
    "        return []\n",
    "    res = []\n",
    "    window_sum = sum(data[:k])\n",
    "    res.append(round(window_sum / k, 2))\n",
    "    for i in range(k, n):\n",
    "        window_sum += data[i] - data[i - k] # 한 칸씩 전진(앞 꺼 더하고, 뒤 꺼 빼고)\n",
    "        res.append(round(window_sum / k, 2))\n",
    "    return res\n",
    "\n",
    "\n",
    "\n",
    "# 예시 실행 (제출 시 주석 처리)\n",
    "data = [10, 20, 30, 40, 50]\n",
    "k = 3\n",
    "print(moving_average(data, k))  # [20.0, 30.0, 40.0]\n",
    "print(moving_average([1, 2, 3], 0) )   # []\n",
    "print(moving_average([5, 7, 9], 1))    # [5.0, 7.0, 9.0]\n",
    "print(moving_average([-1, -2, -3, -4], 2)) # [-1.5, -2.5, -3.5]\n",
    "print(moving_average([0, 0, 10, 20], 2))   # [0.0, 5.0, 15.0]"
   ]
  },
  {
   "cell_type": "markdown",
   "id": "17a5dddb",
   "metadata": {},
   "source": [
    "### 문제 8 : 숫자 구간 압축하기"
   ]
  },
  {
   "cell_type": "markdown",
   "id": "2df27664",
   "metadata": {},
   "source": [
    "📌 **요구 지식:** 리스트, 반복문, 조건문, 문자열 조합\n",
    "\n",
    "- 배경:</br>로그의 라인 번호나 주문 ID처럼 연속된 숫자 구간을 짧게 표현합니다.\n",
    "\n",
    "- 목표:</br>오름차순 정렬된 서로 다른 정수 리스트가 주어졌을 때, </br>연속 구간은 a-b, 단일 값은 a로 표현하여 \",\"로 연결한 문자열을 반환하세요.\n",
    "\n",
    "- 제한사항:</br>입력 리스트는 오름차순이며 중복이 없습니다.\n",
    "\n",
    "\n",
    "```python\n",
    "nums = [1, 2, 3, 5, 7, 8, 9]\n",
    "def compress_ranges(nums):\n",
    "    \"\"\"\n",
    "    반환값 예: \"1-3,5,7-9\"\n",
    "    \"\"\"\n",
    "    # 여기에 코드를 작성하세요\n",
    "    return\n",
    "\n",
    "# 예시 실행 (제출 시 주석 처리)\n",
    "# print(compress_ranges(nums))  # \"1-3,5,7-9\"\n",
    "```"
   ]
  },
  {
   "cell_type": "code",
   "execution_count": 9,
   "id": "e5585813",
   "metadata": {},
   "outputs": [
    {
     "name": "stdout",
     "output_type": "stream",
     "text": [
      "1-3,5,7-9\n"
     ]
    }
   ],
   "source": [
    "def compress_ranges(nums):\n",
    "    \n",
    "    if len(nums) == 0 : # 예외처리\n",
    "        return\n",
    "    \n",
    "    # if not nums :     # 예외처리 방법2\n",
    "    #     return\n",
    "    \n",
    "    start = nums[0]\n",
    "    end =nums[0]\n",
    "    save =[]\n",
    "    \n",
    "    for i in range(1,len(nums)) :\n",
    "        if nums[i] == nums[i-1] + 1 :\n",
    "            end = nums[i]\n",
    "        else :\n",
    "            if end == start :\n",
    "                segment = f\"{end}\"\n",
    "            else :\n",
    "                segment = f\"{start}-{end}\"\n",
    "            save.append(segment)\n",
    "            \n",
    "            start = nums[i]\n",
    "            end = nums[i]\n",
    "\n",
    "    if end == start :\n",
    "        segment = f\"{end}\"\n",
    "    else :\n",
    "        segment = f\"{start}-{end}\"\n",
    "    save.append(segment)\n",
    "    \n",
    "    result = \",\".join(save)\n",
    "    return result\n",
    "\n",
    "nums = [1, 2, 3, 5, 7, 8, 9] # len(nums) = 7\n",
    "# 예시 실행 (제출 시 주석 처리)\n",
    "print(compress_ranges(nums))  # \"1-3,5,7-9\"\n"
   ]
  }
 ],
 "metadata": {
  "kernelspec": {
   "display_name": "Python 3",
   "language": "python",
   "name": "python3"
  },
  "language_info": {
   "codemirror_mode": {
    "name": "ipython",
    "version": 3
   },
   "file_extension": ".py",
   "mimetype": "text/x-python",
   "name": "python",
   "nbconvert_exporter": "python",
   "pygments_lexer": "ipython3",
   "version": "3.10.10"
  }
 },
 "nbformat": 4,
 "nbformat_minor": 5
}
