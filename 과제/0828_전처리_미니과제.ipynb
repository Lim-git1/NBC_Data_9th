{
 "cells": [
  {
   "cell_type": "markdown",
   "id": "bfacce22",
   "metadata": {},
   "source": [
    "# 개요\n",
    "- 참고 자료를 보셔도 좋지만, 코드 이해뿐만 아니라 데이터 전처리 처리에 대한 순서 / 법칙을 이해하면서 작성합시다!\n",
    "- 코드에 대한 다양한 도전을 합시다 :) \n",
    "- 원본 데이터 : https://www.kaggle.com/datasets/fedesoriano/stroke-prediction-dataset/data"
   ]
  },
  {
   "cell_type": "markdown",
   "id": "d967b205",
   "metadata": {},
   "source": [
    "## 문제 1: 데이터 불러오기와 크기 확인\n",
    "뇌졸중 예측 데이터셋 CSV 파일을 pandas를 사용하여 불러오고, 데이터프레임의 크기(행과 열의 개수)를 출력하는 코드를 작성하세요. (힌트: pd.read_csv 함수를 사용합니다.)"
   ]
  },
  {
   "cell_type": "code",
   "execution_count": 7,
   "id": "1e266f0e",
   "metadata": {},
   "outputs": [
    {
     "data": {
      "text/plain": [
       "(5110, 12)"
      ]
     },
     "execution_count": 7,
     "metadata": {},
     "output_type": "execute_result"
    }
   ],
   "source": [
    "import pandas as pd\n",
    "stroke_df = pd.read_csv('../data/stroke-data.csv')\n",
    "stroke_df.shape"
   ]
  },
  {
   "cell_type": "markdown",
   "id": "6771ba02",
   "metadata": {},
   "source": [
    "## 문제 2: 데이터 미리보기 (앞부분 확인)\n",
    "데이터가 잘 불러와졌는지 확인하기 위해 데이터프레임의 처음 5행을 출력하는 코드를 작성하세요. 이때 데이터의 각 열 이름도 함께 확인해보세요. 그리고 각 열의 의미를 적어보세요!  \n",
    "그리고 특정 열이 어떤 값이 있는지 확인해보세요! (특정열.unique() 사용)"
   ]
  },
  {
   "cell_type": "code",
   "execution_count": 8,
   "id": "d39e71c7",
   "metadata": {},
   "outputs": [
    {
     "data": {
      "text/html": [
       "<div>\n",
       "<style scoped>\n",
       "    .dataframe tbody tr th:only-of-type {\n",
       "        vertical-align: middle;\n",
       "    }\n",
       "\n",
       "    .dataframe tbody tr th {\n",
       "        vertical-align: top;\n",
       "    }\n",
       "\n",
       "    .dataframe thead th {\n",
       "        text-align: right;\n",
       "    }\n",
       "</style>\n",
       "<table border=\"1\" class=\"dataframe\">\n",
       "  <thead>\n",
       "    <tr style=\"text-align: right;\">\n",
       "      <th></th>\n",
       "      <th>id</th>\n",
       "      <th>gender</th>\n",
       "      <th>age</th>\n",
       "      <th>hypertension</th>\n",
       "      <th>heart_disease</th>\n",
       "      <th>ever_married</th>\n",
       "      <th>work_type</th>\n",
       "      <th>Residence_type</th>\n",
       "      <th>avg_glucose_level</th>\n",
       "      <th>bmi</th>\n",
       "      <th>smoking_status</th>\n",
       "      <th>stroke</th>\n",
       "    </tr>\n",
       "  </thead>\n",
       "  <tbody>\n",
       "    <tr>\n",
       "      <th>0</th>\n",
       "      <td>9046</td>\n",
       "      <td>Male</td>\n",
       "      <td>67.0</td>\n",
       "      <td>0</td>\n",
       "      <td>1</td>\n",
       "      <td>Yes</td>\n",
       "      <td>Private</td>\n",
       "      <td>Urban</td>\n",
       "      <td>228.69</td>\n",
       "      <td>36.6</td>\n",
       "      <td>formerly smoked</td>\n",
       "      <td>1</td>\n",
       "    </tr>\n",
       "    <tr>\n",
       "      <th>1</th>\n",
       "      <td>51676</td>\n",
       "      <td>Female</td>\n",
       "      <td>61.0</td>\n",
       "      <td>0</td>\n",
       "      <td>0</td>\n",
       "      <td>Yes</td>\n",
       "      <td>Self-employed</td>\n",
       "      <td>Rural</td>\n",
       "      <td>202.21</td>\n",
       "      <td>NaN</td>\n",
       "      <td>never smoked</td>\n",
       "      <td>1</td>\n",
       "    </tr>\n",
       "    <tr>\n",
       "      <th>2</th>\n",
       "      <td>31112</td>\n",
       "      <td>Male</td>\n",
       "      <td>80.0</td>\n",
       "      <td>0</td>\n",
       "      <td>1</td>\n",
       "      <td>Yes</td>\n",
       "      <td>Private</td>\n",
       "      <td>Rural</td>\n",
       "      <td>105.92</td>\n",
       "      <td>32.5</td>\n",
       "      <td>never smoked</td>\n",
       "      <td>1</td>\n",
       "    </tr>\n",
       "    <tr>\n",
       "      <th>3</th>\n",
       "      <td>60182</td>\n",
       "      <td>Female</td>\n",
       "      <td>49.0</td>\n",
       "      <td>0</td>\n",
       "      <td>0</td>\n",
       "      <td>Yes</td>\n",
       "      <td>Private</td>\n",
       "      <td>Urban</td>\n",
       "      <td>171.23</td>\n",
       "      <td>34.4</td>\n",
       "      <td>smokes</td>\n",
       "      <td>1</td>\n",
       "    </tr>\n",
       "    <tr>\n",
       "      <th>4</th>\n",
       "      <td>1665</td>\n",
       "      <td>Female</td>\n",
       "      <td>79.0</td>\n",
       "      <td>1</td>\n",
       "      <td>0</td>\n",
       "      <td>Yes</td>\n",
       "      <td>Self-employed</td>\n",
       "      <td>Rural</td>\n",
       "      <td>174.12</td>\n",
       "      <td>24.0</td>\n",
       "      <td>never smoked</td>\n",
       "      <td>1</td>\n",
       "    </tr>\n",
       "    <tr>\n",
       "      <th>...</th>\n",
       "      <td>...</td>\n",
       "      <td>...</td>\n",
       "      <td>...</td>\n",
       "      <td>...</td>\n",
       "      <td>...</td>\n",
       "      <td>...</td>\n",
       "      <td>...</td>\n",
       "      <td>...</td>\n",
       "      <td>...</td>\n",
       "      <td>...</td>\n",
       "      <td>...</td>\n",
       "      <td>...</td>\n",
       "    </tr>\n",
       "    <tr>\n",
       "      <th>5105</th>\n",
       "      <td>18234</td>\n",
       "      <td>Female</td>\n",
       "      <td>80.0</td>\n",
       "      <td>1</td>\n",
       "      <td>0</td>\n",
       "      <td>Yes</td>\n",
       "      <td>Private</td>\n",
       "      <td>Urban</td>\n",
       "      <td>83.75</td>\n",
       "      <td>NaN</td>\n",
       "      <td>never smoked</td>\n",
       "      <td>0</td>\n",
       "    </tr>\n",
       "    <tr>\n",
       "      <th>5106</th>\n",
       "      <td>44873</td>\n",
       "      <td>Female</td>\n",
       "      <td>81.0</td>\n",
       "      <td>0</td>\n",
       "      <td>0</td>\n",
       "      <td>Yes</td>\n",
       "      <td>Self-employed</td>\n",
       "      <td>Urban</td>\n",
       "      <td>125.20</td>\n",
       "      <td>40.0</td>\n",
       "      <td>never smoked</td>\n",
       "      <td>0</td>\n",
       "    </tr>\n",
       "    <tr>\n",
       "      <th>5107</th>\n",
       "      <td>19723</td>\n",
       "      <td>Female</td>\n",
       "      <td>35.0</td>\n",
       "      <td>0</td>\n",
       "      <td>0</td>\n",
       "      <td>Yes</td>\n",
       "      <td>Self-employed</td>\n",
       "      <td>Rural</td>\n",
       "      <td>82.99</td>\n",
       "      <td>30.6</td>\n",
       "      <td>never smoked</td>\n",
       "      <td>0</td>\n",
       "    </tr>\n",
       "    <tr>\n",
       "      <th>5108</th>\n",
       "      <td>37544</td>\n",
       "      <td>Male</td>\n",
       "      <td>51.0</td>\n",
       "      <td>0</td>\n",
       "      <td>0</td>\n",
       "      <td>Yes</td>\n",
       "      <td>Private</td>\n",
       "      <td>Rural</td>\n",
       "      <td>166.29</td>\n",
       "      <td>25.6</td>\n",
       "      <td>formerly smoked</td>\n",
       "      <td>0</td>\n",
       "    </tr>\n",
       "    <tr>\n",
       "      <th>5109</th>\n",
       "      <td>44679</td>\n",
       "      <td>Female</td>\n",
       "      <td>44.0</td>\n",
       "      <td>0</td>\n",
       "      <td>0</td>\n",
       "      <td>Yes</td>\n",
       "      <td>Govt_job</td>\n",
       "      <td>Urban</td>\n",
       "      <td>85.28</td>\n",
       "      <td>26.2</td>\n",
       "      <td>Unknown</td>\n",
       "      <td>0</td>\n",
       "    </tr>\n",
       "  </tbody>\n",
       "</table>\n",
       "<p>5110 rows × 12 columns</p>\n",
       "</div>"
      ],
      "text/plain": [
       "         id  gender   age  hypertension  heart_disease ever_married  \\\n",
       "0      9046    Male  67.0             0              1          Yes   \n",
       "1     51676  Female  61.0             0              0          Yes   \n",
       "2     31112    Male  80.0             0              1          Yes   \n",
       "3     60182  Female  49.0             0              0          Yes   \n",
       "4      1665  Female  79.0             1              0          Yes   \n",
       "...     ...     ...   ...           ...            ...          ...   \n",
       "5105  18234  Female  80.0             1              0          Yes   \n",
       "5106  44873  Female  81.0             0              0          Yes   \n",
       "5107  19723  Female  35.0             0              0          Yes   \n",
       "5108  37544    Male  51.0             0              0          Yes   \n",
       "5109  44679  Female  44.0             0              0          Yes   \n",
       "\n",
       "          work_type Residence_type  avg_glucose_level   bmi   smoking_status  \\\n",
       "0           Private          Urban             228.69  36.6  formerly smoked   \n",
       "1     Self-employed          Rural             202.21   NaN     never smoked   \n",
       "2           Private          Rural             105.92  32.5     never smoked   \n",
       "3           Private          Urban             171.23  34.4           smokes   \n",
       "4     Self-employed          Rural             174.12  24.0     never smoked   \n",
       "...             ...            ...                ...   ...              ...   \n",
       "5105        Private          Urban              83.75   NaN     never smoked   \n",
       "5106  Self-employed          Urban             125.20  40.0     never smoked   \n",
       "5107  Self-employed          Rural              82.99  30.6     never smoked   \n",
       "5108        Private          Rural             166.29  25.6  formerly smoked   \n",
       "5109       Govt_job          Urban              85.28  26.2          Unknown   \n",
       "\n",
       "      stroke  \n",
       "0          1  \n",
       "1          1  \n",
       "2          1  \n",
       "3          1  \n",
       "4          1  \n",
       "...      ...  \n",
       "5105       0  \n",
       "5106       0  \n",
       "5107       0  \n",
       "5108       0  \n",
       "5109       0  \n",
       "\n",
       "[5110 rows x 12 columns]"
      ]
     },
     "metadata": {},
     "output_type": "display_data"
    }
   ],
   "source": [
    "stroke_df.head() # 방법1\n",
    "\n",
    "display(stroke_df)  # 방법2"
   ]
  },
  {
   "cell_type": "code",
   "execution_count": 29,
   "id": "72ac733f",
   "metadata": {},
   "outputs": [
    {
     "data": {
      "text/plain": [
       "array([228.69, 202.21, 105.92, ...,  82.99, 166.29,  85.28], shape=(3979,))"
      ]
     },
     "execution_count": 29,
     "metadata": {},
     "output_type": "execute_result"
    }
   ],
   "source": [
    "stroke_df['avg_glucose_level'].unique()"
   ]
  },
  {
   "cell_type": "raw",
   "id": "3fcda12e",
   "metadata": {
    "vscode": {
     "languageId": "raw"
    }
   },
   "source": [
    "id :                환자 식별 번로   array([ 9046, 51676, 31112, ..., 19723, 37544, 44679], shape=(5110,))\n",
    "gender :            성별            array(['Male', 'Female', 'Other'], dtype=object)\n",
    "age :               나이            array([6.70e+01, 6.10e+01, ... , 4.80e-01, 1.60e-01])\n",
    "hypertension :      *고혈압 휴무      array([0, 1])\n",
    "heart_disease :     심장병 유무       array([1, 0])\n",
    "ever_married :      기혼유무         array(['Yes', 'No'], dtype=object)\n",
    "work_type :         직업유형         array(['Private', 'Self-employed', 'Govt_job', 'children', 'Never_worked'], dtype=object)\n",
    "Residence_type:     거주지 유형       array(['Urban', 'Rural'], dtype=object)\n",
    "avg_glucose_level : *혈중 평균 포도당  array([228.69, 202.21, ..., 166.29,  85.28], shape=(3979,))\n",
    "bmi :               bmi지수         array([36.6,  nan, 32.5, ..., 54.1, 14.9]) \n",
    "smoking_status :    흡연 상태        array(['formerly smoked', 'never smoked', 'smokes', 'Unknown'], dtype=object)\n",
    "stroke :            뇌졸중           array([1, 0])\n",
    "\n",
    "*은 캐글 참고"
   ]
  },
  {
   "cell_type": "markdown",
   "id": "8da740e1",
   "metadata": {},
   "source": [
    "## 문제 3: 데이터 정보 확인 (데이터 타입과 결측값)\n",
    "데이터프레임의 각 열에 대한 요약 정보를 출력하는 코드를 작성하세요. 이를 통해 각 열의 데이터 타입(dtype)과 누락된 값(null/결측값) 개수를 확인해보세요. (힌트: DataFrame.info() 메서드를 사용합니다.)"
   ]
  },
  {
   "cell_type": "code",
   "execution_count": 33,
   "id": "4aad61ba",
   "metadata": {},
   "outputs": [
    {
     "name": "stdout",
     "output_type": "stream",
     "text": [
      "<class 'pandas.core.series.Series'>\n",
      "RangeIndex: 5110 entries, 0 to 5109\n",
      "Series name: bmi\n",
      "Non-Null Count  Dtype  \n",
      "--------------  -----  \n",
      "4909 non-null   float64\n",
      "dtypes: float64(1)\n",
      "memory usage: 40.0 KB\n"
     ]
    }
   ],
   "source": [
    "stroke_df['bmi'].info()"
   ]
  },
  {
   "cell_type": "markdown",
   "id": "f4aad627",
   "metadata": {},
   "source": [
    "## 문제 3-1: 데이터 정보 확인 (특정 컬럼 값 분포 확인)\n",
    "hypertension, ever_married, avg_glucose_level, stroke 열의 값 분포를 확인하세요! (힌트: value_counts() 메서드를 사용합니다.)"
   ]
  },
  {
   "cell_type": "code",
   "execution_count": 37,
   "id": "d00b23d5",
   "metadata": {},
   "outputs": [
    {
     "data": {
      "text/plain": [
       "hypertension\n",
       "0    4612\n",
       "1     498\n",
       "Name: count, dtype: int64"
      ]
     },
     "execution_count": 37,
     "metadata": {},
     "output_type": "execute_result"
    }
   ],
   "source": [
    "stroke_df['hypertension'].value_counts()"
   ]
  },
  {
   "cell_type": "markdown",
   "id": "99cc2c7f",
   "metadata": {},
   "source": [
    "## 문제 4: 결측값 개수 확인\n",
    "각 열별로 결측값(null)이 몇 개인지 합계로 확인하려 합니다. 이를 계산하는 코드를 작성하세요. (힌트: isnull() 또는 isna()와 sum() 함수를 활용합니다.)"
   ]
  },
  {
   "cell_type": "code",
   "execution_count": 9,
   "id": "4bcd4610",
   "metadata": {},
   "outputs": [
    {
     "data": {
      "text/plain": [
       "np.int64(201)"
      ]
     },
     "execution_count": 9,
     "metadata": {},
     "output_type": "execute_result"
    }
   ],
   "source": [
    "#stroke_df['id'].isnull().sum()\n",
    "stroke_df['bmi'].isna().sum()"
   ]
  },
  {
   "cell_type": "markdown",
   "id": "cf96d0c3",
   "metadata": {},
   "source": [
    "## 문제 5: id 열 삭제하기\n",
    "id 열은 각 환자를 식별하기 위한 고유 식별자일 뿐, 예측 모델링에는 필요하지 않은 정보입니다. 데이터프레임에서 id 열을 제거하는 코드를 작성하세요."
   ]
  },
  {
   "cell_type": "code",
   "execution_count": 45,
   "id": "bf7ffa6f",
   "metadata": {},
   "outputs": [
    {
     "name": "stdout",
     "output_type": "stream",
     "text": [
      "      gender   age  hypertension  heart_disease ever_married      work_type  \\\n",
      "0       Male  67.0             0              1          Yes        Private   \n",
      "1     Female  61.0             0              0          Yes  Self-employed   \n",
      "2       Male  80.0             0              1          Yes        Private   \n",
      "3     Female  49.0             0              0          Yes        Private   \n",
      "4     Female  79.0             1              0          Yes  Self-employed   \n",
      "...      ...   ...           ...            ...          ...            ...   \n",
      "5105  Female  80.0             1              0          Yes        Private   \n",
      "5106  Female  81.0             0              0          Yes  Self-employed   \n",
      "5107  Female  35.0             0              0          Yes  Self-employed   \n",
      "5108    Male  51.0             0              0          Yes        Private   \n",
      "5109  Female  44.0             0              0          Yes       Govt_job   \n",
      "\n",
      "     Residence_type  avg_glucose_level   bmi   smoking_status  stroke  \n",
      "0             Urban             228.69  36.6  formerly smoked       1  \n",
      "1             Rural             202.21   NaN     never smoked       1  \n",
      "2             Rural             105.92  32.5     never smoked       1  \n",
      "3             Urban             171.23  34.4           smokes       1  \n",
      "4             Rural             174.12  24.0     never smoked       1  \n",
      "...             ...                ...   ...              ...     ...  \n",
      "5105          Urban              83.75   NaN     never smoked       0  \n",
      "5106          Urban             125.20  40.0     never smoked       0  \n",
      "5107          Rural              82.99  30.6     never smoked       0  \n",
      "5108          Rural             166.29  25.6  formerly smoked       0  \n",
      "5109          Urban              85.28  26.2          Unknown       0  \n",
      "\n",
      "[5110 rows x 11 columns]\n"
     ]
    }
   ],
   "source": [
    "print(stroke_df.drop(columns=['id']))"
   ]
  },
  {
   "cell_type": "markdown",
   "id": "febbe352",
   "metadata": {},
   "source": [
    "## 문제 6: BMI 결측값 처리 (중앙값 대체)\n",
    "bmi 열에 존재하는 201개의 결측값을 어떻게 처리할지 결정해야 합니다. 이번에는 중앙값(median)을 사용하여 이 결측치를 채우려고 합니다. bmi 열의 중앙값을 계산하고, 그 값으로 결측값들을 채우는 코드를 작성하세요."
   ]
  },
  {
   "cell_type": "code",
   "execution_count": 55,
   "id": "188ed74d",
   "metadata": {},
   "outputs": [
    {
     "name": "stdout",
     "output_type": "stream",
     "text": [
      "0       36.6\n",
      "1        NaN\n",
      "2       32.5\n",
      "3       34.4\n",
      "4       24.0\n",
      "        ... \n",
      "5105     NaN\n",
      "5106    40.0\n",
      "5107    30.6\n",
      "5108    25.6\n",
      "5109    26.2\n",
      "Name: bmi, Length: 5110, dtype: float64\n",
      "201\n",
      "------------------------------------------\n",
      "0       36.6\n",
      "1       28.1\n",
      "2       32.5\n",
      "3       34.4\n",
      "4       24.0\n",
      "        ... \n",
      "5105    28.1\n",
      "5106    40.0\n",
      "5107    30.6\n",
      "5108    25.6\n",
      "5109    26.2\n",
      "Name: bmi, Length: 5110, dtype: float64\n",
      "0\n"
     ]
    }
   ],
   "source": [
    "stroke_df['bmi'].isnull().sum()\n",
    "\n",
    "stroke_df['bmi'].describe()\n",
    "\n",
    "stroke_df['bmi'].median()\n",
    "\n",
    "print(stroke_df['bmi'])\n",
    "print(stroke_df['bmi'].isnull().sum())\n",
    "print(\"------------------------------------------\")\n",
    "print(stroke_df['bmi'].fillna(stroke_df['bmi'].median()))\n",
    "print(stroke_df['bmi'].fillna(stroke_df['bmi'].median()).isnull().sum())"
   ]
  },
  {
   "cell_type": "markdown",
   "id": "5c1986ab",
   "metadata": {},
   "source": [
    "## 문제 7: 행 삭제(drop) 연습\n",
    "bmi 값이 결측치(NaN) 이거나, bmi < 10 또는 bmi > 80인 행은 잘못된 데이터라고 가정합시다.  \n",
    "이런 행들을 제거한 새로운 데이터프레임 df_clean을 만드세요. (원본 df는 그대로 둡니다.)  \n",
    "제거 전/후 행 개수를 비교해서 출력해보세요.  "
   ]
  },
  {
   "cell_type": "code",
   "execution_count": null,
   "id": "85064a73",
   "metadata": {},
   "outputs": [
    {
     "ename": "ValueError",
     "evalue": "The truth value of a Series is ambiguous. Use a.empty, a.bool(), a.item(), a.any() or a.all().",
     "output_type": "error",
     "traceback": [
      "\u001b[0;31m---------------------------------------------------------------------------\u001b[0m",
      "\u001b[0;31mValueError\u001b[0m                                Traceback (most recent call last)",
      "\u001b[0;32m/var/folders/mt/b5bzczgn14s85rhfsvnlr33h0000gn/T/ipykernel_46375/4167802376.py\u001b[0m in \u001b[0;36m?\u001b[0;34m()\u001b[0m\n\u001b[1;32m      1\u001b[0m \u001b[0mstroke_df\u001b[0m\u001b[0;34m.\u001b[0m\u001b[0mdropna\u001b[0m\u001b[0;34m(\u001b[0m\u001b[0msubset\u001b[0m\u001b[0;34m=\u001b[0m\u001b[0;34m[\u001b[0m\u001b[0;34m'bmi'\u001b[0m\u001b[0;34m]\u001b[0m\u001b[0;34m)\u001b[0m\u001b[0;34m\u001b[0m\u001b[0;34m\u001b[0m\u001b[0m\n\u001b[1;32m      2\u001b[0m \u001b[0;34m\u001b[0m\u001b[0m\n\u001b[0;32m----> 3\u001b[0;31m \u001b[0mstroke_df\u001b[0m\u001b[0;34m.\u001b[0m\u001b[0mdrop\u001b[0m\u001b[0;34m(\u001b[0m\u001b[0mstroke_df\u001b[0m\u001b[0;34m[\u001b[0m\u001b[0;34m'bmi'\u001b[0m\u001b[0;34m]\u001b[0m\u001b[0;34m<\u001b[0m\u001b[0;36m10\u001b[0m \u001b[0;32mor\u001b[0m \u001b[0mstroke_df\u001b[0m\u001b[0;34m[\u001b[0m\u001b[0;34m'bmi'\u001b[0m\u001b[0;34m]\u001b[0m\u001b[0;34m>\u001b[0m\u001b[0;36m80\u001b[0m\u001b[0;34m)\u001b[0m\u001b[0;34m\u001b[0m\u001b[0;34m\u001b[0m\u001b[0m\n\u001b[0m",
      "\u001b[0;32m/Library/Frameworks/Python.framework/Versions/3.10/lib/python3.10/site-packages/pandas/core/generic.py\u001b[0m in \u001b[0;36m?\u001b[0;34m(self)\u001b[0m\n\u001b[1;32m   1575\u001b[0m     \u001b[0;34m@\u001b[0m\u001b[0mfinal\u001b[0m\u001b[0;34m\u001b[0m\u001b[0;34m\u001b[0m\u001b[0m\n\u001b[1;32m   1576\u001b[0m     \u001b[0;32mdef\u001b[0m \u001b[0m__nonzero__\u001b[0m\u001b[0;34m(\u001b[0m\u001b[0mself\u001b[0m\u001b[0;34m)\u001b[0m \u001b[0;34m->\u001b[0m \u001b[0mNoReturn\u001b[0m\u001b[0;34m:\u001b[0m\u001b[0;34m\u001b[0m\u001b[0;34m\u001b[0m\u001b[0m\n\u001b[0;32m-> 1577\u001b[0;31m         raise ValueError(\n\u001b[0m\u001b[1;32m   1578\u001b[0m             \u001b[0;34mf\"The truth value of a {type(self).__name__} is ambiguous. \"\u001b[0m\u001b[0;34m\u001b[0m\u001b[0;34m\u001b[0m\u001b[0m\n\u001b[1;32m   1579\u001b[0m             \u001b[0;34m\"Use a.empty, a.bool(), a.item(), a.any() or a.all().\"\u001b[0m\u001b[0;34m\u001b[0m\u001b[0;34m\u001b[0m\u001b[0m\n\u001b[1;32m   1580\u001b[0m         )\n",
      "\u001b[0;31mValueError\u001b[0m: The truth value of a Series is ambiguous. Use a.empty, a.bool(), a.item(), a.any() or a.all()."
     ]
    }
   ],
   "source": [
    "# 내가 작성한 코드\n",
    "stroke_df.dropna(subset=['bmi'])\n",
    "\n",
    "stroke_df.drop(stroke_df['bmi']<10 or stroke_df['bmi']>80)"
   ]
  },
  {
   "cell_type": "code",
   "execution_count": 12,
   "id": "96496835",
   "metadata": {},
   "outputs": [],
   "source": [
    "# 1. 조건 만들기\n",
    "cond = (stroke_df['bmi'].isna()) | (stroke_df['bmi'] < 10) | (stroke_df['bmi']>80)\n",
    "cond_df = stroke_df[cond]"
   ]
  },
  {
   "cell_type": "code",
   "execution_count": 13,
   "id": "2f68f543",
   "metadata": {},
   "outputs": [],
   "source": [
    "stroke_df_clean = stroke_df.drop(cond_df.index)"
   ]
  },
  {
   "cell_type": "code",
   "execution_count": 14,
   "id": "530e6394",
   "metadata": {},
   "outputs": [
    {
     "name": "stdout",
     "output_type": "stream",
     "text": [
      "5110\n",
      "4907\n"
     ]
    }
   ],
   "source": [
    "print(len(stroke_df))\n",
    "print(len(stroke_df_clean))"
   ]
  },
  {
   "cell_type": "markdown",
   "id": "5f39220d",
   "metadata": {},
   "source": [
    "## 문제 8: 조건 필터링 + 다중 정렬\n",
    "\n",
    "나이 60세 이상이면서 (고혈압=1 또는 심장질환=1)인 행만 필터링해 생성  \n",
    "avg_glucose_level 내림차순, 동률이면 bmi 오름차순으로 정렬  \n",
    "상위 10명에 대해 id, age, avg_glucose_level, bmi, stroke만 출력  "
   ]
  },
  {
   "cell_type": "code",
   "execution_count": 16,
   "id": "3c27c3b7",
   "metadata": {},
   "outputs": [],
   "source": [
    "# cond = () & (()|())\n",
    "cond = (stroke_df['age']>=60) & ((stroke_df['hypertension'] == 1 )|(stroke_df['heart_disease'] == 1 ))\n",
    "result = stroke_df[cond]"
   ]
  },
  {
   "cell_type": "code",
   "execution_count": 17,
   "id": "06548ad0",
   "metadata": {},
   "outputs": [],
   "source": [
    "sorted_result = result.sort_values(by=['avg_glucose_level', 'bmi'], ascending=[False, True])"
   ]
  },
  {
   "cell_type": "code",
   "execution_count": 18,
   "id": "33690238",
   "metadata": {},
   "outputs": [
    {
     "data": {
      "text/html": [
       "<div>\n",
       "<style scoped>\n",
       "    .dataframe tbody tr th:only-of-type {\n",
       "        vertical-align: middle;\n",
       "    }\n",
       "\n",
       "    .dataframe tbody tr th {\n",
       "        vertical-align: top;\n",
       "    }\n",
       "\n",
       "    .dataframe thead th {\n",
       "        text-align: right;\n",
       "    }\n",
       "</style>\n",
       "<table border=\"1\" class=\"dataframe\">\n",
       "  <thead>\n",
       "    <tr style=\"text-align: right;\">\n",
       "      <th></th>\n",
       "      <th>id</th>\n",
       "      <th>age</th>\n",
       "      <th>avg_glucose_level</th>\n",
       "      <th>bmi</th>\n",
       "      <th>stroke</th>\n",
       "    </tr>\n",
       "  </thead>\n",
       "  <tbody>\n",
       "    <tr>\n",
       "      <th>193</th>\n",
       "      <td>69112</td>\n",
       "      <td>68.0</td>\n",
       "      <td>271.74</td>\n",
       "      <td>31.1</td>\n",
       "      <td>1</td>\n",
       "    </tr>\n",
       "    <tr>\n",
       "      <th>4983</th>\n",
       "      <td>10995</td>\n",
       "      <td>76.0</td>\n",
       "      <td>267.60</td>\n",
       "      <td>30.5</td>\n",
       "      <td>0</td>\n",
       "    </tr>\n",
       "    <tr>\n",
       "      <th>3393</th>\n",
       "      <td>13155</td>\n",
       "      <td>67.0</td>\n",
       "      <td>263.56</td>\n",
       "      <td>26.3</td>\n",
       "      <td>0</td>\n",
       "    </tr>\n",
       "    <tr>\n",
       "      <th>4457</th>\n",
       "      <td>50070</td>\n",
       "      <td>62.0</td>\n",
       "      <td>261.67</td>\n",
       "      <td>43.0</td>\n",
       "      <td>0</td>\n",
       "    </tr>\n",
       "    <tr>\n",
       "      <th>1067</th>\n",
       "      <td>55862</td>\n",
       "      <td>67.0</td>\n",
       "      <td>254.63</td>\n",
       "      <td>31.0</td>\n",
       "      <td>0</td>\n",
       "    </tr>\n",
       "    <tr>\n",
       "      <th>785</th>\n",
       "      <td>17813</td>\n",
       "      <td>69.0</td>\n",
       "      <td>254.60</td>\n",
       "      <td>21.7</td>\n",
       "      <td>0</td>\n",
       "    </tr>\n",
       "    <tr>\n",
       "      <th>33</th>\n",
       "      <td>54401</td>\n",
       "      <td>80.0</td>\n",
       "      <td>252.72</td>\n",
       "      <td>30.5</td>\n",
       "      <td>1</td>\n",
       "    </tr>\n",
       "    <tr>\n",
       "      <th>386</th>\n",
       "      <td>63732</td>\n",
       "      <td>70.0</td>\n",
       "      <td>251.60</td>\n",
       "      <td>27.1</td>\n",
       "      <td>0</td>\n",
       "    </tr>\n",
       "    <tr>\n",
       "      <th>220</th>\n",
       "      <td>20463</td>\n",
       "      <td>81.0</td>\n",
       "      <td>250.89</td>\n",
       "      <td>28.1</td>\n",
       "      <td>1</td>\n",
       "    </tr>\n",
       "    <tr>\n",
       "      <th>243</th>\n",
       "      <td>40460</td>\n",
       "      <td>68.0</td>\n",
       "      <td>247.51</td>\n",
       "      <td>40.5</td>\n",
       "      <td>1</td>\n",
       "    </tr>\n",
       "  </tbody>\n",
       "</table>\n",
       "</div>"
      ],
      "text/plain": [
       "         id   age  avg_glucose_level   bmi  stroke\n",
       "193   69112  68.0             271.74  31.1       1\n",
       "4983  10995  76.0             267.60  30.5       0\n",
       "3393  13155  67.0             263.56  26.3       0\n",
       "4457  50070  62.0             261.67  43.0       0\n",
       "1067  55862  67.0             254.63  31.0       0\n",
       "785   17813  69.0             254.60  21.7       0\n",
       "33    54401  80.0             252.72  30.5       1\n",
       "386   63732  70.0             251.60  27.1       0\n",
       "220   20463  81.0             250.89  28.1       1\n",
       "243   40460  68.0             247.51  40.5       1"
      ]
     },
     "execution_count": 18,
     "metadata": {},
     "output_type": "execute_result"
    }
   ],
   "source": [
    "sorted_result[['id', 'age', 'avg_glucose_level', 'bmi', 'stroke']].head(10)"
   ]
  },
  {
   "cell_type": "markdown",
   "id": "5544c0e4",
   "metadata": {},
   "source": [
    "## 문제 9: .loc vs .iloc 비교하기\n",
    "데이터프레임 df에서 age, bmi, stroke 열만 뽑아서 확인해봅시다.\n",
    "1. .loc를 사용해서 0~2번째 행의 age, bmi, stroke 값을 가져오세요.\n",
    "2. .iloc를 사용해서 같은 행과 열을 가져오세요.\n",
    "3. 두 결과가 같은지 눈으로 비교해보세요."
   ]
  },
  {
   "cell_type": "code",
   "execution_count": 7,
   "id": "eb4a7baf",
   "metadata": {},
   "outputs": [
    {
     "data": {
      "text/html": [
       "<div>\n",
       "<style scoped>\n",
       "    .dataframe tbody tr th:only-of-type {\n",
       "        vertical-align: middle;\n",
       "    }\n",
       "\n",
       "    .dataframe tbody tr th {\n",
       "        vertical-align: top;\n",
       "    }\n",
       "\n",
       "    .dataframe thead th {\n",
       "        text-align: right;\n",
       "    }\n",
       "</style>\n",
       "<table border=\"1\" class=\"dataframe\">\n",
       "  <thead>\n",
       "    <tr style=\"text-align: right;\">\n",
       "      <th></th>\n",
       "      <th>age</th>\n",
       "      <th>bmi</th>\n",
       "      <th>stroke</th>\n",
       "    </tr>\n",
       "  </thead>\n",
       "  <tbody>\n",
       "    <tr>\n",
       "      <th>0</th>\n",
       "      <td>67.0</td>\n",
       "      <td>36.6</td>\n",
       "      <td>1</td>\n",
       "    </tr>\n",
       "    <tr>\n",
       "      <th>1</th>\n",
       "      <td>61.0</td>\n",
       "      <td>NaN</td>\n",
       "      <td>1</td>\n",
       "    </tr>\n",
       "    <tr>\n",
       "      <th>2</th>\n",
       "      <td>80.0</td>\n",
       "      <td>32.5</td>\n",
       "      <td>1</td>\n",
       "    </tr>\n",
       "  </tbody>\n",
       "</table>\n",
       "</div>"
      ],
      "text/plain": [
       "    age   bmi  stroke\n",
       "0  67.0  36.6       1\n",
       "1  61.0   NaN       1\n",
       "2  80.0  32.5       1"
      ]
     },
     "execution_count": 7,
     "metadata": {},
     "output_type": "execute_result"
    }
   ],
   "source": [
    "stroke_df\n",
    "\n",
    "stroke_df.loc[0:2,('age','bmi','stroke')]"
   ]
  },
  {
   "cell_type": "code",
   "execution_count": 11,
   "id": "914b793d",
   "metadata": {},
   "outputs": [
    {
     "data": {
      "text/html": [
       "<div>\n",
       "<style scoped>\n",
       "    .dataframe tbody tr th:only-of-type {\n",
       "        vertical-align: middle;\n",
       "    }\n",
       "\n",
       "    .dataframe tbody tr th {\n",
       "        vertical-align: top;\n",
       "    }\n",
       "\n",
       "    .dataframe thead th {\n",
       "        text-align: right;\n",
       "    }\n",
       "</style>\n",
       "<table border=\"1\" class=\"dataframe\">\n",
       "  <thead>\n",
       "    <tr style=\"text-align: right;\">\n",
       "      <th></th>\n",
       "      <th>age</th>\n",
       "      <th>bmi</th>\n",
       "      <th>stroke</th>\n",
       "    </tr>\n",
       "  </thead>\n",
       "  <tbody>\n",
       "    <tr>\n",
       "      <th>0</th>\n",
       "      <td>67.0</td>\n",
       "      <td>36.6</td>\n",
       "      <td>1</td>\n",
       "    </tr>\n",
       "    <tr>\n",
       "      <th>1</th>\n",
       "      <td>61.0</td>\n",
       "      <td>NaN</td>\n",
       "      <td>1</td>\n",
       "    </tr>\n",
       "    <tr>\n",
       "      <th>2</th>\n",
       "      <td>80.0</td>\n",
       "      <td>32.5</td>\n",
       "      <td>1</td>\n",
       "    </tr>\n",
       "  </tbody>\n",
       "</table>\n",
       "</div>"
      ],
      "text/plain": [
       "    age   bmi  stroke\n",
       "0  67.0  36.6       1\n",
       "1  61.0   NaN       1\n",
       "2  80.0  32.5       1"
      ]
     },
     "execution_count": 11,
     "metadata": {},
     "output_type": "execute_result"
    }
   ],
   "source": [
    "stroke_df.iloc[0:3,[2,9,11]]"
   ]
  }
 ],
 "metadata": {
  "kernelspec": {
   "display_name": "Python 3",
   "language": "python",
   "name": "python3"
  },
  "language_info": {
   "codemirror_mode": {
    "name": "ipython",
    "version": 3
   },
   "file_extension": ".py",
   "mimetype": "text/x-python",
   "name": "python",
   "nbconvert_exporter": "python",
   "pygments_lexer": "ipython3",
   "version": "3.10.10"
  }
 },
 "nbformat": 4,
 "nbformat_minor": 5
}
