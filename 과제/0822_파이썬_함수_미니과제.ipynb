{
 "cells": [
  {
   "cell_type": "markdown",
   "metadata": {},
   "source": [
    "## 문제 1\n",
    "문제: 정수를 입력받아 해당 정수의 제곱을 반환하는 함수 square_number(num)를 작성하세요.  \n",
    "예: square_number(5)를 호출하면 25를 반환해야 합니다."
   ]
  },
  {
   "cell_type": "code",
   "execution_count": null,
   "metadata": {},
   "outputs": [
    {
     "data": {
      "text/plain": [
       "25"
      ]
     },
     "execution_count": 8,
     "metadata": {},
     "output_type": "execute_result"
    }
   ],
   "source": [
    "def square_number(num) :\n",
    "    square_num = num**2\n",
    "    return square_num\n",
    "\n",
    "square_number(int(input(\"입력 : \")))"
   ]
  },
  {
   "cell_type": "markdown",
   "metadata": {},
   "source": [
    "## 문제 2\n",
    "문제: 문자열을 인자로 받아, 그 문자열을 대문자로 변환한 후 반환하는 함수 to_uppercase(s)를 작성하세요.  \n",
    "예:  \n",
    "1. to_uppercase(\"hello\") -> \"HELLO\""
   ]
  },
  {
   "cell_type": "code",
   "execution_count": 6,
   "metadata": {},
   "outputs": [
    {
     "data": {
      "text/plain": [
       "'HELLO'"
      ]
     },
     "execution_count": 6,
     "metadata": {},
     "output_type": "execute_result"
    }
   ],
   "source": [
    "def to_uppercase(s) :\n",
    "    return (s.upper())\n",
    "\n",
    "to_uppercase(\"hello\")"
   ]
  },
  {
   "cell_type": "markdown",
   "metadata": {},
   "source": [
    "## 문제 3\n",
    "문제: 리스트를 인자로 받아, 리스트 내 모든 숫자의 합을 반환하는 함수 sum_list(lst)를 작성하세요. 만약 리스트가 비어있다면 0을 반환하세요.  \n",
    "예:  \n",
    "1. sum_list([1, 2, 3]) -> 6\n",
    "2. sum_list([]) -> 0"
   ]
  },
  {
   "cell_type": "code",
   "execution_count": null,
   "metadata": {},
   "outputs": [
    {
     "name": "stdout",
     "output_type": "stream",
     "text": [
      "6\n",
      "0\n"
     ]
    }
   ],
   "source": [
    "# 내가 작성한 코드 <---- for문 돌릴 필요 없어! sum쓰면 끝.\n",
    "def sum_list(lst) :\n",
    "    sum = 0\n",
    "    for i in lst :\n",
    "        sum += i\n",
    "    return print(sum)\n",
    "\n",
    "# 튜터님이 작성한 코드\n",
    "def sum_list2(lst):\n",
    "    return sum(lst)\n",
    "\n",
    "sum_list2([1, 2, 3])\n",
    "sum_list2([])"
   ]
  },
  {
   "cell_type": "markdown",
   "metadata": {},
   "source": [
    "## 문제 4\n",
    "문제: 두 개의 숫자를 인자로 받아, 그 중 더 큰 값을 반환하는 함수 max_of_two(a, b)를 작성하세요.  \n",
    "예:  \n",
    "1. max_of_two(5, 10) -> 10\n",
    "2. max_of_two(-3, -1) -> -1"
   ]
  },
  {
   "cell_type": "code",
   "execution_count": 12,
   "metadata": {},
   "outputs": [
    {
     "name": "stdout",
     "output_type": "stream",
     "text": [
      "10\n",
      "-1\n",
      "equal\n"
     ]
    }
   ],
   "source": [
    "def max_of_two(a, b) :\n",
    "    if a>b : print(a)\n",
    "    elif a<b : print(b)\n",
    "    elif a==b : print(\"equal\")\n",
    "\n",
    "max_of_two(5, 10)\n",
    "max_of_two(-3, -1)\n",
    "max_of_two(-10, -10)"
   ]
  },
  {
   "cell_type": "markdown",
   "metadata": {},
   "source": [
    "## 문제 5\n",
    "문제: 정수를 인자로 받아, 1부터 그 정수까지의 곱(팩토리얼)을 계산하는 함수 factorial(n)을 작성하세요. n이 0이면 결과는 1입니다.  \n",
    "예:  \n",
    "1. factorial(5) -> 120 (54321)"
   ]
  },
  {
   "cell_type": "code",
   "execution_count": null,
   "metadata": {},
   "outputs": [
    {
     "data": {
      "text/plain": [
       "1"
      ]
     },
     "execution_count": 31,
     "metadata": {},
     "output_type": "execute_result"
    }
   ],
   "source": [
    "def factorial(n) :\n",
    "    fac = 1\n",
    "    for i in range(n,0,-1) : \n",
    "        fac = fac * i\n",
    "    return(fac)   \n",
    "\n",
    "def factorial2(n) :\n",
    "    for i in range(1, n+1) : \n",
    "        num_multiply *= i\n",
    "    return num_multiply\n",
    "factorial(5)\n",
    "#factorial(0)"
   ]
  },
  {
   "cell_type": "markdown",
   "metadata": {},
   "source": [
    "## 문제 6\n",
    "문제: 리스트를 인자로 받아, 그 리스트 내에 있는 모든 정수들의 평균을 반환하는 함수 average(lst)를 작성하세요. 리스트가 비어있을 경우 0을 반환하세요.  \n",
    "예:  \n",
    "1. average([10, 20, 30]) -> 20.0\n",
    "2. average([]) -> 0"
   ]
  },
  {
   "cell_type": "code",
   "execution_count": 34,
   "metadata": {},
   "outputs": [
    {
     "data": {
      "text/plain": [
       "0"
      ]
     },
     "execution_count": 34,
     "metadata": {},
     "output_type": "execute_result"
    }
   ],
   "source": [
    "def average(lst) :\n",
    "    sum = 0\n",
    "    if len(lst) != 0:\n",
    "        for i in lst :\n",
    "            sum += i\n",
    "        avg = sum/len(lst)\n",
    "    else : avg = 0\n",
    "    return avg\n",
    "\n",
    "average([10, 20, 30])\n",
    "average([])"
   ]
  },
  {
   "cell_type": "markdown",
   "metadata": {},
   "source": [
    "## 문제 7\n",
    "문제: 두 개의 정수 start, end를 인자로 받아, start부터 end까지(포함) 정수의 합을 반환하는 함수 sum_range(start, end)를 작성하세요.  \n",
    "start가 end보다 클 경우, 두 값을 바꿔서라도 합을 계산해야 합니다.  \n",
    "즉, sum_range(5, 3)도 3부터 5까지의 합인 3+4+5=12를 반환해야 합니다.  \n",
    "\n",
    "예:  \n",
    "1. sum_range(1, 3) -> 6(1+2+3)\n",
    "2. sum_range(3, 1) -> 6(1+2+3)"
   ]
  },
  {
   "cell_type": "code",
   "execution_count": null,
   "metadata": {},
   "outputs": [
    {
     "name": "stdout",
     "output_type": "stream",
     "text": [
      "sum_range(nomal) :  6\n",
      "sum_range(reverse) :  6\n"
     ]
    }
   ],
   "source": [
    "def sum_range(start, end) :\n",
    "    sum = 0\n",
    "    \n",
    "    if end < start :\n",
    "        start, end = end, start\n",
    "    \n",
    "    for i in range(start, end+1) :\n",
    "        sum += i\n",
    "    \n",
    "    return sum\n",
    "\n",
    "def sum_range2(start, end) : \n",
    "range(min(start, end), max(start, end)+1)\n",
    "\n",
    "print(\"sum_range(nomal) : \",sum_range(1,3))\n",
    "print(\"sum_range(reverse) : \",sum_range(3,1))"
   ]
  }
 ],
 "metadata": {
  "kernelspec": {
   "display_name": "Python 3",
   "language": "python",
   "name": "python3"
  },
  "language_info": {
   "codemirror_mode": {
    "name": "ipython",
    "version": 3
   },
   "file_extension": ".py",
   "mimetype": "text/x-python",
   "name": "python",
   "nbconvert_exporter": "python",
   "pygments_lexer": "ipython3",
   "version": "3.10.10"
  }
 },
 "nbformat": 4,
 "nbformat_minor": 2
}
