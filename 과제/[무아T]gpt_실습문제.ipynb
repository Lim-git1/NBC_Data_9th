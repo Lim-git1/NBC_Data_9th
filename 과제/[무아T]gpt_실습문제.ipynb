{
 "cells": [
  {
   "cell_type": "markdown",
   "metadata": {},
   "source": [
    " # NBA 디트로이트 팀 성과 분석 실습\n",
    "\n",
    "\n",
    "\n",
    " ## 학습 목표\n",
    "\n",
    " - \"문제 → 검색 → 적용 → 검증\" 프로세스 실습\n",
    "\n",
    " - AI 답변을 그대로 복붙하지 않고 단계별로 이해하며 구현\n",
    "\n",
    " - 같은 결과를 얻는 다양한 방법 탐색\n",
    "\n",
    " - 직접 검증을 통한 결과 확인\n",
    "\n",
    "\n",
    "\n",
    " ## 분석 목표\n",
    "\n",
    " 1. 디트로이트 팀의 전체 게임 승률과 리그 평균 승률 비교\n",
    "\n",
    " 2. 디트로이트 팀의 클러치 게임 승률과 하위 5개 팀 승률 비교\n",
    "\n",
    " 3. 분석 결과 시각화"
   ]
  },
  {
   "cell_type": "markdown",
   "metadata": {},
   "source": [
    " ---\n",
    "\n",
    " # 실습 1: NBA 디트로이트 팀 성과 분석\n",
    "\n",
    " ---"
   ]
  },
  {
   "cell_type": "markdown",
   "metadata": {},
   "source": [
    " ## 1단계: 문제 정의 및 분해"
   ]
  },
  {
   "cell_type": "code",
   "execution_count": 6,
   "metadata": {},
   "outputs": [
    {
     "name": "stdout",
     "output_type": "stream",
     "text": [
      "OS: Darwin, 설정된 폰트: ['AppleGothic']\n"
     ]
    }
   ],
   "source": [
    "import pandas as pd\n",
    "import numpy as np\n",
    "import matplotlib.pyplot as plt\n",
    "import seaborn as sns\n",
    "import platform\n",
    "\n",
    "# OS 자동 감지 및 한글 폰트 설정\n",
    "system = platform.system()\n",
    "\n",
    "if system == 'Windows':\n",
    "    # Windows: 맑은 고딕 사용\n",
    "    plt.rcParams['font.family'] = 'Malgun Gothic'\n",
    "    \n",
    "elif system == 'Darwin':  # Darwin = macOS\n",
    "    # macOS: 애플 고딕 사용\n",
    "    plt.rcParams['font.family'] = 'AppleGothic'\n",
    "    \n",
    "elif system == 'Linux':\n",
    "    # Linux: 나눔 고딕 사용 (사전 설치 필요)\n",
    "    # 터미널: sudo apt-get install -y fonts-nanum\n",
    "    plt.rcParams['font.family'] = 'NanumGothic'\n",
    "    \n",
    "else:\n",
    "    print(f\"알 수 없는 OS: {system}\")\n",
    "\n",
    "# 모든 OS 공통: 음수 기호 깨짐 방지\n",
    "plt.rcParams['axes.unicode_minus'] = False\n",
    "\n",
    "print(f\"OS: {system}, 설정된 폰트: {plt.rcParams['font.family']}\")"
   ]
  },
  {
   "cell_type": "markdown",
   "metadata": {},
   "source": [
    " ### 문제 1-1: 분석 문제를 논리적 단계로 분해하기\n",
    "\n",
    "\n",
    "\n",
    " \"디트로이트 팀의 성과 분석\"이라는 큰 문제를 해결 가능한 작은 단계로 나누세요."
   ]
  },
  {
   "cell_type": "code",
   "execution_count": 7,
   "metadata": {},
   "outputs": [
    {
     "data": {
      "text/plain": [
       "'\\n1단계: 데이터 로드 및 구조 파악\\n2단계: 데이터 전처리\\n3단계: 데이터 탐색\\n4단계: 모든 팀 승률 계산 (GroupBy, Pivot Table 방법)\\n5단계: 검증을 위한 디트로이트 팀 승률 직접 계산\\n6단계: 전체 승률 비교 시각화\\n7단계: 클러치 게임 식별 및 분석 (과제)\\n8단계: 클러치 게임 결과 시각화 (과제)\\n'"
      ]
     },
     "execution_count": 7,
     "metadata": {},
     "output_type": "execute_result"
    }
   ],
   "source": [
    "# 전체 분석 단계\n",
    "\"\"\"\n",
    "1단계: 데이터 로드 및 구조 파악\n",
    "2단계: 데이터 전처리\n",
    "3단계: 데이터 탐색\n",
    "4단계: 모든 팀 승률 계산 (GroupBy, Pivot Table 방법)\n",
    "5단계: 검증을 위한 디트로이트 팀 승률 직접 계산\n",
    "6단계: 전체 승률 비교 시각화\n",
    "7단계: 클러치 게임 식별 및 분석 (과제)\n",
    "8단계: 클러치 게임 결과 시각화 (과제)\n",
    "\"\"\""
   ]
  },
  {
   "cell_type": "markdown",
   "metadata": {},
   "source": [
    " ## 2단계: 데이터 로드 및 전처리"
   ]
  },
  {
   "cell_type": "markdown",
   "metadata": {},
   "source": [
    " ### 문제 2-1: 데이터 로드"
   ]
  },
  {
   "cell_type": "code",
   "execution_count": 8,
   "metadata": {},
   "outputs": [
    {
     "name": "stdout",
     "output_type": "stream",
     "text": [
      "데이터 로드 완료\n",
      "games shape: (26651, 21)\n",
      "teams shape: (30, 14)\n"
     ]
    }
   ],
   "source": [
    "# 필요한 데이터 로드\n",
    "games = pd.read_csv(\"../data/games.csv\")\n",
    "teams = pd.read_csv(\"../data/teams.csv\")\n",
    "\n",
    "print(\"데이터 로드 완료\")\n",
    "print(f\"games shape: {games.shape}\")\n",
    "print(f\"teams shape: {teams.shape}\")"
   ]
  },
  {
   "cell_type": "markdown",
   "metadata": {},
   "source": [
    " ### 문제 2-2: 데이터 구조 파악"
   ]
  },
  {
   "cell_type": "code",
   "execution_count": 9,
   "metadata": {},
   "outputs": [
    {
     "name": "stdout",
     "output_type": "stream",
     "text": [
      "Games 데이터 정보:\n",
      "<class 'pandas.core.frame.DataFrame'>\n",
      "RangeIndex: 26651 entries, 0 to 26650\n",
      "Data columns (total 21 columns):\n",
      " #   Column            Non-Null Count  Dtype  \n",
      "---  ------            --------------  -----  \n",
      " 0   GAME_DATE_EST     26651 non-null  object \n",
      " 1   GAME_ID           26651 non-null  int64  \n",
      " 2   GAME_STATUS_TEXT  26651 non-null  object \n",
      " 3   HOME_TEAM_ID      26651 non-null  int64  \n",
      " 4   VISITOR_TEAM_ID   26651 non-null  int64  \n",
      " 5   SEASON            26651 non-null  int64  \n",
      " 6   TEAM_ID_home      26651 non-null  int64  \n",
      " 7   PTS_home          26552 non-null  float64\n",
      " 8   FG_PCT_home       26552 non-null  float64\n",
      " 9   FT_PCT_home       26552 non-null  float64\n",
      " 10  FG3_PCT_home      26552 non-null  float64\n",
      " 11  AST_home          26552 non-null  float64\n",
      " 12  REB_home          26552 non-null  float64\n",
      " 13  TEAM_ID_away      26651 non-null  int64  \n",
      " 14  PTS_away          26552 non-null  float64\n",
      " 15  FG_PCT_away       26552 non-null  float64\n",
      " 16  FT_PCT_away       26552 non-null  float64\n",
      " 17  FG3_PCT_away      26552 non-null  float64\n",
      " 18  AST_away          26552 non-null  float64\n",
      " 19  REB_away          26552 non-null  float64\n",
      " 20  HOME_TEAM_WINS    26651 non-null  int64  \n",
      "dtypes: float64(12), int64(7), object(2)\n",
      "memory usage: 4.3+ MB\n",
      "None\n",
      "\n",
      "첫 5행:\n"
     ]
    },
    {
     "data": {
      "text/html": [
       "<div>\n",
       "<style scoped>\n",
       "    .dataframe tbody tr th:only-of-type {\n",
       "        vertical-align: middle;\n",
       "    }\n",
       "\n",
       "    .dataframe tbody tr th {\n",
       "        vertical-align: top;\n",
       "    }\n",
       "\n",
       "    .dataframe thead th {\n",
       "        text-align: right;\n",
       "    }\n",
       "</style>\n",
       "<table border=\"1\" class=\"dataframe\">\n",
       "  <thead>\n",
       "    <tr style=\"text-align: right;\">\n",
       "      <th></th>\n",
       "      <th>GAME_DATE_EST</th>\n",
       "      <th>GAME_ID</th>\n",
       "      <th>GAME_STATUS_TEXT</th>\n",
       "      <th>HOME_TEAM_ID</th>\n",
       "      <th>VISITOR_TEAM_ID</th>\n",
       "      <th>SEASON</th>\n",
       "      <th>TEAM_ID_home</th>\n",
       "      <th>PTS_home</th>\n",
       "      <th>FG_PCT_home</th>\n",
       "      <th>FT_PCT_home</th>\n",
       "      <th>...</th>\n",
       "      <th>AST_home</th>\n",
       "      <th>REB_home</th>\n",
       "      <th>TEAM_ID_away</th>\n",
       "      <th>PTS_away</th>\n",
       "      <th>FG_PCT_away</th>\n",
       "      <th>FT_PCT_away</th>\n",
       "      <th>FG3_PCT_away</th>\n",
       "      <th>AST_away</th>\n",
       "      <th>REB_away</th>\n",
       "      <th>HOME_TEAM_WINS</th>\n",
       "    </tr>\n",
       "  </thead>\n",
       "  <tbody>\n",
       "    <tr>\n",
       "      <th>0</th>\n",
       "      <td>2022-12-22</td>\n",
       "      <td>22200477</td>\n",
       "      <td>Final</td>\n",
       "      <td>1610612740</td>\n",
       "      <td>1610612759</td>\n",
       "      <td>2022</td>\n",
       "      <td>1610612740</td>\n",
       "      <td>126.0</td>\n",
       "      <td>0.484</td>\n",
       "      <td>0.926</td>\n",
       "      <td>...</td>\n",
       "      <td>25.0</td>\n",
       "      <td>46.0</td>\n",
       "      <td>1610612759</td>\n",
       "      <td>117.0</td>\n",
       "      <td>0.478</td>\n",
       "      <td>0.815</td>\n",
       "      <td>0.321</td>\n",
       "      <td>23.0</td>\n",
       "      <td>44.0</td>\n",
       "      <td>1</td>\n",
       "    </tr>\n",
       "    <tr>\n",
       "      <th>1</th>\n",
       "      <td>2022-12-22</td>\n",
       "      <td>22200478</td>\n",
       "      <td>Final</td>\n",
       "      <td>1610612762</td>\n",
       "      <td>1610612764</td>\n",
       "      <td>2022</td>\n",
       "      <td>1610612762</td>\n",
       "      <td>120.0</td>\n",
       "      <td>0.488</td>\n",
       "      <td>0.952</td>\n",
       "      <td>...</td>\n",
       "      <td>16.0</td>\n",
       "      <td>40.0</td>\n",
       "      <td>1610612764</td>\n",
       "      <td>112.0</td>\n",
       "      <td>0.561</td>\n",
       "      <td>0.765</td>\n",
       "      <td>0.333</td>\n",
       "      <td>20.0</td>\n",
       "      <td>37.0</td>\n",
       "      <td>1</td>\n",
       "    </tr>\n",
       "    <tr>\n",
       "      <th>2</th>\n",
       "      <td>2022-12-21</td>\n",
       "      <td>22200466</td>\n",
       "      <td>Final</td>\n",
       "      <td>1610612739</td>\n",
       "      <td>1610612749</td>\n",
       "      <td>2022</td>\n",
       "      <td>1610612739</td>\n",
       "      <td>114.0</td>\n",
       "      <td>0.482</td>\n",
       "      <td>0.786</td>\n",
       "      <td>...</td>\n",
       "      <td>22.0</td>\n",
       "      <td>37.0</td>\n",
       "      <td>1610612749</td>\n",
       "      <td>106.0</td>\n",
       "      <td>0.470</td>\n",
       "      <td>0.682</td>\n",
       "      <td>0.433</td>\n",
       "      <td>20.0</td>\n",
       "      <td>46.0</td>\n",
       "      <td>1</td>\n",
       "    </tr>\n",
       "    <tr>\n",
       "      <th>3</th>\n",
       "      <td>2022-12-21</td>\n",
       "      <td>22200467</td>\n",
       "      <td>Final</td>\n",
       "      <td>1610612755</td>\n",
       "      <td>1610612765</td>\n",
       "      <td>2022</td>\n",
       "      <td>1610612755</td>\n",
       "      <td>113.0</td>\n",
       "      <td>0.441</td>\n",
       "      <td>0.909</td>\n",
       "      <td>...</td>\n",
       "      <td>27.0</td>\n",
       "      <td>49.0</td>\n",
       "      <td>1610612765</td>\n",
       "      <td>93.0</td>\n",
       "      <td>0.392</td>\n",
       "      <td>0.735</td>\n",
       "      <td>0.261</td>\n",
       "      <td>15.0</td>\n",
       "      <td>46.0</td>\n",
       "      <td>1</td>\n",
       "    </tr>\n",
       "    <tr>\n",
       "      <th>4</th>\n",
       "      <td>2022-12-21</td>\n",
       "      <td>22200468</td>\n",
       "      <td>Final</td>\n",
       "      <td>1610612737</td>\n",
       "      <td>1610612741</td>\n",
       "      <td>2022</td>\n",
       "      <td>1610612737</td>\n",
       "      <td>108.0</td>\n",
       "      <td>0.429</td>\n",
       "      <td>1.000</td>\n",
       "      <td>...</td>\n",
       "      <td>22.0</td>\n",
       "      <td>47.0</td>\n",
       "      <td>1610612741</td>\n",
       "      <td>110.0</td>\n",
       "      <td>0.500</td>\n",
       "      <td>0.773</td>\n",
       "      <td>0.292</td>\n",
       "      <td>20.0</td>\n",
       "      <td>47.0</td>\n",
       "      <td>0</td>\n",
       "    </tr>\n",
       "  </tbody>\n",
       "</table>\n",
       "<p>5 rows × 21 columns</p>\n",
       "</div>"
      ],
      "text/plain": [
       "  GAME_DATE_EST   GAME_ID GAME_STATUS_TEXT  HOME_TEAM_ID  VISITOR_TEAM_ID  \\\n",
       "0    2022-12-22  22200477            Final    1610612740       1610612759   \n",
       "1    2022-12-22  22200478            Final    1610612762       1610612764   \n",
       "2    2022-12-21  22200466            Final    1610612739       1610612749   \n",
       "3    2022-12-21  22200467            Final    1610612755       1610612765   \n",
       "4    2022-12-21  22200468            Final    1610612737       1610612741   \n",
       "\n",
       "   SEASON  TEAM_ID_home  PTS_home  FG_PCT_home  FT_PCT_home  ...  AST_home  \\\n",
       "0    2022    1610612740     126.0        0.484        0.926  ...      25.0   \n",
       "1    2022    1610612762     120.0        0.488        0.952  ...      16.0   \n",
       "2    2022    1610612739     114.0        0.482        0.786  ...      22.0   \n",
       "3    2022    1610612755     113.0        0.441        0.909  ...      27.0   \n",
       "4    2022    1610612737     108.0        0.429        1.000  ...      22.0   \n",
       "\n",
       "   REB_home  TEAM_ID_away  PTS_away  FG_PCT_away  FT_PCT_away  FG3_PCT_away  \\\n",
       "0      46.0    1610612759     117.0        0.478        0.815         0.321   \n",
       "1      40.0    1610612764     112.0        0.561        0.765         0.333   \n",
       "2      37.0    1610612749     106.0        0.470        0.682         0.433   \n",
       "3      49.0    1610612765      93.0        0.392        0.735         0.261   \n",
       "4      47.0    1610612741     110.0        0.500        0.773         0.292   \n",
       "\n",
       "   AST_away  REB_away  HOME_TEAM_WINS  \n",
       "0      23.0      44.0               1  \n",
       "1      20.0      37.0               1  \n",
       "2      20.0      46.0               1  \n",
       "3      15.0      46.0               1  \n",
       "4      20.0      47.0               0  \n",
       "\n",
       "[5 rows x 21 columns]"
      ]
     },
     "metadata": {},
     "output_type": "display_data"
    }
   ],
   "source": [
    "# games 데이터의 정보 확인\n",
    "print(\"Games 데이터 정보:\")\n",
    "print(games.info())\n",
    "print(\"\\n첫 5행:\")\n",
    "display(games.head())\n"
   ]
  },
  {
   "cell_type": "code",
   "execution_count": 10,
   "metadata": {},
   "outputs": [
    {
     "name": "stdout",
     "output_type": "stream",
     "text": [
      "Teams 데이터 정보:\n",
      "<class 'pandas.core.frame.DataFrame'>\n",
      "RangeIndex: 30 entries, 0 to 29\n",
      "Data columns (total 14 columns):\n",
      " #   Column              Non-Null Count  Dtype  \n",
      "---  ------              --------------  -----  \n",
      " 0   LEAGUE_ID           30 non-null     int64  \n",
      " 1   TEAM_ID             30 non-null     int64  \n",
      " 2   MIN_YEAR            30 non-null     int64  \n",
      " 3   MAX_YEAR            30 non-null     int64  \n",
      " 4   ABBREVIATION        30 non-null     object \n",
      " 5   NICKNAME            30 non-null     object \n",
      " 6   YEARFOUNDED         30 non-null     int64  \n",
      " 7   CITY                30 non-null     object \n",
      " 8   ARENA               30 non-null     object \n",
      " 9   ARENACAPACITY       26 non-null     float64\n",
      " 10  OWNER               30 non-null     object \n",
      " 11  GENERALMANAGER      30 non-null     object \n",
      " 12  HEADCOACH           30 non-null     object \n",
      " 13  DLEAGUEAFFILIATION  30 non-null     object \n",
      "dtypes: float64(1), int64(5), object(8)\n",
      "memory usage: 3.4+ KB\n",
      "None\n",
      "\n",
      "첫 5행:\n"
     ]
    },
    {
     "data": {
      "text/html": [
       "<div>\n",
       "<style scoped>\n",
       "    .dataframe tbody tr th:only-of-type {\n",
       "        vertical-align: middle;\n",
       "    }\n",
       "\n",
       "    .dataframe tbody tr th {\n",
       "        vertical-align: top;\n",
       "    }\n",
       "\n",
       "    .dataframe thead th {\n",
       "        text-align: right;\n",
       "    }\n",
       "</style>\n",
       "<table border=\"1\" class=\"dataframe\">\n",
       "  <thead>\n",
       "    <tr style=\"text-align: right;\">\n",
       "      <th></th>\n",
       "      <th>LEAGUE_ID</th>\n",
       "      <th>TEAM_ID</th>\n",
       "      <th>MIN_YEAR</th>\n",
       "      <th>MAX_YEAR</th>\n",
       "      <th>ABBREVIATION</th>\n",
       "      <th>NICKNAME</th>\n",
       "      <th>YEARFOUNDED</th>\n",
       "      <th>CITY</th>\n",
       "      <th>ARENA</th>\n",
       "      <th>ARENACAPACITY</th>\n",
       "      <th>OWNER</th>\n",
       "      <th>GENERALMANAGER</th>\n",
       "      <th>HEADCOACH</th>\n",
       "      <th>DLEAGUEAFFILIATION</th>\n",
       "    </tr>\n",
       "  </thead>\n",
       "  <tbody>\n",
       "    <tr>\n",
       "      <th>0</th>\n",
       "      <td>0</td>\n",
       "      <td>1610612737</td>\n",
       "      <td>1949</td>\n",
       "      <td>2019</td>\n",
       "      <td>ATL</td>\n",
       "      <td>Hawks</td>\n",
       "      <td>1949</td>\n",
       "      <td>Atlanta</td>\n",
       "      <td>State Farm Arena</td>\n",
       "      <td>18729.0</td>\n",
       "      <td>Tony Ressler</td>\n",
       "      <td>Travis Schlenk</td>\n",
       "      <td>Lloyd Pierce</td>\n",
       "      <td>Erie Bayhawks</td>\n",
       "    </tr>\n",
       "    <tr>\n",
       "      <th>1</th>\n",
       "      <td>0</td>\n",
       "      <td>1610612738</td>\n",
       "      <td>1946</td>\n",
       "      <td>2019</td>\n",
       "      <td>BOS</td>\n",
       "      <td>Celtics</td>\n",
       "      <td>1946</td>\n",
       "      <td>Boston</td>\n",
       "      <td>TD Garden</td>\n",
       "      <td>18624.0</td>\n",
       "      <td>Wyc Grousbeck</td>\n",
       "      <td>Danny Ainge</td>\n",
       "      <td>Brad Stevens</td>\n",
       "      <td>Maine Red Claws</td>\n",
       "    </tr>\n",
       "    <tr>\n",
       "      <th>2</th>\n",
       "      <td>0</td>\n",
       "      <td>1610612740</td>\n",
       "      <td>2002</td>\n",
       "      <td>2019</td>\n",
       "      <td>NOP</td>\n",
       "      <td>Pelicans</td>\n",
       "      <td>2002</td>\n",
       "      <td>New Orleans</td>\n",
       "      <td>Smoothie King Center</td>\n",
       "      <td>NaN</td>\n",
       "      <td>Tom Benson</td>\n",
       "      <td>Trajan Langdon</td>\n",
       "      <td>Alvin Gentry</td>\n",
       "      <td>No Affiliate</td>\n",
       "    </tr>\n",
       "    <tr>\n",
       "      <th>3</th>\n",
       "      <td>0</td>\n",
       "      <td>1610612741</td>\n",
       "      <td>1966</td>\n",
       "      <td>2019</td>\n",
       "      <td>CHI</td>\n",
       "      <td>Bulls</td>\n",
       "      <td>1966</td>\n",
       "      <td>Chicago</td>\n",
       "      <td>United Center</td>\n",
       "      <td>21711.0</td>\n",
       "      <td>Jerry Reinsdorf</td>\n",
       "      <td>Gar Forman</td>\n",
       "      <td>Jim Boylen</td>\n",
       "      <td>Windy City Bulls</td>\n",
       "    </tr>\n",
       "    <tr>\n",
       "      <th>4</th>\n",
       "      <td>0</td>\n",
       "      <td>1610612742</td>\n",
       "      <td>1980</td>\n",
       "      <td>2019</td>\n",
       "      <td>DAL</td>\n",
       "      <td>Mavericks</td>\n",
       "      <td>1980</td>\n",
       "      <td>Dallas</td>\n",
       "      <td>American Airlines Center</td>\n",
       "      <td>19200.0</td>\n",
       "      <td>Mark Cuban</td>\n",
       "      <td>Donnie Nelson</td>\n",
       "      <td>Rick Carlisle</td>\n",
       "      <td>Texas Legends</td>\n",
       "    </tr>\n",
       "  </tbody>\n",
       "</table>\n",
       "</div>"
      ],
      "text/plain": [
       "   LEAGUE_ID     TEAM_ID  MIN_YEAR  MAX_YEAR ABBREVIATION   NICKNAME  \\\n",
       "0          0  1610612737      1949      2019          ATL      Hawks   \n",
       "1          0  1610612738      1946      2019          BOS    Celtics   \n",
       "2          0  1610612740      2002      2019          NOP   Pelicans   \n",
       "3          0  1610612741      1966      2019          CHI      Bulls   \n",
       "4          0  1610612742      1980      2019          DAL  Mavericks   \n",
       "\n",
       "   YEARFOUNDED         CITY                     ARENA  ARENACAPACITY  \\\n",
       "0         1949      Atlanta          State Farm Arena        18729.0   \n",
       "1         1946       Boston                 TD Garden        18624.0   \n",
       "2         2002  New Orleans      Smoothie King Center            NaN   \n",
       "3         1966      Chicago             United Center        21711.0   \n",
       "4         1980       Dallas  American Airlines Center        19200.0   \n",
       "\n",
       "             OWNER  GENERALMANAGER      HEADCOACH DLEAGUEAFFILIATION  \n",
       "0     Tony Ressler  Travis Schlenk   Lloyd Pierce      Erie Bayhawks  \n",
       "1    Wyc Grousbeck     Danny Ainge   Brad Stevens    Maine Red Claws  \n",
       "2       Tom Benson  Trajan Langdon   Alvin Gentry       No Affiliate  \n",
       "3  Jerry Reinsdorf      Gar Forman     Jim Boylen   Windy City Bulls  \n",
       "4       Mark Cuban   Donnie Nelson  Rick Carlisle      Texas Legends  "
      ]
     },
     "metadata": {},
     "output_type": "display_data"
    }
   ],
   "source": [
    "# teams 데이터의 정보 확인\n",
    "print(\"Teams 데이터 정보:\")\n",
    "print(teams.info())\n",
    "print(\"\\n첫 5행:\")\n",
    "display(teams.head())\n"
   ]
  },
  {
   "cell_type": "markdown",
   "metadata": {},
   "source": [
    " ### 문제 2-3: 데이터 품질 확인\n",
    "\n",
    " - 결측치, 중복 데이터 확인"
   ]
  },
  {
   "cell_type": "code",
   "execution_count": 11,
   "metadata": {},
   "outputs": [
    {
     "name": "stdout",
     "output_type": "stream",
     "text": [
      "=== Games 데이터 결측치 확인 ===\n",
      "GAME_DATE_EST        0\n",
      "GAME_ID              0\n",
      "GAME_STATUS_TEXT     0\n",
      "HOME_TEAM_ID         0\n",
      "VISITOR_TEAM_ID      0\n",
      "SEASON               0\n",
      "TEAM_ID_home         0\n",
      "PTS_home            99\n",
      "FG_PCT_home         99\n",
      "FT_PCT_home         99\n",
      "FG3_PCT_home        99\n",
      "AST_home            99\n",
      "REB_home            99\n",
      "TEAM_ID_away         0\n",
      "PTS_away            99\n",
      "FG_PCT_away         99\n",
      "FT_PCT_away         99\n",
      "FG3_PCT_away        99\n",
      "AST_away            99\n",
      "REB_away            99\n",
      "HOME_TEAM_WINS       0\n",
      "dtype: int64\n",
      "\n",
      "전체 행 수: 26651\n",
      "\n",
      "=== Teams 데이터 결측치 확인 ===\n",
      "LEAGUE_ID             0\n",
      "TEAM_ID               0\n",
      "MIN_YEAR              0\n",
      "MAX_YEAR              0\n",
      "ABBREVIATION          0\n",
      "NICKNAME              0\n",
      "YEARFOUNDED           0\n",
      "CITY                  0\n",
      "ARENA                 0\n",
      "ARENACAPACITY         4\n",
      "OWNER                 0\n",
      "GENERALMANAGER        0\n",
      "HEADCOACH             0\n",
      "DLEAGUEAFFILIATION    0\n",
      "dtype: int64\n",
      "\n",
      "전체 행 수: 30\n"
     ]
    }
   ],
   "source": [
    "# 결측치 확인\n",
    "print(\"=== Games 데이터 결측치 확인 ===\")\n",
    "print(games.isnull().sum())\n",
    "print(f\"\\n전체 행 수: {len(games)}\")\n",
    "\n",
    "print(\"\\n=== Teams 데이터 결측치 확인 ===\")\n",
    "print(teams.isnull().sum())\n",
    "print(f\"\\n전체 행 수: {len(teams)}\")\n"
   ]
  },
  {
   "cell_type": "code",
   "execution_count": 12,
   "metadata": {},
   "outputs": [
    {
     "name": "stdout",
     "output_type": "stream",
     "text": [
      "=== 중복 데이터 확인 ===\n",
      "Games 데이터 중복 행: 29\n",
      "Teams 데이터 중복 행: 0\n"
     ]
    }
   ],
   "source": [
    "# 중복 데이터 확인\n",
    "print(\"=== 중복 데이터 확인 ===\")\n",
    "# 고유값 GAME_ID 기준으로 확인\n",
    "duplicate_games = games.duplicated(subset=['GAME_ID']).sum()\n",
    "print(f\"Games 데이터 중복 행: {duplicate_games}\")\n",
    "\n",
    "# 고유값 TEAM_ID 기준으로 확인\n",
    "duplicate_teams = teams.duplicated(subset=['TEAM_ID']).sum()\n",
    "print(f\"Teams 데이터 중복 행: {duplicate_teams}\")\n"
   ]
  },
  {
   "cell_type": "markdown",
   "metadata": {},
   "source": [
    " ### 문제 2-4: 데이터 전처리"
   ]
  },
  {
   "cell_type": "code",
   "execution_count": 13,
   "metadata": {},
   "outputs": [
    {
     "name": "stdout",
     "output_type": "stream",
     "text": [
      "제거된 중복 행: 29\n"
     ]
    }
   ],
   "source": [
    "# Step 1: 중복 제거\n",
    "before_rows = len(games)\n",
    "games = games.drop_duplicates(subset=['GAME_ID'])\n",
    "after_rows = len(games)\n",
    "print(f\"제거된 중복 행: {before_rows - after_rows}\")\n"
   ]
  },
  {
   "cell_type": "code",
   "execution_count": 14,
   "metadata": {},
   "outputs": [
    {
     "name": "stdout",
     "output_type": "stream",
     "text": [
      "승패 정보가 없는 게임: 0개\n"
     ]
    }
   ],
   "source": [
    "# Step 2: 결측치 처리 - 승패 정보가 없는 게임 확인\n",
    "# HOME_TEAM_WINS가 결측인 경우 확인\n",
    "missing_wins = games[games['HOME_TEAM_WINS'].isnull()]\n",
    "print(f\"승패 정보가 없는 게임: {len(missing_wins)}개\")\n"
   ]
  },
  {
   "cell_type": "code",
   "execution_count": 15,
   "metadata": {},
   "outputs": [
    {
     "name": "stdout",
     "output_type": "stream",
     "text": [
      "점수 결측치:\n",
      "PTS_home    99\n",
      "PTS_away    99\n",
      "dtype: int64\n",
      "\n",
      "점수가 없는 게임: 99개\n",
      "점수가 있는 게임만 필터링: 26523개\n"
     ]
    }
   ],
   "source": [
    "# Step 3: 점수 데이터 확인 및 처리\n",
    "# 점수 컬럼 결측치 확인\n",
    "score_missing = games[['PTS_home', 'PTS_away']].isnull().sum()\n",
    "print(\"점수 결측치:\")\n",
    "print(score_missing)\n",
    "\n",
    "# 점수가 없는 게임 확인\n",
    "games_no_score = games[(games['PTS_home'].isnull()) | (games['PTS_away'].isnull())]\n",
    "print(f\"\\n점수가 없는 게임: {len(games_no_score)}개\")\n",
    "\n",
    "if len(games_no_score) > 0:\n",
    "    # 클러치 게임 분석을 위해 점수가 필요하므로 해당 게임 제거\n",
    "    games_with_score = games.dropna(subset=['PTS_home', 'PTS_away'])\n",
    "    print(f\"점수가 있는 게임만 필터링: {len(games_with_score)}개\")\n",
    "    games = games_with_score\n"
   ]
  },
  {
   "cell_type": "markdown",
   "metadata": {},
   "source": [
    " ### 문제 2-5: 파생 변수 생성"
   ]
  },
  {
   "cell_type": "code",
   "execution_count": 16,
   "metadata": {},
   "outputs": [
    {
     "name": "stdout",
     "output_type": "stream",
     "text": [
      "Series([], Name: TEAM_ID, dtype: int64)\n"
     ]
    }
   ],
   "source": [
    "# Step 1: games테이블의 팀 이름에 대한 컬럼 생성\n",
    "# - teams 테이블의 도시명 활용\n",
    "# map : 함수로 값을 새롭게 생성\n",
    "\n",
    "# 디트로이트 팀의 id를 확인\n",
    "teams[teams['CITY'].str.contains('Detroit', case=False)]\n",
    "\n",
    "detroit_id = teams[teams['CITY'].str.contains('Detorit', case = False)]['TEAM_ID']\n",
    "print (detroit_id)"
   ]
  },
  {
   "cell_type": "markdown",
   "metadata": {},
   "source": [
    " ## 3단계: 데이터 탐색"
   ]
  },
  {
   "cell_type": "markdown",
   "metadata": {},
   "source": [
    " ### 문제 3-1: 주요 컬럼 이해하기"
   ]
  },
  {
   "cell_type": "code",
   "execution_count": null,
   "metadata": {},
   "outputs": [
    {
     "data": {
      "text/plain": [
       "{1610612737: 'Atlanta',\n",
       " 1610612738: 'Boston',\n",
       " 1610612740: 'New Orleans',\n",
       " 1610612741: 'Chicago',\n",
       " 1610612742: 'Dallas',\n",
       " 1610612743: 'Denver',\n",
       " 1610612745: 'Houston',\n",
       " 1610612746: 'Los Angeles',\n",
       " 1610612747: 'Los Angeles',\n",
       " 1610612748: 'Miami',\n",
       " 1610612749: 'Milwaukee',\n",
       " 1610612750: 'Minnesota',\n",
       " 1610612751: 'Brooklyn',\n",
       " 1610612752: 'New York',\n",
       " 1610612753: 'Orlando',\n",
       " 1610612754: 'Indiana',\n",
       " 1610612755: 'Philadelphia',\n",
       " 1610612756: 'Phoenix',\n",
       " 1610612757: 'Portland',\n",
       " 1610612758: 'Sacramento',\n",
       " 1610612759: 'San Antonio',\n",
       " 1610612760: 'Oklahoma City',\n",
       " 1610612761: 'Toronto',\n",
       " 1610612762: 'Utah',\n",
       " 1610612763: 'Memphis',\n",
       " 1610612764: 'Washington',\n",
       " 1610612765: 'Detroit',\n",
       " 1610612766: 'Charlotte',\n",
       " 1610612739: 'Cleveland',\n",
       " 1610612744: 'Golden State'}"
      ]
     },
     "execution_count": 22,
     "metadata": {},
     "output_type": "execute_result"
    }
   ],
   "source": [
    "# 팀 도시 이름 매핑 - 딕셔너리\n",
    "# ID를 키값, City 값으로 지정\n",
    "team_mapping = dict(zip(teams['TEAM_ID'], teams['CITY']))\n",
    "team_mapping\n",
    "\n",
    "games['HOME_TEAM'] = games['HOME_TEAM_ID'].map(team_mapping)\n"
   ]
  },
  {
   "cell_type": "markdown",
   "metadata": {},
   "source": [
    " ## 4단계: 모든 팀 승률 계산 (GroupBy, Pivot Table)\n",
    "\n",
    "- 4-1: GroupBy \n",
    "    - 직접 단계적 풀이 도출 또는 AI 검색으로 도출\n",
    "\n",
    "- 4-2: Pivot Table (과제)\n",
    "    - 직접 단계적 풀이 도출 또는 AI 검색으로 도출"
   ]
  },
  {
   "cell_type": "markdown",
   "metadata": {},
   "source": [
    " ### 문제 4-1: GroupBy를 사용한 승률 계산"
   ]
  },
  {
   "cell_type": "code",
   "execution_count": 17,
   "metadata": {},
   "outputs": [],
   "source": [
    "# Step 1: 홈팀 기준 집계\n"
   ]
  },
  {
   "cell_type": "code",
   "execution_count": 18,
   "metadata": {},
   "outputs": [],
   "source": [
    "# Step 2: 원정팀 기준 집계\n"
   ]
  },
  {
   "cell_type": "code",
   "execution_count": 19,
   "metadata": {},
   "outputs": [],
   "source": [
    "# Step 3: 홈과 원정 통합\n"
   ]
  },
  {
   "cell_type": "code",
   "execution_count": 20,
   "metadata": {},
   "outputs": [],
   "source": [
    "# Step 4: 정렬\n"
   ]
  },
  {
   "cell_type": "markdown",
   "metadata": {},
   "source": [
    " ### 문제 4-2: Pivot Table을 사용한 승률 계산 (제공)"
   ]
  },
  {
   "cell_type": "code",
   "execution_count": 21,
   "metadata": {},
   "outputs": [
    {
     "ename": "KeyError",
     "evalue": "'HOME_TEAM'",
     "output_type": "error",
     "traceback": [
      "\u001b[0;31m---------------------------------------------------------------------------\u001b[0m",
      "\u001b[0;31mKeyError\u001b[0m                                  Traceback (most recent call last)",
      "Cell \u001b[0;32mIn[21], line 2\u001b[0m\n\u001b[1;32m      1\u001b[0m \u001b[38;5;66;03m# Step 1: 홈 게임 집계\u001b[39;00m\n\u001b[0;32m----> 2\u001b[0m home_stats \u001b[38;5;241m=\u001b[39m \u001b[43mgames\u001b[49m\u001b[38;5;241;43m.\u001b[39;49m\u001b[43mpivot_table\u001b[49m\u001b[43m(\u001b[49m\n\u001b[1;32m      3\u001b[0m \u001b[43m    \u001b[49m\u001b[43mindex\u001b[49m\u001b[38;5;241;43m=\u001b[39;49m\u001b[38;5;124;43m'\u001b[39;49m\u001b[38;5;124;43mHOME_TEAM\u001b[39;49m\u001b[38;5;124;43m'\u001b[39;49m\u001b[43m,\u001b[49m\n\u001b[1;32m      4\u001b[0m \u001b[43m    \u001b[49m\u001b[43mvalues\u001b[49m\u001b[38;5;241;43m=\u001b[39;49m\u001b[38;5;124;43m'\u001b[39;49m\u001b[38;5;124;43mHOME_TEAM_WINS\u001b[39;49m\u001b[38;5;124;43m'\u001b[39;49m\u001b[43m,\u001b[49m\n\u001b[1;32m      5\u001b[0m \u001b[43m    \u001b[49m\u001b[43maggfunc\u001b[49m\u001b[38;5;241;43m=\u001b[39;49m\u001b[43m[\u001b[49m\u001b[38;5;124;43m'\u001b[39;49m\u001b[38;5;124;43msum\u001b[39;49m\u001b[38;5;124;43m'\u001b[39;49m\u001b[43m,\u001b[49m\u001b[43m \u001b[49m\u001b[38;5;124;43m'\u001b[39;49m\u001b[38;5;124;43mcount\u001b[39;49m\u001b[38;5;124;43m'\u001b[39;49m\u001b[43m]\u001b[49m\n\u001b[1;32m      6\u001b[0m \u001b[43m)\u001b[49m\n\u001b[1;32m      7\u001b[0m home_stats\u001b[38;5;241m.\u001b[39mcolumns \u001b[38;5;241m=\u001b[39m [\u001b[38;5;124m'\u001b[39m\u001b[38;5;124mhome_wins\u001b[39m\u001b[38;5;124m'\u001b[39m, \u001b[38;5;124m'\u001b[39m\u001b[38;5;124mhome_games\u001b[39m\u001b[38;5;124m'\u001b[39m]\n\u001b[1;32m      8\u001b[0m \u001b[38;5;28mprint\u001b[39m(\u001b[38;5;124m\"\u001b[39m\u001b[38;5;124m홈 게임 집계 완료\u001b[39m\u001b[38;5;124m\"\u001b[39m)\n",
      "File \u001b[0;32m/Library/Frameworks/Python.framework/Versions/3.10/lib/python3.10/site-packages/pandas/core/frame.py:9516\u001b[0m, in \u001b[0;36mDataFrame.pivot_table\u001b[0;34m(self, values, index, columns, aggfunc, fill_value, margins, dropna, margins_name, observed, sort)\u001b[0m\n\u001b[1;32m   9499\u001b[0m \u001b[38;5;129m@Substitution\u001b[39m(\u001b[38;5;124m\"\u001b[39m\u001b[38;5;124m\"\u001b[39m)\n\u001b[1;32m   9500\u001b[0m \u001b[38;5;129m@Appender\u001b[39m(_shared_docs[\u001b[38;5;124m\"\u001b[39m\u001b[38;5;124mpivot_table\u001b[39m\u001b[38;5;124m\"\u001b[39m])\n\u001b[1;32m   9501\u001b[0m \u001b[38;5;28;01mdef\u001b[39;00m\u001b[38;5;250m \u001b[39m\u001b[38;5;21mpivot_table\u001b[39m(\n\u001b[0;32m   (...)\u001b[0m\n\u001b[1;32m   9512\u001b[0m     sort: \u001b[38;5;28mbool\u001b[39m \u001b[38;5;241m=\u001b[39m \u001b[38;5;28;01mTrue\u001b[39;00m,\n\u001b[1;32m   9513\u001b[0m ) \u001b[38;5;241m-\u001b[39m\u001b[38;5;241m>\u001b[39m DataFrame:\n\u001b[1;32m   9514\u001b[0m     \u001b[38;5;28;01mfrom\u001b[39;00m\u001b[38;5;250m \u001b[39m\u001b[38;5;21;01mpandas\u001b[39;00m\u001b[38;5;21;01m.\u001b[39;00m\u001b[38;5;21;01mcore\u001b[39;00m\u001b[38;5;21;01m.\u001b[39;00m\u001b[38;5;21;01mreshape\u001b[39;00m\u001b[38;5;21;01m.\u001b[39;00m\u001b[38;5;21;01mpivot\u001b[39;00m\u001b[38;5;250m \u001b[39m\u001b[38;5;28;01mimport\u001b[39;00m pivot_table\n\u001b[0;32m-> 9516\u001b[0m     \u001b[38;5;28;01mreturn\u001b[39;00m \u001b[43mpivot_table\u001b[49m\u001b[43m(\u001b[49m\n\u001b[1;32m   9517\u001b[0m \u001b[43m        \u001b[49m\u001b[38;5;28;43mself\u001b[39;49m\u001b[43m,\u001b[49m\n\u001b[1;32m   9518\u001b[0m \u001b[43m        \u001b[49m\u001b[43mvalues\u001b[49m\u001b[38;5;241;43m=\u001b[39;49m\u001b[43mvalues\u001b[49m\u001b[43m,\u001b[49m\n\u001b[1;32m   9519\u001b[0m \u001b[43m        \u001b[49m\u001b[43mindex\u001b[49m\u001b[38;5;241;43m=\u001b[39;49m\u001b[43mindex\u001b[49m\u001b[43m,\u001b[49m\n\u001b[1;32m   9520\u001b[0m \u001b[43m        \u001b[49m\u001b[43mcolumns\u001b[49m\u001b[38;5;241;43m=\u001b[39;49m\u001b[43mcolumns\u001b[49m\u001b[43m,\u001b[49m\n\u001b[1;32m   9521\u001b[0m \u001b[43m        \u001b[49m\u001b[43maggfunc\u001b[49m\u001b[38;5;241;43m=\u001b[39;49m\u001b[43maggfunc\u001b[49m\u001b[43m,\u001b[49m\n\u001b[1;32m   9522\u001b[0m \u001b[43m        \u001b[49m\u001b[43mfill_value\u001b[49m\u001b[38;5;241;43m=\u001b[39;49m\u001b[43mfill_value\u001b[49m\u001b[43m,\u001b[49m\n\u001b[1;32m   9523\u001b[0m \u001b[43m        \u001b[49m\u001b[43mmargins\u001b[49m\u001b[38;5;241;43m=\u001b[39;49m\u001b[43mmargins\u001b[49m\u001b[43m,\u001b[49m\n\u001b[1;32m   9524\u001b[0m \u001b[43m        \u001b[49m\u001b[43mdropna\u001b[49m\u001b[38;5;241;43m=\u001b[39;49m\u001b[43mdropna\u001b[49m\u001b[43m,\u001b[49m\n\u001b[1;32m   9525\u001b[0m \u001b[43m        \u001b[49m\u001b[43mmargins_name\u001b[49m\u001b[38;5;241;43m=\u001b[39;49m\u001b[43mmargins_name\u001b[49m\u001b[43m,\u001b[49m\n\u001b[1;32m   9526\u001b[0m \u001b[43m        \u001b[49m\u001b[43mobserved\u001b[49m\u001b[38;5;241;43m=\u001b[39;49m\u001b[43mobserved\u001b[49m\u001b[43m,\u001b[49m\n\u001b[1;32m   9527\u001b[0m \u001b[43m        \u001b[49m\u001b[43msort\u001b[49m\u001b[38;5;241;43m=\u001b[39;49m\u001b[43msort\u001b[49m\u001b[43m,\u001b[49m\n\u001b[1;32m   9528\u001b[0m \u001b[43m    \u001b[49m\u001b[43m)\u001b[49m\n",
      "File \u001b[0;32m/Library/Frameworks/Python.framework/Versions/3.10/lib/python3.10/site-packages/pandas/core/reshape/pivot.py:83\u001b[0m, in \u001b[0;36mpivot_table\u001b[0;34m(data, values, index, columns, aggfunc, fill_value, margins, dropna, margins_name, observed, sort)\u001b[0m\n\u001b[1;32m     81\u001b[0m keys \u001b[38;5;241m=\u001b[39m []\n\u001b[1;32m     82\u001b[0m \u001b[38;5;28;01mfor\u001b[39;00m func \u001b[38;5;129;01min\u001b[39;00m aggfunc:\n\u001b[0;32m---> 83\u001b[0m     _table \u001b[38;5;241m=\u001b[39m \u001b[43m__internal_pivot_table\u001b[49m\u001b[43m(\u001b[49m\n\u001b[1;32m     84\u001b[0m \u001b[43m        \u001b[49m\u001b[43mdata\u001b[49m\u001b[43m,\u001b[49m\n\u001b[1;32m     85\u001b[0m \u001b[43m        \u001b[49m\u001b[43mvalues\u001b[49m\u001b[38;5;241;43m=\u001b[39;49m\u001b[43mvalues\u001b[49m\u001b[43m,\u001b[49m\n\u001b[1;32m     86\u001b[0m \u001b[43m        \u001b[49m\u001b[43mindex\u001b[49m\u001b[38;5;241;43m=\u001b[39;49m\u001b[43mindex\u001b[49m\u001b[43m,\u001b[49m\n\u001b[1;32m     87\u001b[0m \u001b[43m        \u001b[49m\u001b[43mcolumns\u001b[49m\u001b[38;5;241;43m=\u001b[39;49m\u001b[43mcolumns\u001b[49m\u001b[43m,\u001b[49m\n\u001b[1;32m     88\u001b[0m \u001b[43m        \u001b[49m\u001b[43mfill_value\u001b[49m\u001b[38;5;241;43m=\u001b[39;49m\u001b[43mfill_value\u001b[49m\u001b[43m,\u001b[49m\n\u001b[1;32m     89\u001b[0m \u001b[43m        \u001b[49m\u001b[43maggfunc\u001b[49m\u001b[38;5;241;43m=\u001b[39;49m\u001b[43mfunc\u001b[49m\u001b[43m,\u001b[49m\n\u001b[1;32m     90\u001b[0m \u001b[43m        \u001b[49m\u001b[43mmargins\u001b[49m\u001b[38;5;241;43m=\u001b[39;49m\u001b[43mmargins\u001b[49m\u001b[43m,\u001b[49m\n\u001b[1;32m     91\u001b[0m \u001b[43m        \u001b[49m\u001b[43mdropna\u001b[49m\u001b[38;5;241;43m=\u001b[39;49m\u001b[43mdropna\u001b[49m\u001b[43m,\u001b[49m\n\u001b[1;32m     92\u001b[0m \u001b[43m        \u001b[49m\u001b[43mmargins_name\u001b[49m\u001b[38;5;241;43m=\u001b[39;49m\u001b[43mmargins_name\u001b[49m\u001b[43m,\u001b[49m\n\u001b[1;32m     93\u001b[0m \u001b[43m        \u001b[49m\u001b[43mobserved\u001b[49m\u001b[38;5;241;43m=\u001b[39;49m\u001b[43mobserved\u001b[49m\u001b[43m,\u001b[49m\n\u001b[1;32m     94\u001b[0m \u001b[43m        \u001b[49m\u001b[43msort\u001b[49m\u001b[38;5;241;43m=\u001b[39;49m\u001b[43msort\u001b[49m\u001b[43m,\u001b[49m\n\u001b[1;32m     95\u001b[0m \u001b[43m    \u001b[49m\u001b[43m)\u001b[49m\n\u001b[1;32m     96\u001b[0m     pieces\u001b[38;5;241m.\u001b[39mappend(_table)\n\u001b[1;32m     97\u001b[0m     keys\u001b[38;5;241m.\u001b[39mappend(\u001b[38;5;28mgetattr\u001b[39m(func, \u001b[38;5;124m\"\u001b[39m\u001b[38;5;124m__name__\u001b[39m\u001b[38;5;124m\"\u001b[39m, func))\n",
      "File \u001b[0;32m/Library/Frameworks/Python.framework/Versions/3.10/lib/python3.10/site-packages/pandas/core/reshape/pivot.py:172\u001b[0m, in \u001b[0;36m__internal_pivot_table\u001b[0;34m(data, values, index, columns, aggfunc, fill_value, margins, dropna, margins_name, observed, sort)\u001b[0m\n\u001b[1;32m    169\u001b[0m     values \u001b[38;5;241m=\u001b[39m \u001b[38;5;28mlist\u001b[39m(values)\n\u001b[1;32m    171\u001b[0m observed_bool \u001b[38;5;241m=\u001b[39m \u001b[38;5;28;01mFalse\u001b[39;00m \u001b[38;5;28;01mif\u001b[39;00m observed \u001b[38;5;129;01mis\u001b[39;00m lib\u001b[38;5;241m.\u001b[39mno_default \u001b[38;5;28;01melse\u001b[39;00m observed\n\u001b[0;32m--> 172\u001b[0m grouped \u001b[38;5;241m=\u001b[39m \u001b[43mdata\u001b[49m\u001b[38;5;241;43m.\u001b[39;49m\u001b[43mgroupby\u001b[49m\u001b[43m(\u001b[49m\u001b[43mkeys\u001b[49m\u001b[43m,\u001b[49m\u001b[43m \u001b[49m\u001b[43mobserved\u001b[49m\u001b[38;5;241;43m=\u001b[39;49m\u001b[43mobserved_bool\u001b[49m\u001b[43m,\u001b[49m\u001b[43m \u001b[49m\u001b[43msort\u001b[49m\u001b[38;5;241;43m=\u001b[39;49m\u001b[43msort\u001b[49m\u001b[43m,\u001b[49m\u001b[43m \u001b[49m\u001b[43mdropna\u001b[49m\u001b[38;5;241;43m=\u001b[39;49m\u001b[43mdropna\u001b[49m\u001b[43m)\u001b[49m\n\u001b[1;32m    173\u001b[0m \u001b[38;5;28;01mif\u001b[39;00m observed \u001b[38;5;129;01mis\u001b[39;00m lib\u001b[38;5;241m.\u001b[39mno_default \u001b[38;5;129;01mand\u001b[39;00m \u001b[38;5;28many\u001b[39m(\n\u001b[1;32m    174\u001b[0m     ping\u001b[38;5;241m.\u001b[39m_passed_categorical \u001b[38;5;28;01mfor\u001b[39;00m ping \u001b[38;5;129;01min\u001b[39;00m grouped\u001b[38;5;241m.\u001b[39m_grouper\u001b[38;5;241m.\u001b[39mgroupings\n\u001b[1;32m    175\u001b[0m ):\n\u001b[1;32m    176\u001b[0m     warnings\u001b[38;5;241m.\u001b[39mwarn(\n\u001b[1;32m    177\u001b[0m         \u001b[38;5;124m\"\u001b[39m\u001b[38;5;124mThe default value of observed=False is deprecated and will change \u001b[39m\u001b[38;5;124m\"\u001b[39m\n\u001b[1;32m    178\u001b[0m         \u001b[38;5;124m\"\u001b[39m\u001b[38;5;124mto observed=True in a future version of pandas. Specify \u001b[39m\u001b[38;5;124m\"\u001b[39m\n\u001b[0;32m   (...)\u001b[0m\n\u001b[1;32m    181\u001b[0m         stacklevel\u001b[38;5;241m=\u001b[39mfind_stack_level(),\n\u001b[1;32m    182\u001b[0m     )\n",
      "File \u001b[0;32m/Library/Frameworks/Python.framework/Versions/3.10/lib/python3.10/site-packages/pandas/core/frame.py:9190\u001b[0m, in \u001b[0;36mDataFrame.groupby\u001b[0;34m(self, by, axis, level, as_index, sort, group_keys, observed, dropna)\u001b[0m\n\u001b[1;32m   9187\u001b[0m \u001b[38;5;28;01mif\u001b[39;00m level \u001b[38;5;129;01mis\u001b[39;00m \u001b[38;5;28;01mNone\u001b[39;00m \u001b[38;5;129;01mand\u001b[39;00m by \u001b[38;5;129;01mis\u001b[39;00m \u001b[38;5;28;01mNone\u001b[39;00m:\n\u001b[1;32m   9188\u001b[0m     \u001b[38;5;28;01mraise\u001b[39;00m \u001b[38;5;167;01mTypeError\u001b[39;00m(\u001b[38;5;124m\"\u001b[39m\u001b[38;5;124mYou have to supply one of \u001b[39m\u001b[38;5;124m'\u001b[39m\u001b[38;5;124mby\u001b[39m\u001b[38;5;124m'\u001b[39m\u001b[38;5;124m and \u001b[39m\u001b[38;5;124m'\u001b[39m\u001b[38;5;124mlevel\u001b[39m\u001b[38;5;124m'\u001b[39m\u001b[38;5;124m\"\u001b[39m)\n\u001b[0;32m-> 9190\u001b[0m \u001b[38;5;28;01mreturn\u001b[39;00m \u001b[43mDataFrameGroupBy\u001b[49m\u001b[43m(\u001b[49m\n\u001b[1;32m   9191\u001b[0m \u001b[43m    \u001b[49m\u001b[43mobj\u001b[49m\u001b[38;5;241;43m=\u001b[39;49m\u001b[38;5;28;43mself\u001b[39;49m\u001b[43m,\u001b[49m\n\u001b[1;32m   9192\u001b[0m \u001b[43m    \u001b[49m\u001b[43mkeys\u001b[49m\u001b[38;5;241;43m=\u001b[39;49m\u001b[43mby\u001b[49m\u001b[43m,\u001b[49m\n\u001b[1;32m   9193\u001b[0m \u001b[43m    \u001b[49m\u001b[43maxis\u001b[49m\u001b[38;5;241;43m=\u001b[39;49m\u001b[43maxis\u001b[49m\u001b[43m,\u001b[49m\n\u001b[1;32m   9194\u001b[0m \u001b[43m    \u001b[49m\u001b[43mlevel\u001b[49m\u001b[38;5;241;43m=\u001b[39;49m\u001b[43mlevel\u001b[49m\u001b[43m,\u001b[49m\n\u001b[1;32m   9195\u001b[0m \u001b[43m    \u001b[49m\u001b[43mas_index\u001b[49m\u001b[38;5;241;43m=\u001b[39;49m\u001b[43mas_index\u001b[49m\u001b[43m,\u001b[49m\n\u001b[1;32m   9196\u001b[0m \u001b[43m    \u001b[49m\u001b[43msort\u001b[49m\u001b[38;5;241;43m=\u001b[39;49m\u001b[43msort\u001b[49m\u001b[43m,\u001b[49m\n\u001b[1;32m   9197\u001b[0m \u001b[43m    \u001b[49m\u001b[43mgroup_keys\u001b[49m\u001b[38;5;241;43m=\u001b[39;49m\u001b[43mgroup_keys\u001b[49m\u001b[43m,\u001b[49m\n\u001b[1;32m   9198\u001b[0m \u001b[43m    \u001b[49m\u001b[43mobserved\u001b[49m\u001b[38;5;241;43m=\u001b[39;49m\u001b[43mobserved\u001b[49m\u001b[43m,\u001b[49m\n\u001b[1;32m   9199\u001b[0m \u001b[43m    \u001b[49m\u001b[43mdropna\u001b[49m\u001b[38;5;241;43m=\u001b[39;49m\u001b[43mdropna\u001b[49m\u001b[43m,\u001b[49m\n\u001b[1;32m   9200\u001b[0m \u001b[43m\u001b[49m\u001b[43m)\u001b[49m\n",
      "File \u001b[0;32m/Library/Frameworks/Python.framework/Versions/3.10/lib/python3.10/site-packages/pandas/core/groupby/groupby.py:1330\u001b[0m, in \u001b[0;36mGroupBy.__init__\u001b[0;34m(self, obj, keys, axis, level, grouper, exclusions, selection, as_index, sort, group_keys, observed, dropna)\u001b[0m\n\u001b[1;32m   1327\u001b[0m \u001b[38;5;28mself\u001b[39m\u001b[38;5;241m.\u001b[39mdropna \u001b[38;5;241m=\u001b[39m dropna\n\u001b[1;32m   1329\u001b[0m \u001b[38;5;28;01mif\u001b[39;00m grouper \u001b[38;5;129;01mis\u001b[39;00m \u001b[38;5;28;01mNone\u001b[39;00m:\n\u001b[0;32m-> 1330\u001b[0m     grouper, exclusions, obj \u001b[38;5;241m=\u001b[39m \u001b[43mget_grouper\u001b[49m\u001b[43m(\u001b[49m\n\u001b[1;32m   1331\u001b[0m \u001b[43m        \u001b[49m\u001b[43mobj\u001b[49m\u001b[43m,\u001b[49m\n\u001b[1;32m   1332\u001b[0m \u001b[43m        \u001b[49m\u001b[43mkeys\u001b[49m\u001b[43m,\u001b[49m\n\u001b[1;32m   1333\u001b[0m \u001b[43m        \u001b[49m\u001b[43maxis\u001b[49m\u001b[38;5;241;43m=\u001b[39;49m\u001b[43maxis\u001b[49m\u001b[43m,\u001b[49m\n\u001b[1;32m   1334\u001b[0m \u001b[43m        \u001b[49m\u001b[43mlevel\u001b[49m\u001b[38;5;241;43m=\u001b[39;49m\u001b[43mlevel\u001b[49m\u001b[43m,\u001b[49m\n\u001b[1;32m   1335\u001b[0m \u001b[43m        \u001b[49m\u001b[43msort\u001b[49m\u001b[38;5;241;43m=\u001b[39;49m\u001b[43msort\u001b[49m\u001b[43m,\u001b[49m\n\u001b[1;32m   1336\u001b[0m \u001b[43m        \u001b[49m\u001b[43mobserved\u001b[49m\u001b[38;5;241;43m=\u001b[39;49m\u001b[38;5;28;43;01mFalse\u001b[39;49;00m\u001b[43m \u001b[49m\u001b[38;5;28;43;01mif\u001b[39;49;00m\u001b[43m \u001b[49m\u001b[43mobserved\u001b[49m\u001b[43m \u001b[49m\u001b[38;5;129;43;01mis\u001b[39;49;00m\u001b[43m \u001b[49m\u001b[43mlib\u001b[49m\u001b[38;5;241;43m.\u001b[39;49m\u001b[43mno_default\u001b[49m\u001b[43m \u001b[49m\u001b[38;5;28;43;01melse\u001b[39;49;00m\u001b[43m \u001b[49m\u001b[43mobserved\u001b[49m\u001b[43m,\u001b[49m\n\u001b[1;32m   1337\u001b[0m \u001b[43m        \u001b[49m\u001b[43mdropna\u001b[49m\u001b[38;5;241;43m=\u001b[39;49m\u001b[38;5;28;43mself\u001b[39;49m\u001b[38;5;241;43m.\u001b[39;49m\u001b[43mdropna\u001b[49m\u001b[43m,\u001b[49m\n\u001b[1;32m   1338\u001b[0m \u001b[43m    \u001b[49m\u001b[43m)\u001b[49m\n\u001b[1;32m   1340\u001b[0m \u001b[38;5;28;01mif\u001b[39;00m observed \u001b[38;5;129;01mis\u001b[39;00m lib\u001b[38;5;241m.\u001b[39mno_default:\n\u001b[1;32m   1341\u001b[0m     \u001b[38;5;28;01mif\u001b[39;00m \u001b[38;5;28many\u001b[39m(ping\u001b[38;5;241m.\u001b[39m_passed_categorical \u001b[38;5;28;01mfor\u001b[39;00m ping \u001b[38;5;129;01min\u001b[39;00m grouper\u001b[38;5;241m.\u001b[39mgroupings):\n",
      "File \u001b[0;32m/Library/Frameworks/Python.framework/Versions/3.10/lib/python3.10/site-packages/pandas/core/groupby/grouper.py:1043\u001b[0m, in \u001b[0;36mget_grouper\u001b[0;34m(obj, key, axis, level, sort, observed, validate, dropna)\u001b[0m\n\u001b[1;32m   1041\u001b[0m         in_axis, level, gpr \u001b[38;5;241m=\u001b[39m \u001b[38;5;28;01mFalse\u001b[39;00m, gpr, \u001b[38;5;28;01mNone\u001b[39;00m\n\u001b[1;32m   1042\u001b[0m     \u001b[38;5;28;01melse\u001b[39;00m:\n\u001b[0;32m-> 1043\u001b[0m         \u001b[38;5;28;01mraise\u001b[39;00m \u001b[38;5;167;01mKeyError\u001b[39;00m(gpr)\n\u001b[1;32m   1044\u001b[0m \u001b[38;5;28;01melif\u001b[39;00m \u001b[38;5;28misinstance\u001b[39m(gpr, Grouper) \u001b[38;5;129;01mand\u001b[39;00m gpr\u001b[38;5;241m.\u001b[39mkey \u001b[38;5;129;01mis\u001b[39;00m \u001b[38;5;129;01mnot\u001b[39;00m \u001b[38;5;28;01mNone\u001b[39;00m:\n\u001b[1;32m   1045\u001b[0m     \u001b[38;5;66;03m# Add key to exclusions\u001b[39;00m\n\u001b[1;32m   1046\u001b[0m     exclusions\u001b[38;5;241m.\u001b[39madd(gpr\u001b[38;5;241m.\u001b[39mkey)\n",
      "\u001b[0;31mKeyError\u001b[0m: 'HOME_TEAM'"
     ]
    }
   ],
   "source": [
    "# Step 1: 홈 게임 집계\n",
    "home_stats = games.pivot_table(\n",
    "    index='HOME_TEAM',\n",
    "    values='HOME_TEAM_WINS',\n",
    "    aggfunc=['sum', 'count']\n",
    ")\n",
    "home_stats.columns = ['home_wins', 'home_games']\n",
    "print(\"홈 게임 집계 완료\")\n",
    "\n",
    "# Step 2: 원정 게임 집계 (승패 반전)\n",
    "games['AWAY_WINS'] = 1 - games['HOME_TEAM_WINS']\n",
    "away_stats = games.pivot_table(\n",
    "    index='VISITOR_TEAM',\n",
    "    values='AWAY_WINS',\n",
    "    aggfunc=['sum', 'count']\n",
    ")\n",
    "away_stats.columns = ['away_wins', 'away_games']\n",
    "print(\"원정 게임 집계 완료\")\n",
    "\n",
    "# Step 3: 인덱스 기준 병합\n",
    "team_stats_pivot = home_stats.join(away_stats, how='outer').fillna(0)\n",
    "team_stats_pivot['total_wins'] = team_stats_pivot['home_wins'] + team_stats_pivot['away_wins']\n",
    "team_stats_pivot['total_games'] = team_stats_pivot['home_games'] + team_stats_pivot['away_games']\n",
    "team_stats_pivot['winrate'] = team_stats_pivot['total_wins'] / team_stats_pivot['total_games']\n",
    "\n",
    "# 정렬 및 인덱스 리셋\n",
    "team_stats_pivot = team_stats_pivot.sort_values('winrate', ascending=False).reset_index()\n",
    "team_stats_pivot.rename(columns={'HOME_TEAM': 'team'}, inplace=True)\n",
    "    \n",
    "print(\"\\n완료! 상위 3팀:\")\n",
    "display(team_stats_pivot.head(3))"
   ]
  },
  {
   "cell_type": "markdown",
   "metadata": {},
   "source": [
    " ### 문제 4-3: 두 방법 결과 비교"
   ]
  },
  {
   "cell_type": "code",
   "execution_count": null,
   "metadata": {},
   "outputs": [],
   "source": [
    "# GroupBy와 Pivot Table 결과 비교\n",
    "comparison = pd.merge(\n",
    "    team_stats_df[['team', 'winrate']].rename(columns={'winrate': 'groupby_winrate'}),\n",
    "    team_stats_pivot[['team', 'winrate']].rename(columns={'winrate': 'pivot_winrate'}),\n",
    "    on='team'\n",
    ")\n",
    "\n",
    "comparison['difference'] = abs(comparison['groupby_winrate'] - comparison['pivot_winrate'])\n",
    "\n",
    "print(\"두 방법의 승률 차이 확인:\")\n",
    "print(f\"최대 차이: {comparison['difference'].max():.10f}\")\n",
    "print(f\"평균 차이: {comparison['difference'].mean():.10f}\")\n",
    "print(f\"모든 값이 동일: {comparison['difference'].max() < 1e-10}\")\n",
    "\n",
    "print(\"\\n비교 샘플 (상위 5팀):\")\n",
    "display(comparison.head())"
   ]
  },
  {
   "cell_type": "markdown",
   "metadata": {},
   "source": [
    " ## 5단계: 검증을 위한 디트로이트 팀 승률 직접 계산\n",
    "\n",
    "- 5단계: 검증을 위한 디트로이트 팀 승률 계산\n",
    "    - 직접 도출"
   ]
  },
  {
   "cell_type": "markdown",
   "metadata": {},
   "source": [
    " ### 문제 5-1: 홈 게임 분석"
   ]
  },
  {
   "cell_type": "code",
   "execution_count": null,
   "metadata": {},
   "outputs": [],
   "source": [
    "# Step 5-1-1: 디트로이트가 홈팀인 게임 찾기\n"
   ]
  },
  {
   "cell_type": "code",
   "execution_count": null,
   "metadata": {},
   "outputs": [],
   "source": [
    "# Step 5-1-2: 홈 게임 승리 수 계산\n"
   ]
  },
  {
   "cell_type": "code",
   "execution_count": null,
   "metadata": {},
   "outputs": [],
   "source": [
    "# Step 5-1-3: 홈 승률 계산\n"
   ]
  },
  {
   "cell_type": "markdown",
   "metadata": {},
   "source": [
    " ### 문제 5-2: 원정 게임 분석"
   ]
  },
  {
   "cell_type": "code",
   "execution_count": null,
   "metadata": {},
   "outputs": [],
   "source": [
    "# Step 5-2-1: 디트로이트가 원정팀인 게임 찾기\n"
   ]
  },
  {
   "cell_type": "code",
   "execution_count": null,
   "metadata": {},
   "outputs": [],
   "source": [
    "# Step 5-2-2: 원정 게임 승패 판단\n"
   ]
  },
  {
   "cell_type": "code",
   "execution_count": null,
   "metadata": {},
   "outputs": [],
   "source": [
    "# Step 5-2-3: 원정 승률 계산"
   ]
  },
  {
   "cell_type": "markdown",
   "metadata": {},
   "source": [
    " ### 문제 5-3: 전체 승률 계산"
   ]
  },
  {
   "cell_type": "code",
   "execution_count": null,
   "metadata": {},
   "outputs": [],
   "source": [
    "# Step 5-3-1: 홈과 원정 통합\n"
   ]
  },
  {
   "cell_type": "code",
   "execution_count": null,
   "metadata": {},
   "outputs": [],
   "source": [
    "# Step 5-3-2: 전체 승률 계산\n"
   ]
  },
  {
   "cell_type": "code",
   "execution_count": null,
   "metadata": {},
   "outputs": [],
   "source": [
    "# Step 5-3-3: 검증 - GroupBy 결과와 비교\n"
   ]
  },
  {
   "cell_type": "markdown",
   "metadata": {},
   "source": [
    " ### 문제 5-4: 리그 내 위치 분석"
   ]
  },
  {
   "cell_type": "code",
   "execution_count": null,
   "metadata": {},
   "outputs": [],
   "source": [
    "# Step 5-4-1: 리그 평균 승률 계산\n"
   ]
  },
  {
   "cell_type": "code",
   "execution_count": null,
   "metadata": {},
   "outputs": [],
   "source": [
    "# Step 5-4-2: 디트로이트 순위 확인\n"
   ]
  },
  {
   "cell_type": "code",
   "execution_count": null,
   "metadata": {},
   "outputs": [],
   "source": [
    "# Step 5-4-3: 디트로이트와 리그 평균 비교\n"
   ]
  },
  {
   "cell_type": "markdown",
   "metadata": {},
   "source": [
    " ## 6단계: 전체 승률 비교 시각화"
   ]
  },
  {
   "cell_type": "markdown",
   "metadata": {},
   "source": [
    " ### 문제 6-1: 시각화 데이터 준비"
   ]
  },
  {
   "cell_type": "code",
   "execution_count": null,
   "metadata": {},
   "outputs": [],
   "source": [
    "# Step 6-1-1: 필요한 데이터 추출\n"
   ]
  },
  {
   "cell_type": "code",
   "execution_count": null,
   "metadata": {},
   "outputs": [],
   "source": [
    "# Step 6-1-2: 그래프용 데이터 구성\n"
   ]
  },
  {
   "cell_type": "markdown",
   "metadata": {},
   "source": [
    " ### 문제 6-2: 막대 그래프 생성"
   ]
  },
  {
   "cell_type": "code",
   "execution_count": null,
   "metadata": {},
   "outputs": [],
   "source": [
    "# 그래프 생성\n",
    "plt.figure(figsize=(12, 6))\n",
    "\n",
    "# 색상 설정 (디트로이트 강조)\n",
    "colors = ['#FF4444',  # 디트로이트 - 빨간색\n",
    "          '#666666',  # 리그 평균 - 회색\n",
    "          '#4CAF50', '#4CAF50', '#4CAF50',  # 상위팀 - 초록색\n",
    "          '#FFC107', '#FFC107', '#FFC107']  # 하위팀 - 노란색\n",
    "\n",
    "# 막대 그래프 생성\n",
    "bars = plt.bar(teams_labels, winrates, color=colors, alpha=0.8, edgecolor='black', linewidth=1.5)\n",
    "\n",
    "# 제목 및 레이블\n",
    "plt.title('NBA 팀별 승률 비교 (디트로이트 vs 리그 평균 vs 상하위팀)', \n",
    "          fontsize=16, fontweight='bold', pad=20)\n",
    "plt.ylabel('승률', fontsize=12)\n",
    "plt.xlabel('팀', fontsize=12)\n",
    "\n",
    "# 막대 위에 값 표시\n",
    "for bar, rate in zip(bars, winrates):\n",
    "    height = bar.get_height()\n",
    "    plt.text(bar.get_x() + bar.get_width()/2., height + 0.01,\n",
    "             f'{rate:.3f}\\n({rate*100:.1f}%)',\n",
    "             ha='center', va='bottom', fontsize=10, fontweight='bold')\n",
    "\n",
    "# 그래프 꾸미기\n",
    "plt.grid(True, axis='y', alpha=0.3, linestyle='--')\n",
    "plt.ylim(0, max(winrates) * 1.1)\n",
    "\n",
    "# 범례 추가\n",
    "legend_elements = [\n",
    "    plt.Rectangle((0,0),1,1, color='#FF4444', alpha=0.8, label='디트로이트'),\n",
    "    plt.Rectangle((0,0),1,1, color='#666666', alpha=0.8, label='리그 평균'),\n",
    "    plt.Rectangle((0,0),1,1, color='#4CAF50', alpha=0.8, label='상위 3팀'),\n",
    "    plt.Rectangle((0,0),1,1, color='#FFC107', alpha=0.8, label='하위 3팀')\n",
    "]\n",
    "plt.legend(handles=legend_elements, loc='upper right')\n",
    "\n",
    "# x축 레이블 회전\n",
    "plt.xticks(rotation=45, ha='right')\n",
    "\n",
    "# 레이아웃 조정 및 표시\n",
    "plt.tight_layout()\n",
    "plt.show()"
   ]
  },
  {
   "cell_type": "markdown",
   "metadata": {},
   "source": [
    " ---\n",
    "\n",
    " # 과제\n",
    "\n",
    " ---"
   ]
  },
  {
   "cell_type": "markdown",
   "metadata": {},
   "source": [
    " ## 7단계: 클러치 게임 식별 및 분석 (과제)\n",
    "\n",
    "\n",
    "\n",
    " ### 과제 내용\n",
    "\n",
    " 1. 클러치 게임 정의: 점수 차이가 5점 이하인 게임\n",
    "\n",
    " 2. 디트로이트의 클러치 게임 승률 계산\n",
    "\n",
    " 3. 모든 팀의 클러치 게임 승률 계산\n",
    "\n",
    " 4. 디트로이트와 하위 5팀 비교\n",
    "\n",
    "\n",
    "\n",
    " ### 힌트\n",
    "\n",
    " - 점수 차이: `abs(games['PTS_home'] - games['PTS_away'])`\n",
    "\n",
    " - 조건부 승패 판단: `np.where()` 활용\n",
    "\n",
    " - 클러치 게임에서도 홈/원정 구분 필요"
   ]
  },
  {
   "cell_type": "code",
   "execution_count": null,
   "metadata": {},
   "outputs": [],
   "source": [
    "# TODO: 7단계 과제를 구현하세요\n"
   ]
  },
  {
   "cell_type": "markdown",
   "metadata": {},
   "source": [
    " ## 8단계: 클러치 게임 결과 시각화 (과제)\n",
    "\n",
    "\n",
    "\n",
    " ### 과제 내용\n",
    "\n",
    " 1. 클러치 승률 비교 막대 그래프 (디트로이트 vs 하위 5팀)\n",
    "\n",
    "\n",
    "\n",
    " ### 요구 사항\n",
    "\n",
    " - 디트로이트는 다른 색으로 강조"
   ]
  },
  {
   "cell_type": "code",
   "execution_count": null,
   "metadata": {},
   "outputs": [],
   "source": [
    "# TODO: 8단계 과제를 구현하세요\n"
   ]
  },
  {
   "cell_type": "markdown",
   "metadata": {},
   "source": [
    " ## 분석 결과 요약 정리"
   ]
  },
  {
   "cell_type": "code",
   "execution_count": null,
   "metadata": {},
   "outputs": [],
   "source": []
  }
 ],
 "metadata": {
  "kernelspec": {
   "display_name": "Python 3",
   "language": "python",
   "name": "python3"
  },
  "language_info": {
   "codemirror_mode": {
    "name": "ipython",
    "version": 3
   },
   "file_extension": ".py",
   "mimetype": "text/x-python",
   "name": "python",
   "nbconvert_exporter": "python",
   "pygments_lexer": "ipython3",
   "version": "3.10.10"
  }
 },
 "nbformat": 4,
 "nbformat_minor": 2
}
